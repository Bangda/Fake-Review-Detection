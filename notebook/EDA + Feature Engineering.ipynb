{
 "cells": [
  {
   "cell_type": "markdown",
   "metadata": {},
   "source": [
    "# Fake Review Detection"
   ]
  },
  {
   "cell_type": "code",
   "execution_count": 23,
   "metadata": {},
   "outputs": [],
   "source": [
    "import pandas as pd\n",
    "pd.options.mode.chained_assignment = None\n",
    "import numpy as np\n",
    "import sqlite3\n",
    "import re\n",
    "from datetime import datetime\n",
    "from tqdm import tqdm\n",
    "from textblob import TextBlob\n",
    "\n",
    "import matplotlib.pyplot as plt\n",
    "import seaborn as sns\n",
    "from mpl_toolkits.mplot3d import Axes3D\n",
    "\n",
    "%matplotlib inline\n",
    "\n",
    "import nltk\n",
    "import swifter\n",
    "import string\n",
    "from nltk.corpus import stopwords\n",
    "from nltk.tokenize import word_tokenize\n",
    "from nltk.stem.porter import PorterStemmer\n",
    "from nltk.stem import WordNetLemmatizer\n",
    "from nltk.tokenize.treebank import TreebankWordDetokenizer\n",
    "from sklearn.feature_extraction.text import CountVectorizer\n",
    "from sklearn.feature_extraction.text import TfidfVectorizer\n",
    "from sklearn.feature_extraction.text import TfidfTransformer"
   ]
  },
  {
   "cell_type": "code",
   "execution_count": 25,
   "metadata": {},
   "outputs": [],
   "source": [
    "# load preprocessed data\n",
    "df = pd.read_pickle('../data/processed_df.pkl')"
   ]
  },
  {
   "cell_type": "markdown",
   "metadata": {},
   "source": [
    "# EDA\n",
    "## Overview"
   ]
  },
  {
   "cell_type": "code",
   "execution_count": 26,
   "metadata": {},
   "outputs": [
    {
     "data": {
      "text/plain": [
       "YR    223414\n",
       "NR    187966\n",
       "Name: flagged, dtype: int64"
      ]
     },
     "execution_count": 26,
     "metadata": {},
     "output_type": "execute_result"
    }
   ],
   "source": [
    "df.flagged.value_counts()"
   ]
  },
  {
   "cell_type": "markdown",
   "metadata": {},
   "source": [
    "Assign class labels.\n",
    "\n",
    "1： fake review, \n",
    "0:  true revoew"
   ]
  },
  {
   "cell_type": "code",
   "execution_count": 27,
   "metadata": {},
   "outputs": [],
   "source": [
    "df.loc[df['flagged'] == 'YR', 'flagged'] = 1\n",
    "df.loc[df['flagged'] == 'NR', 'flagged'] = 0"
   ]
  },
  {
   "cell_type": "code",
   "execution_count": 28,
   "metadata": {},
   "outputs": [],
   "source": [
    "real = df[df.flagged == 0]\n",
    "fake = df[df.flagged == 1]"
   ]
  },
  {
   "cell_type": "code",
   "execution_count": 29,
   "metadata": {},
   "outputs": [
    {
     "data": {
      "image/png": "[encoded data removed]",
      "text/plain": [
       "<Figure size 432x288 with 1 Axes>"
      ]
     },
     "metadata": {
      "needs_background": "light"
     },
     "output_type": "display_data"
    }
   ],
   "source": [
    "fig, ax = plt.subplots(figsize=(6, 4))\n",
    "sns.countplot(x='flagged', data=df)\n",
    "plt.title(\"Count of Reviews\")\n",
    "plt.show()"
   ]
  },
  {
   "cell_type": "code",
   "execution_count": 30,
   "metadata": {},
   "outputs": [
    {
     "data": {
      "text/plain": [
       "True"
      ]
     },
     "execution_count": 30,
     "metadata": {},
     "output_type": "execute_result"
    }
   ],
   "source": [
    "# check if every review is unique\n",
    "df.reviewID.nunique() == df.shape[0]"
   ]
  },
  {
   "cell_type": "code",
   "execution_count": 31,
   "metadata": {},
   "outputs": [
    {
     "data": {
      "text/plain": [
       "411380"
      ]
     },
     "execution_count": 31,
     "metadata": {},
     "output_type": "execute_result"
    }
   ],
   "source": [
    "# total number of unique reviews\n",
    "df.shape[0]"
   ]
  },
  {
   "cell_type": "code",
   "execution_count": 32,
   "metadata": {},
   "outputs": [
    {
     "data": {
      "text/plain": [
       "14321"
      ]
     },
     "execution_count": 32,
     "metadata": {},
     "output_type": "execute_result"
    }
   ],
   "source": [
    "# check the number of unique reviewers\n",
    "df.reviewerID.nunique()"
   ]
  },
  {
   "cell_type": "code",
   "execution_count": 33,
   "metadata": {},
   "outputs": [
    {
     "data": {
      "text/plain": [
       "Chicago, IL             135047\n",
       "San Francisco, CA        30996\n",
       "Los Angeles, CA          14517\n",
       "New York, NY             13549\n",
       "Boston, MA                5389\n",
       "                         ...  \n",
       "Fort Myers Beach, FL         1\n",
       "Lake, IL                     1\n",
       "East Orange, NJ              1\n",
       "Kenwood, CA                  1\n",
       "PECK SLIP, NY                1\n",
       "Name: location, Length: 1361, dtype: int64"
      ]
     },
     "execution_count": 33,
     "metadata": {},
     "output_type": "execute_result"
    }
   ],
   "source": [
    "# check the locations\n",
    "df.location.value_counts()"
   ]
  },
  {
   "cell_type": "code",
   "execution_count": 34,
   "metadata": {},
   "outputs": [
    {
     "data": {
      "text/plain": [
       "114625"
      ]
     },
     "execution_count": 34,
     "metadata": {},
     "output_type": "execute_result"
    }
   ],
   "source": [
    "# check number of restaurants\n",
    "df.restaurantID.nunique()"
   ]
  },
  {
   "cell_type": "markdown",
   "metadata": {},
   "source": [
    "## Review Columns EDA\n",
    "### Review Date Exploration"
   ]
  },
  {
   "cell_type": "code",
   "execution_count": 35,
   "metadata": {},
   "outputs": [
    {
     "data": {
      "text/plain": [
       "count                  411380\n",
       "unique                   2802\n",
       "top       2009-02-08 00:00:00\n",
       "freq                      542\n",
       "first     2004-10-12 00:00:00\n",
       "last      2012-10-22 00:00:00\n",
       "Name: date, dtype: object"
      ]
     },
     "execution_count": 35,
     "metadata": {},
     "output_type": "execute_result"
    }
   ],
   "source": [
    "df.date.describe()"
   ]
  },
  {
   "cell_type": "code",
   "execution_count": 36,
   "metadata": {},
   "outputs": [
    {
     "name": "stderr",
     "output_type": "stream",
     "text": [
      "C:\\Users\\BD\\Anaconda3\\lib\\site-packages\\pandas\\plotting\\_matplotlib\\converter.py:103: FutureWarning: Using an implicitly registered datetime converter for a matplotlib plotting method. The converter was registered by pandas on import. Future versions of pandas will require you to explicitly register matplotlib converters.\n",
      "\n",
      "To register the converters:\n",
      "\t>>> from pandas.plotting import register_matplotlib_converters\n",
      "\t>>> register_matplotlib_converters()\n",
      "  warnings.warn(msg, FutureWarning)\n"
     ]
    },
    {
     "data": {
      "image/png": "[encoded data removed]",
      "text/plain": [
       "<Figure size 864x864 with 3 Axes>"
      ]
     },
     "metadata": {
      "needs_background": "light"
     },
     "output_type": "display_data"
    }
   ],
   "source": [
    "# Prepare the figure\n",
    "fig = plt.figure( figsize=(12,12) )\n",
    "title = fig.suptitle(\"Review Date Distribution\", fontsize=14, fontweight='bold')\n",
    "fig.subplots_adjust(top=0.9, wspace=0.3)\n",
    "\n",
    "# Prepare a subplot\n",
    "ax = fig.add_subplot(3,1,1) # https://youtu.be/afITiFR6vfw?t=1m53s\n",
    "ax.set_xlabel(\"Date\")\n",
    "ax.set_ylabel(\"Number of reviews\")\n",
    "\n",
    "# Add text into the subplot\n",
    "freq, bins, patches = ax.hist(df['date'], \n",
    "                              bins=50,\n",
    "                              color='darksalmon', \n",
    "                              edgecolor='darkred', linewidth=1.0)\n",
    "\n",
    "# Prepare a subplot\n",
    "ax2 = fig.add_subplot(3,1,2) \n",
    "ax2.set_ylabel(\"Number of fake reviews\")\n",
    "ax2.set_xlabel(\"Date\")\n",
    "\n",
    "# Add text into the subplot\n",
    "freq, bins, patches = ax2.hist(fake['date'], \n",
    "                              bins=50,\n",
    "                              color='red', \n",
    "                              edgecolor='darkred', linewidth=1.0)\n",
    "# Prepare a subplot\n",
    "ax3 = fig.add_subplot(3,1,3) \n",
    "ax3.set_ylabel(\"Number of real reviews\")\n",
    "ax3.set_xlabel(\"Date\")\n",
    "\n",
    "# Add text into the subplot\n",
    "freq, bins, patches = ax3.hist(real['date'], \n",
    "                              bins=50,\n",
    "                              color='green', \n",
    "                              edgecolor='darkred', linewidth=1.0)"
   ]
  },
  {
   "cell_type": "markdown",
   "metadata": {},
   "source": [
    "### Review Rating Exploration"
   ]
  },
  {
   "cell_type": "code",
   "execution_count": 37,
   "metadata": {},
   "outputs": [
    {
     "data": {
      "text/plain": [
       "4    161943\n",
       "3     94693\n",
       "5     92069\n",
       "2     42179\n",
       "1     20496\n",
       "Name: review_rating, dtype: int64"
      ]
     },
     "execution_count": 37,
     "metadata": {},
     "output_type": "execute_result"
    }
   ],
   "source": [
    "# check review ratings\n",
    "df.review_rating.value_counts()"
   ]
  },
  {
   "cell_type": "code",
   "execution_count": 38,
   "metadata": {},
   "outputs": [
    {
     "name": "stdout",
     "output_type": "stream",
     "text": [
      "Total review count:  411380\n",
      "Total fake reviews:  223414\n",
      "Total real reviews:  187966\n"
     ]
    },
    {
     "data": {
      "image/png": "[encoded data removed]",
      "text/plain": [
       "<Figure size 864x360 with 2 Axes>"
      ]
     },
     "metadata": {
      "needs_background": "light"
     },
     "output_type": "display_data"
    }
   ],
   "source": [
    "fig = plt.figure(figsize = (12,5))\n",
    "title = fig.suptitle(\"Review Rating\", fontsize=14)\n",
    "fig.subplots_adjust(top=0.85, wspace=0.3)\n",
    "\n",
    "ax1 = fig.add_subplot(1,2, 1)\n",
    "ax1.set_title(\"Fake Review Rating Distribution\")\n",
    "ax1.set_xlabel(\"Rating\")\n",
    "ax1.set_ylabel(\"Frequency\") \n",
    "ax1.set_ylim([0, 100000])\n",
    "print('Total review count: ', df.shape[0])\n",
    "print('Total fake reviews: ' ,fake.shape[0])\n",
    "r_freq, r_bins, r_patches = ax1.hist(fake['review_rating'], color='red', bins=15,\n",
    "                                     edgecolor='black', linewidth=1)\n",
    "\n",
    "ax2 = fig.add_subplot(1,2, 2)\n",
    "ax2.set_title(\"Real Review Rating Distribution\")\n",
    "ax2.set_xlabel(\"Rating\")\n",
    "ax2.set_ylabel(\"Frequency\")\n",
    "ax2.set_ylim([0, 100000])\n",
    "print('Total real reviews: ' ,real.shape[0])\n",
    "w_freq, w_bins, w_patches = ax2.hist(real['review_rating'], color='green', bins=15,\n",
    "                                     edgecolor='black', linewidth=1)"
   ]
  },
  {
   "cell_type": "code",
   "execution_count": 39,
   "metadata": {},
   "outputs": [
    {
     "name": "stdout",
     "output_type": "stream",
     "text": [
      "Average rating for all reviews:  3.64\n",
      "Average rating for fake reviews:  3.71\n",
      "Average rating for real reviews:  3.55\n"
     ]
    }
   ],
   "source": [
    "ave_all_rating = df.review_rating.mean()\n",
    "ave_fake_rating = fake.review_rating.mean()\n",
    "ave_real_rating = real.review_rating.mean()\n",
    "print('Average rating for all reviews: ', round(ave_all_rating,2))\n",
    "print('Average rating for fake reviews: ', round(ave_fake_rating,2))\n",
    "print('Average rating for real reviews: ', round(ave_real_rating,2))"
   ]
  },
  {
   "cell_type": "markdown",
   "metadata": {},
   "source": [
    "### Review usefulCount Exploration (includes other counts)"
   ]
  },
  {
   "cell_type": "code",
   "execution_count": 40,
   "metadata": {},
   "outputs": [
    {
     "name": "stdout",
     "output_type": "stream",
     "text": [
      "Average total reviews useful counts:  1.43\n",
      "Average fake reviews useful counts:  1.22\n",
      "Average real reviews useful counts:  1.69\n"
     ]
    },
    {
     "data": {
      "image/png": "[encoded data removed]",
      "text/plain": [
       "<Figure size 864x360 with 2 Axes>"
      ]
     },
     "metadata": {
      "needs_background": "light"
     },
     "output_type": "display_data"
    }
   ],
   "source": [
    "fig = plt.figure(figsize = (12,5))\n",
    "title = fig.suptitle(\"Review Useful Count\", fontsize=14)\n",
    "fig.subplots_adjust(top=0.85, wspace=0.3)\n",
    "\n",
    "ax1 = fig.add_subplot(1,2, 1)\n",
    "ax1.set_title(\"Fake Review Useful Count Distribution\")\n",
    "ax1.set_xlabel(\"Count\")\n",
    "ax1.set_ylabel(\"Frequency\") \n",
    "ax1.set_ylim([0, 220000])\n",
    "print('Average total reviews useful counts: ', round(df['review_usefulCount'].mean(),2))\n",
    "print('Average fake reviews useful counts: ' ,round(fake['review_usefulCount'].mean(),2))\n",
    "r_freq, r_bins, r_patches = ax1.hist(fake['review_usefulCount'], color='red', bins=30,\n",
    "                                     edgecolor='black', linewidth=1)\n",
    "\n",
    "ax2 = fig.add_subplot(1,2, 2)\n",
    "ax2.set_title(\"Real Review Useful Count Distribution\")\n",
    "ax2.set_xlabel(\"Count\")\n",
    "ax2.set_ylabel(\"Frequency\")\n",
    "ax2.set_ylim([0, 220000])\n",
    "print('Average real reviews useful counts: ' ,round(real['review_usefulCount'].mean(),2))\n",
    "w_freq, w_bins, w_patches = ax2.hist(real['review_usefulCount'], color='green', bins=30,\n",
    "                                     edgecolor='black', linewidth=1)"
   ]
  },
  {
   "cell_type": "code",
   "execution_count": 41,
   "metadata": {},
   "outputs": [
    {
     "name": "stdout",
     "output_type": "stream",
     "text": [
      "Average total reviews Cool counts:  0.95\n",
      "Average fake reviews Cool counts:  0.85\n",
      "Average real reviews Cool counts:  1.06\n"
     ]
    },
    {
     "data": {
      "image/png": "[encoded data removed]",
      "text/plain": [
       "<Figure size 864x360 with 2 Axes>"
      ]
     },
     "metadata": {
      "needs_background": "light"
     },
     "output_type": "display_data"
    }
   ],
   "source": [
    "fig = plt.figure(figsize = (12,5))\n",
    "title = fig.suptitle(\"Review Cool Count\", fontsize=14)\n",
    "fig.subplots_adjust(top=0.85, wspace=0.3)\n",
    "\n",
    "ax1 = fig.add_subplot(1,2, 1)\n",
    "ax1.set_title(\"Fake Review Cool Count Distribution\")\n",
    "ax1.set_xlabel(\"Count\")\n",
    "ax1.set_ylabel(\"Frequency\") \n",
    "ax1.set_ylim([0, 220000])\n",
    "print('Average total reviews Cool counts: ', round(df['review_coolCount'].mean(),2))\n",
    "print('Average fake reviews Cool counts: ' ,round(fake['review_coolCount'].mean(),2))\n",
    "r_freq, r_bins, r_patches = ax1.hist(fake['review_coolCount'], color='red', bins=30,\n",
    "                                     edgecolor='black', linewidth=1)\n",
    "\n",
    "ax2 = fig.add_subplot(1,2, 2)\n",
    "ax2.set_title(\"Real Review Cool Count Distribution\")\n",
    "ax2.set_xlabel(\"Count\")\n",
    "ax2.set_ylabel(\"Frequency\")\n",
    "ax2.set_ylim([0, 220000])\n",
    "print('Average real reviews Cool counts: ' ,round(real['review_coolCount'].mean(),2))\n",
    "w_freq, w_bins, w_patches = ax2.hist(real['review_coolCount'], color='green', bins=30,\n",
    "                                     edgecolor='black', linewidth=1)"
   ]
  },
  {
   "cell_type": "code",
   "execution_count": 42,
   "metadata": {},
   "outputs": [
    {
     "name": "stdout",
     "output_type": "stream",
     "text": [
      "Average total reviews funny counts:  0.77\n",
      "Average fake reviews funny counts:  0.67\n",
      "Average real reviews funny counts:  0.89\n"
     ]
    },
    {
     "data": {
      "image/png": "[encoded data removed]",
      "text/plain": [
       "<Figure size 864x360 with 2 Axes>"
      ]
     },
     "metadata": {
      "needs_background": "light"
     },
     "output_type": "display_data"
    }
   ],
   "source": [
    "fig = plt.figure(figsize = (12,5))\n",
    "title = fig.suptitle(\"Review Funny Count\", fontsize=14)\n",
    "fig.subplots_adjust(top=0.85, wspace=0.3)\n",
    "\n",
    "ax1 = fig.add_subplot(1,2, 1)\n",
    "ax1.set_title(\"Fake Review Funny Count Distribution\")\n",
    "ax1.set_xlabel(\"Count\")\n",
    "ax1.set_ylabel(\"Frequency\") \n",
    "ax1.set_ylim([0, 220000])\n",
    "print('Average total reviews funny counts: ', round(df['review_funnyCount'].mean(),2))\n",
    "print('Average fake reviews funny counts: ' ,round(fake['review_funnyCount'].mean(),2))\n",
    "r_freq, r_bins, r_patches = ax1.hist(fake['review_funnyCount'], color='red', bins=30,\n",
    "                                     edgecolor='black', linewidth=1)\n",
    "\n",
    "ax2 = fig.add_subplot(1,2, 2)\n",
    "ax2.set_title(\"Real Review Funny Count Distribution\")\n",
    "ax2.set_xlabel(\"Count\")\n",
    "ax2.set_ylabel(\"Frequency\")\n",
    "ax2.set_ylim([0, 220000])\n",
    "print('Average real reviews funny counts: ' ,round(real['review_funnyCount'].mean(),2))\n",
    "w_freq, w_bins, w_patches = ax2.hist(real['review_funnyCount'], color='green', bins=30,\n",
    "                                     edgecolor='black', linewidth=1)"
   ]
  },
  {
   "cell_type": "code",
   "execution_count": 43,
   "metadata": {},
   "outputs": [
    {
     "data": {
      "text/plain": [
       "(array([0, 1]), <a list of 2 Text xticklabel objects>)"
      ]
     },
     "execution_count": 43,
     "metadata": {},
     "output_type": "execute_result"
    },
    {
     "data": {
      "image/png": "[encoded data removed]",
      "text/plain": [
       "<Figure size 288x432 with 1 Axes>"
      ]
     },
     "metadata": {
      "needs_background": "light"
     },
     "output_type": "display_data"
    }
   ],
   "source": [
    "plt.figure(figsize = (4, 6))\n",
    "ax = sns.boxplot(x='flagged', y='rating', data=df)\n",
    "plt.setp(ax.artists, alpha=.5, linewidth=2, edgecolor=\"k\")\n",
    "plt.xticks(rotation=45)"
   ]
  },
  {
   "cell_type": "markdown",
   "metadata": {},
   "source": [
    "## Reviewer Columns EDA\n",
    "### FriendCount"
   ]
  },
  {
   "cell_type": "markdown",
   "metadata": {},
   "source": [
    "Fake review ratio:\n",
    "The number of reviews filtered as fake review / total number of reviews by the reviewer"
   ]
  },
  {
   "cell_type": "code",
   "execution_count": 44,
   "metadata": {},
   "outputs": [
    {
     "data": {
      "text/plain": [
       "Index(['date', 'reviewID', 'reviewerID', 'reviewContent', 'review_rating',\n",
       "       'review_usefulCount', 'review_coolCount', 'review_funnyCount',\n",
       "       'flagged', 'restaurantID', 'reviewer_name', 'location', 'yelpJoinDate',\n",
       "       'friendCount', 'reviewCount', 'firstCount', 'usefulCount', 'coolCount',\n",
       "       'funnyCount', 'complimentCount', 'tipCount', 'fanCount',\n",
       "       'restaurant_name', 'rating', 'processed_text'],\n",
       "      dtype='object')"
      ]
     },
     "execution_count": 44,
     "metadata": {},
     "output_type": "execute_result"
    }
   ],
   "source": [
    "df.columns"
   ]
  },
  {
   "cell_type": "code",
   "execution_count": 45,
   "metadata": {},
   "outputs": [],
   "source": [
    "cols = ['reviewerID','reviewer_name','location', 'yelpJoinDate',\n",
    "        'friendCount', 'reviewCount', 'firstCount', 'usefulCount', 'coolCount',\n",
    "        'funnyCount', 'complimentCount', 'tipCount', 'fanCount']\n",
    "\n",
    "df_reviewer = df.groupby(['reviewerID'], as_index = False)['flagged'].agg({'total_review':'count', 'fake_review': 'sum'})\n",
    "df_reviewer['fake_review_ratio'] = df_reviewer['fake_review']/df_reviewer['total_review']\n",
    "df_reviewer = df_reviewer.merge(df[cols].drop_duplicates(subset = 'reviewerID'), on = 'reviewerID', how='inner')"
   ]
  },
  {
   "cell_type": "code",
   "execution_count": 46,
   "metadata": {},
   "outputs": [
    {
     "data": {
      "text/html": [
       "<div>\n",
       "<style scoped>\n",
       "    .dataframe tbody tr th:only-of-type {\n",
       "        vertical-align: middle;\n",
       "    }\n",
       "\n",
       "    .dataframe tbody tr th {\n",
       "        vertical-align: top;\n",
       "    }\n",
       "\n",
       "    .dataframe thead th {\n",
       "        text-align: right;\n",
       "    }\n",
       "</style>\n",
       "<table border=\"1\" class=\"dataframe\">\n",
       "  <thead>\n",
       "    <tr style=\"text-align: right;\">\n",
       "      <th></th>\n",
       "      <th>reviewerID</th>\n",
       "      <th>total_review</th>\n",
       "      <th>fake_review</th>\n",
       "      <th>fake_review_ratio</th>\n",
       "      <th>reviewer_name</th>\n",
       "      <th>location</th>\n",
       "      <th>yelpJoinDate</th>\n",
       "      <th>friendCount</th>\n",
       "      <th>reviewCount</th>\n",
       "      <th>firstCount</th>\n",
       "      <th>usefulCount</th>\n",
       "      <th>coolCount</th>\n",
       "      <th>funnyCount</th>\n",
       "      <th>complimentCount</th>\n",
       "      <th>tipCount</th>\n",
       "      <th>fanCount</th>\n",
       "    </tr>\n",
       "  </thead>\n",
       "  <tbody>\n",
       "    <tr>\n",
       "      <td>0</td>\n",
       "      <td>--KQJPdrU0Md97DiOliDzw</td>\n",
       "      <td>130</td>\n",
       "      <td>79</td>\n",
       "      <td>0.607692</td>\n",
       "      <td>Steven C.</td>\n",
       "      <td>Bellerose, NY</td>\n",
       "      <td>2006-01-01</td>\n",
       "      <td>87</td>\n",
       "      <td>163</td>\n",
       "      <td>9</td>\n",
       "      <td>277</td>\n",
       "      <td>169</td>\n",
       "      <td>140</td>\n",
       "      <td>135</td>\n",
       "      <td>13</td>\n",
       "      <td>5</td>\n",
       "    </tr>\n",
       "    <tr>\n",
       "      <td>1</td>\n",
       "      <td>--KXo_HCYq9hB8NOdEUMKw</td>\n",
       "      <td>2</td>\n",
       "      <td>2</td>\n",
       "      <td>1.000000</td>\n",
       "      <td>Megan MJ J.</td>\n",
       "      <td>Chicago, IL</td>\n",
       "      <td>2010-01-04</td>\n",
       "      <td>12</td>\n",
       "      <td>4</td>\n",
       "      <td>0</td>\n",
       "      <td>1</td>\n",
       "      <td>1</td>\n",
       "      <td>0</td>\n",
       "      <td>1</td>\n",
       "      <td>0</td>\n",
       "      <td>1</td>\n",
       "    </tr>\n",
       "    <tr>\n",
       "      <td>2</td>\n",
       "      <td>--Qh8yKWAvIP4V4K8ZPfHA</td>\n",
       "      <td>55</td>\n",
       "      <td>2</td>\n",
       "      <td>0.036364</td>\n",
       "      <td>Dixie cream tea Q.</td>\n",
       "      <td>Toronto, ON</td>\n",
       "      <td>2011-01-01</td>\n",
       "      <td>15</td>\n",
       "      <td>161</td>\n",
       "      <td>21</td>\n",
       "      <td>80</td>\n",
       "      <td>56</td>\n",
       "      <td>32</td>\n",
       "      <td>50</td>\n",
       "      <td>20</td>\n",
       "      <td>2</td>\n",
       "    </tr>\n",
       "    <tr>\n",
       "      <td>3</td>\n",
       "      <td>--cDU5woxccqoHW5jzxJBw</td>\n",
       "      <td>4</td>\n",
       "      <td>4</td>\n",
       "      <td>1.000000</td>\n",
       "      <td>Brian J.</td>\n",
       "      <td>Chicago, IL</td>\n",
       "      <td>2008-01-05</td>\n",
       "      <td>7</td>\n",
       "      <td>10</td>\n",
       "      <td>0</td>\n",
       "      <td>12</td>\n",
       "      <td>3</td>\n",
       "      <td>1</td>\n",
       "      <td>2</td>\n",
       "      <td>0</td>\n",
       "      <td>0</td>\n",
       "    </tr>\n",
       "    <tr>\n",
       "      <td>4</td>\n",
       "      <td>--eQVss9nAx54FWsZHZgpA</td>\n",
       "      <td>11</td>\n",
       "      <td>9</td>\n",
       "      <td>0.818182</td>\n",
       "      <td>Kc Wildman W.</td>\n",
       "      <td>Boulder, CO</td>\n",
       "      <td>2010-01-05</td>\n",
       "      <td>46</td>\n",
       "      <td>12</td>\n",
       "      <td>0</td>\n",
       "      <td>7</td>\n",
       "      <td>2</td>\n",
       "      <td>2</td>\n",
       "      <td>1</td>\n",
       "      <td>2</td>\n",
       "      <td>1</td>\n",
       "    </tr>\n",
       "  </tbody>\n",
       "</table>\n",
       "</div>"
      ],
      "text/plain": [
       "               reviewerID  total_review  fake_review  fake_review_ratio  \\\n",
       "0  --KQJPdrU0Md97DiOliDzw           130           79           0.607692   \n",
       "1  --KXo_HCYq9hB8NOdEUMKw             2            2           1.000000   \n",
       "2  --Qh8yKWAvIP4V4K8ZPfHA            55            2           0.036364   \n",
       "3  --cDU5woxccqoHW5jzxJBw             4            4           1.000000   \n",
       "4  --eQVss9nAx54FWsZHZgpA            11            9           0.818182   \n",
       "\n",
       "        reviewer_name       location yelpJoinDate  friendCount  reviewCount  \\\n",
       "0           Steven C.  Bellerose, NY   2006-01-01           87          163   \n",
       "1         Megan MJ J.    Chicago, IL   2010-01-04           12            4   \n",
       "2  Dixie cream tea Q.    Toronto, ON   2011-01-01           15          161   \n",
       "3            Brian J.    Chicago, IL   2008-01-05            7           10   \n",
       "4       Kc Wildman W.    Boulder, CO   2010-01-05           46           12   \n",
       "\n",
       "   firstCount  usefulCount  coolCount  funnyCount  complimentCount  tipCount  \\\n",
       "0           9          277        169         140              135        13   \n",
       "1           0            1          1           0                1         0   \n",
       "2          21           80         56          32               50        20   \n",
       "3           0           12          3           1                2         0   \n",
       "4           0            7          2           2                1         2   \n",
       "\n",
       "   fanCount  \n",
       "0         5  \n",
       "1         1  \n",
       "2         2  \n",
       "3         0  \n",
       "4         1  "
      ]
     },
     "execution_count": 46,
     "metadata": {},
     "output_type": "execute_result"
    }
   ],
   "source": [
    "# get a df with all the reviewers information\n",
    "df_reviewer.head()"
   ]
  },
  {
   "cell_type": "code",
   "execution_count": 47,
   "metadata": {},
   "outputs": [
    {
     "data": {
      "text/plain": [
       "Index(['reviewerID', 'total_review', 'fake_review', 'fake_review_ratio',\n",
       "       'reviewer_name', 'location', 'yelpJoinDate', 'friendCount',\n",
       "       'reviewCount', 'firstCount', 'usefulCount', 'coolCount', 'funnyCount',\n",
       "       'complimentCount', 'tipCount', 'fanCount'],\n",
       "      dtype='object')"
      ]
     },
     "execution_count": 47,
     "metadata": {},
     "output_type": "execute_result"
    }
   ],
   "source": [
    "df_reviewer.columns"
   ]
  },
  {
   "cell_type": "code",
   "execution_count": 48,
   "metadata": {},
   "outputs": [
    {
     "data": {
      "text/plain": [
       "<matplotlib.axes._subplots.AxesSubplot at 0x28900925688>"
      ]
     },
     "execution_count": 48,
     "metadata": {},
     "output_type": "execute_result"
    },
    {
     "data": {
      "image/png": "[encoded data removed]",
      "text/plain": [
       "<Figure size 1080x360 with 1 Axes>"
      ]
     },
     "metadata": {
      "needs_background": "light"
     },
     "output_type": "display_data"
    }
   ],
   "source": [
    "fig = plt.figure(figsize = (15,5))\n",
    "title = fig.suptitle(\"Boxplot\", fontsize=14)\n",
    "fig.subplots_adjust(top=0.85, wspace=0.3)\n",
    "ax1 = fig.add_subplot(1,1, 1)\n",
    "sns.boxplot(x=\"variable\", y=\"value\", data=pd.melt(df_reviewer[['friendCount','reviewCount', 'firstCount', 'usefulCount',\n",
    "                                                              'coolCount', 'funnyCount','complimentCount', 'tipCount', 'fanCount']]))"
   ]
  },
  {
   "cell_type": "markdown",
   "metadata": {},
   "source": [
    "Either convert the features to categorical variables by binning them or use standard scaler."
   ]
  },
  {
   "cell_type": "markdown",
   "metadata": {},
   "source": [
    "### Fake Review Ratio"
   ]
  },
  {
   "cell_type": "code",
   "execution_count": 49,
   "metadata": {},
   "outputs": [],
   "source": [
    "# all reviewers who have ever given fake reviews\n",
    "threshold = 0.3\n",
    "df_reviewer_fake = df_reviewer[df_reviewer.fake_review_ratio > threshold]"
   ]
  },
  {
   "cell_type": "code",
   "execution_count": 50,
   "metadata": {},
   "outputs": [
    {
     "name": "stdout",
     "output_type": "stream",
     "text": [
      "count    12470.000000\n",
      "mean         0.777735\n",
      "std          0.225345\n",
      "min          0.300518\n",
      "25%          0.590909\n",
      "50%          0.815207\n",
      "75%          1.000000\n",
      "max          1.000000\n",
      "Name: fake_review_ratio, dtype: float64\n"
     ]
    },
    {
     "data": {
      "image/png": "[encoded data removed]",
      "text/plain": [
       "<Figure size 576x432 with 1 Axes>"
      ]
     },
     "metadata": {
      "needs_background": "light"
     },
     "output_type": "display_data"
    }
   ],
   "source": [
    "print(df_reviewer_fake['fake_review_ratio'].describe())\n",
    "plt.figure(figsize=(8, 6))\n",
    "sns.distplot(df_reviewer_fake['fake_review_ratio'], color='g', bins=100, hist_kws={'alpha': 0.4});"
   ]
  },
  {
   "cell_type": "markdown",
   "metadata": {},
   "source": [
    "## Restaurant Columns EDA"
   ]
  },
  {
   "cell_type": "code",
   "execution_count": 51,
   "metadata": {},
   "outputs": [
    {
     "data": {
      "text/plain": [
       "Index(['date', 'reviewID', 'reviewerID', 'reviewContent', 'review_rating',\n",
       "       'review_usefulCount', 'review_coolCount', 'review_funnyCount',\n",
       "       'flagged', 'restaurantID', 'reviewer_name', 'location', 'yelpJoinDate',\n",
       "       'friendCount', 'reviewCount', 'firstCount', 'usefulCount', 'coolCount',\n",
       "       'funnyCount', 'complimentCount', 'tipCount', 'fanCount',\n",
       "       'restaurant_name', 'rating', 'processed_text'],\n",
       "      dtype='object')"
      ]
     },
     "execution_count": 51,
     "metadata": {},
     "output_type": "execute_result"
    }
   ],
   "source": [
    "df.columns"
   ]
  },
  {
   "cell_type": "code",
   "execution_count": 52,
   "metadata": {},
   "outputs": [
    {
     "data": {
      "text/plain": [
       "86594"
      ]
     },
     "execution_count": 52,
     "metadata": {},
     "output_type": "execute_result"
    }
   ],
   "source": [
    "#Total number of unique business categories in the dataset\n",
    "df['restaurant_name'].nunique()"
   ]
  },
  {
   "cell_type": "code",
   "execution_count": 53,
   "metadata": {},
   "outputs": [],
   "source": [
    "cols = ['restaurantID', 'restaurant_name']\n",
    "\n",
    "df_restaurant = df.groupby(['restaurantID'], as_index = False)['flagged'].agg({'res_total_review':'count', 'res_fake_review': 'sum'})\n",
    "df_restaurant['res_fake_review_ratio'] = df_restaurant['res_fake_review']/df_restaurant['res_total_review']\n",
    "df_restaurant = df_restaurant.merge(df[cols].drop_duplicates(subset = 'restaurantID'), on = 'restaurantID', how='inner')"
   ]
  },
  {
   "cell_type": "code",
   "execution_count": 54,
   "metadata": {},
   "outputs": [
    {
     "data": {
      "text/html": [
       "<div>\n",
       "<style scoped>\n",
       "    .dataframe tbody tr th:only-of-type {\n",
       "        vertical-align: middle;\n",
       "    }\n",
       "\n",
       "    .dataframe tbody tr th {\n",
       "        vertical-align: top;\n",
       "    }\n",
       "\n",
       "    .dataframe thead th {\n",
       "        text-align: right;\n",
       "    }\n",
       "</style>\n",
       "<table border=\"1\" class=\"dataframe\">\n",
       "  <thead>\n",
       "    <tr style=\"text-align: right;\">\n",
       "      <th></th>\n",
       "      <th>restaurantID</th>\n",
       "      <th>res_total_review</th>\n",
       "      <th>res_fake_review</th>\n",
       "      <th>res_fake_review_ratio</th>\n",
       "      <th>restaurant_name</th>\n",
       "    </tr>\n",
       "  </thead>\n",
       "  <tbody>\n",
       "    <tr>\n",
       "      <td>0</td>\n",
       "      <td>--164t1nclzzmca7eDiJMw</td>\n",
       "      <td>1</td>\n",
       "      <td>1</td>\n",
       "      <td>1.0</td>\n",
       "      <td>Me So Hungry</td>\n",
       "    </tr>\n",
       "    <tr>\n",
       "      <td>1</td>\n",
       "      <td>--1AMHXt89gtrEaB-Ea7Mw</td>\n",
       "      <td>1</td>\n",
       "      <td>0</td>\n",
       "      <td>0.0</td>\n",
       "      <td>Casablanca Middle Eastern Restaurant</td>\n",
       "    </tr>\n",
       "    <tr>\n",
       "      <td>2</td>\n",
       "      <td>--4m48NzUAHvTd4v0u5YIg</td>\n",
       "      <td>4</td>\n",
       "      <td>2</td>\n",
       "      <td>0.5</td>\n",
       "      <td>Christian's Tailgate Grill</td>\n",
       "    </tr>\n",
       "    <tr>\n",
       "      <td>3</td>\n",
       "      <td>--6MefnULPED_I942VcFNA</td>\n",
       "      <td>1</td>\n",
       "      <td>0</td>\n",
       "      <td>0.0</td>\n",
       "      <td>John's Chinese BBQ Restaurant</td>\n",
       "    </tr>\n",
       "    <tr>\n",
       "      <td>4</td>\n",
       "      <td>--6Tns3-YL6hHn6IbQi5vg</td>\n",
       "      <td>1</td>\n",
       "      <td>0</td>\n",
       "      <td>0.0</td>\n",
       "      <td>Taqueria Jesus Maria</td>\n",
       "    </tr>\n",
       "  </tbody>\n",
       "</table>\n",
       "</div>"
      ],
      "text/plain": [
       "             restaurantID  res_total_review  res_fake_review  \\\n",
       "0  --164t1nclzzmca7eDiJMw                 1                1   \n",
       "1  --1AMHXt89gtrEaB-Ea7Mw                 1                0   \n",
       "2  --4m48NzUAHvTd4v0u5YIg                 4                2   \n",
       "3  --6MefnULPED_I942VcFNA                 1                0   \n",
       "4  --6Tns3-YL6hHn6IbQi5vg                 1                0   \n",
       "\n",
       "   res_fake_review_ratio                       restaurant_name  \n",
       "0                    1.0                          Me So Hungry  \n",
       "1                    0.0  Casablanca Middle Eastern Restaurant  \n",
       "2                    0.5            Christian's Tailgate Grill  \n",
       "3                    0.0         John's Chinese BBQ Restaurant  \n",
       "4                    0.0                  Taqueria Jesus Maria  "
      ]
     },
     "execution_count": 54,
     "metadata": {},
     "output_type": "execute_result"
    }
   ],
   "source": [
    "df_restaurant.head()"
   ]
  },
  {
   "cell_type": "code",
   "execution_count": 55,
   "metadata": {},
   "outputs": [
    {
     "data": {
      "text/plain": [
       "Text(0.5, 0.98, 'Top 10 Most Reviewed Restaurants')"
      ]
     },
     "execution_count": 55,
     "metadata": {},
     "output_type": "execute_result"
    },
    {
     "data": {
      "image/png": "[encoded data removed]",
      "text/plain": [
       "<Figure size 867.625x720 with 1 Axes>"
      ]
     },
     "metadata": {
      "needs_background": "light"
     },
     "output_type": "display_data"
    }
   ],
   "source": [
    "#Plotting top 20 most reviewed businesses among all categories\n",
    "ax = sns.catplot(x=\"res_total_review\", y=\"restaurant_name\",data= df_restaurant.nlargest(10,'res_total_review'), \n",
    "                 kind=\"bar\",hue= \"restaurant_name\", dodge= False, height= 10 )\n",
    "\n",
    "plt.subplots_adjust(top=0.9)\n",
    "ax.fig.suptitle('Top 10 Most Reviewed Restaurants') # can also get the figure from plt.gcf()"
   ]
  },
  {
   "cell_type": "code",
   "execution_count": 56,
   "metadata": {},
   "outputs": [
    {
     "data": {
      "text/html": [
       "<div>\n",
       "<style scoped>\n",
       "    .dataframe tbody tr th:only-of-type {\n",
       "        vertical-align: middle;\n",
       "    }\n",
       "\n",
       "    .dataframe tbody tr th {\n",
       "        vertical-align: top;\n",
       "    }\n",
       "\n",
       "    .dataframe thead th {\n",
       "        text-align: right;\n",
       "    }\n",
       "</style>\n",
       "<table border=\"1\" class=\"dataframe\">\n",
       "  <thead>\n",
       "    <tr style=\"text-align: right;\">\n",
       "      <th></th>\n",
       "      <th>restaurantID</th>\n",
       "      <th>res_total_review</th>\n",
       "      <th>res_fake_review</th>\n",
       "      <th>res_fake_review_ratio</th>\n",
       "      <th>restaurant_name</th>\n",
       "    </tr>\n",
       "  </thead>\n",
       "  <tbody>\n",
       "    <tr>\n",
       "      <td>96044</td>\n",
       "      <td>pVPyt3TugMd8FW5LGznkQQ</td>\n",
       "      <td>630</td>\n",
       "      <td>623</td>\n",
       "      <td>0.988889</td>\n",
       "      <td>Kuma's Corner</td>\n",
       "    </tr>\n",
       "  </tbody>\n",
       "</table>\n",
       "</div>"
      ],
      "text/plain": [
       "                 restaurantID  res_total_review  res_fake_review  \\\n",
       "96044  pVPyt3TugMd8FW5LGznkQQ               630              623   \n",
       "\n",
       "       res_fake_review_ratio restaurant_name  \n",
       "96044               0.988889   Kuma's Corner  "
      ]
     },
     "execution_count": 56,
     "metadata": {},
     "output_type": "execute_result"
    }
   ],
   "source": [
    "# interesting\n",
    "df_restaurant[df_restaurant.restaurant_name == \"Kuma's Corner\"]"
   ]
  },
  {
   "cell_type": "code",
   "execution_count": 58,
   "metadata": {},
   "outputs": [
    {
     "name": "stdout",
     "output_type": "stream",
     "text": [
      "count    114625.000000\n",
      "mean          0.243453\n",
      "std           0.374354\n",
      "min           0.000000\n",
      "25%           0.000000\n",
      "50%           0.000000\n",
      "75%           0.500000\n",
      "max           1.000000\n",
      "Name: res_fake_review_ratio, dtype: float64\n"
     ]
    },
    {
     "data": {
      "image/png": "[encoded data removed]",
      "text/plain": [
       "<Figure size 432x432 with 1 Axes>"
      ]
     },
     "metadata": {
      "needs_background": "light"
     },
     "output_type": "display_data"
    }
   ],
   "source": [
    "print(df_restaurant['res_fake_review_ratio'].describe())\n",
    "plt.figure(figsize=(6, 6))\n",
    "sns.distplot(df_restaurant['res_fake_review_ratio'], color='g', bins=100, hist_kws={'alpha': 0.4});"
   ]
  },
  {
   "cell_type": "markdown",
   "metadata": {},
   "source": [
    "## Review Content EDA"
   ]
  },
  {
   "cell_type": "code",
   "execution_count": 59,
   "metadata": {},
   "outputs": [
    {
     "data": {
      "text/plain": [
       "0         good choice chicago friend final meal head air...\n",
       "1         takashi fan bit hesitant going well glad gave ...\n",
       "2         read star review spent includes tip adult kid ...\n",
       "3         must called slurping turtle service slow turtl...\n",
       "4         surprised place getting many negativemediocre ...\n",
       "                                ...                        \n",
       "411375    place great barbeque wonderful selection beer ...\n",
       "411376    tiny little restaurant kind beaten path true n...\n",
       "411377    pasha really turkish place visited earlier yea...\n",
       "411378    far best consistent restaurant norfolk le doze...\n",
       "411379    want great cajuncreole meal hampton road big e...\n",
       "Name: processed_text, Length: 411380, dtype: object"
      ]
     },
     "execution_count": 59,
     "metadata": {},
     "output_type": "execute_result"
    }
   ],
   "source": [
    "df.processed_text"
   ]
  },
  {
   "cell_type": "code",
   "execution_count": 61,
   "metadata": {},
   "outputs": [],
   "source": [
    "df['polarity'] = df['processed_text'].swifter.apply(lambda text: TextBlob(text).sentiment.polarity)\n",
    "df['review_len'] = df['reviewContent'].astype(str).apply(len)\n",
    "df['word_count'] = df['reviewContent'].apply(lambda x: len(str(x).split()))"
   ]
  },
  {
   "cell_type": "code",
   "execution_count": 63,
   "metadata": {},
   "outputs": [
    {
     "name": "stdout",
     "output_type": "stream",
     "text": [
      "5 random reviews with the highest positive sentiment polarity: \n",
      "\n",
      "The Best Thai food on the Monterey Peninsula!\n",
      "Awesome almond croissants and macaroons.  Their almond croissant lives up to the hype and is the best almond croissant I have ever had!\n",
      "Aside for the fact that they are taking it on the road by opening otra locations (loop and Chicago Ave) don't forget where your roots are and let the Flagship sink. Excellent dining and service as always waiters or tresses whatever need to attend a few Finishing School sessions tho.\n",
      "Best in the world.\n",
      "The pancakes here are the best!\n"
     ]
    }
   ],
   "source": [
    "# 5 random reviews with the highest positive sentiment polarity\n",
    "print('5 random reviews with the highest positive sentiment polarity: \\n')\n",
    "cl = df.loc[df.polarity == 1, ['reviewContent']].sample(5).values\n",
    "for c in cl:\n",
    "    print(c[0])"
   ]
  },
  {
   "cell_type": "code",
   "execution_count": 64,
   "metadata": {},
   "outputs": [
    {
     "name": "stdout",
     "output_type": "stream",
     "text": [
      "5 random reviews with the most neutral sentiment(zero) polarity: \n",
      "\n",
      "I like it here :) more upscales than Emil's.\n",
      "Tuna tartar is to die for! Always a go to when choosing a sushi spot\n",
      "Food: 4/5. Service: 2/5.\n",
      "This is a spot for people.  If you gave it below three stars you are not my people.  Back to your caves ignants!\n",
      "This place is just so unfriendly and has nothing vegetarian at all!!\n"
     ]
    }
   ],
   "source": [
    "# 5 random reviews with the most neutral sentiment polarity\n",
    "print('5 random reviews with the most neutral sentiment(zero) polarity: \\n')\n",
    "cl = df.loc[df.polarity == 0, ['reviewContent']].sample(5).values\n",
    "for c in cl:\n",
    "    print(c[0])"
   ]
  },
  {
   "cell_type": "code",
   "execution_count": 65,
   "metadata": {},
   "outputs": [
    {
     "name": "stdout",
     "output_type": "stream",
     "text": [
      "2 reviews with the most negative polarity: \n",
      "\n",
      "Tasty stuff. Went twice during my 5 day stay in NYC. Servers are helpful and don't rush you despite the insane amount of people waiting for tables.\n",
      "The tuna fish sandwich was absolutely disgusting. I couldn't even eat it.\n"
     ]
    }
   ],
   "source": [
    "# 5 random reviews with the most negative sentiment polarity\n",
    "print('2 reviews with the most negative polarity: \\n')\n",
    "cl = df.loc[df.polarity == -1, ['reviewContent']].sample(2).values\n",
    "for c in cl:\n",
    "    print(c[0])"
   ]
  },
  {
   "cell_type": "code",
   "execution_count": 70,
   "metadata": {},
   "outputs": [
    {
     "data": {
      "text/plain": [
       "<matplotlib.legend.Legend at 0x28978b922c8>"
      ]
     },
     "execution_count": 70,
     "metadata": {},
     "output_type": "execute_result"
    },
    {
     "data": {
      "image/png": "[encoded data removed]",
      "text/plain": [
       "<Figure size 648x576 with 1 Axes>"
      ]
     },
     "metadata": {
      "needs_background": "light"
     },
     "output_type": "display_data"
    }
   ],
   "source": [
    "# polarity distribution\n",
    "plt.figure(figsize=(9, 8))\n",
    "fake = df[df.flagged == 1]\n",
    "real = df[df.flagged == 0]\n",
    "\n",
    "sns.distplot(real['polarity'], color='green', label = 'true review', bins=50, hist_kws={'alpha': 0.4, \"edgecolor\": 'black'});\n",
    "sns.distplot(fake['polarity'], color='red', label = 'fake review', bins=50, hist_kws={'alpha': 0.4, \"edgecolor\": 'black'});\n",
    "plt.title('Polarity Distribution True vs Fake reviews')\n",
    "plt.legend(labels=['true review','fake review'])\n"
   ]
  },
  {
   "cell_type": "code",
   "execution_count": 55,
   "metadata": {},
   "outputs": [
    {
     "data": {
      "image/png": "[encoded data removed]",
      "text/plain": [
       "<Figure size 648x576 with 1 Axes>"
      ]
     },
     "metadata": {
      "needs_background": "light"
     },
     "output_type": "display_data"
    }
   ],
   "source": [
    "# review length distribution\n",
    "plt.figure(figsize=(9, 8))\n",
    "sns.distplot(df['review_len'], color='g', bins=100, hist_kws={'alpha': 0.4, \"edgecolor\": 'black'});"
   ]
  },
  {
   "cell_type": "code",
   "execution_count": 71,
   "metadata": {},
   "outputs": [
    {
     "data": {
      "text/plain": [
       "<matplotlib.legend.Legend at 0x28900616988>"
      ]
     },
     "execution_count": 71,
     "metadata": {},
     "output_type": "execute_result"
    },
    {
     "data": {
      "image/png": "[encoded data removed]",
      "text/plain": [
       "<Figure size 648x576 with 1 Axes>"
      ]
     },
     "metadata": {
      "needs_background": "light"
     },
     "output_type": "display_data"
    }
   ],
   "source": [
    "# polarity distribution\n",
    "plt.figure(figsize=(9, 8))\n",
    "fake = df[df.flagged == 1]\n",
    "real = df[df.flagged == 0]\n",
    "\n",
    "sns.distplot(real['review_len'], color='green', bins=50, hist_kws={'alpha': 0.4, \"edgecolor\": 'black'});\n",
    "sns.distplot(fake['review_len'], color='red', bins=50, hist_kws={'alpha': 0.4, \"edgecolor\": 'black'});\n",
    "plt.title('REview Length Distribution True vs Fake reviews')\n",
    "plt.legend(labels=['true review','fake review'])\n"
   ]
  },
  {
   "cell_type": "code",
   "execution_count": 56,
   "metadata": {},
   "outputs": [
    {
     "data": {
      "image/png": "[encoded data removed]",
      "text/plain": [
       "<Figure size 648x576 with 1 Axes>"
      ]
     },
     "metadata": {
      "needs_background": "light"
     },
     "output_type": "display_data"
    }
   ],
   "source": [
    "# word count distribution\n",
    "plt.figure(figsize=(9, 8))\n",
    "sns.distplot(df['word_count'], color='g', bins=100, hist_kws={'alpha': 0.4, \"edgecolor\": 'black'});"
   ]
  },
  {
   "cell_type": "code",
   "execution_count": 72,
   "metadata": {},
   "outputs": [
    {
     "data": {
      "text/plain": [
       "<matplotlib.legend.Legend at 0x289111ae088>"
      ]
     },
     "execution_count": 72,
     "metadata": {},
     "output_type": "execute_result"
    },
    {
     "data": {
      "image/png": "[encoded data removed]",
      "text/plain": [
       "<Figure size 648x576 with 1 Axes>"
      ]
     },
     "metadata": {
      "needs_background": "light"
     },
     "output_type": "display_data"
    }
   ],
   "source": [
    "# polarity distribution\n",
    "plt.figure(figsize=(9, 8))\n",
    "fake = df[df.flagged == 1]\n",
    "real = df[df.flagged == 0]\n",
    "\n",
    "sns.distplot(real['word_count'], color='green', bins=50, hist_kws={'alpha': 0.4, \"edgecolor\": 'black'});\n",
    "sns.distplot(fake['word_count'], color='red', bins=50, hist_kws={'alpha': 0.4, \"edgecolor\": 'black'});\n",
    "plt.title('Review Word Count Distribution True vs Fake reviews')\n",
    "\n",
    "plt.legend(labels=['true review','fake review'])\n"
   ]
  },
  {
   "cell_type": "code",
   "execution_count": 74,
   "metadata": {},
   "outputs": [],
   "source": [
    "df['abs_polarity'] = df['polarity'].abs()\n",
    "df['avg_polarity'] = df.groupby(['reviewerID'], as_index = False)['abs_polarity'].transform('mean')\n",
    "\n",
    "df_reviewer = df_reviewer.merge(df[['reviewerID', 'avg_polarity']].drop_duplicates(subset = 'reviewerID'), on = 'reviewerID', how='inner')"
   ]
  },
  {
   "cell_type": "code",
   "execution_count": 75,
   "metadata": {},
   "outputs": [
    {
     "data": {
      "text/html": [
       "<div>\n",
       "<style scoped>\n",
       "    .dataframe tbody tr th:only-of-type {\n",
       "        vertical-align: middle;\n",
       "    }\n",
       "\n",
       "    .dataframe tbody tr th {\n",
       "        vertical-align: top;\n",
       "    }\n",
       "\n",
       "    .dataframe thead th {\n",
       "        text-align: right;\n",
       "    }\n",
       "</style>\n",
       "<table border=\"1\" class=\"dataframe\">\n",
       "  <thead>\n",
       "    <tr style=\"text-align: right;\">\n",
       "      <th></th>\n",
       "      <th>reviewerID</th>\n",
       "      <th>total_review</th>\n",
       "      <th>fake_review</th>\n",
       "      <th>fake_review_ratio</th>\n",
       "      <th>reviewer_name</th>\n",
       "      <th>location</th>\n",
       "      <th>yelpJoinDate</th>\n",
       "      <th>friendCount</th>\n",
       "      <th>reviewCount</th>\n",
       "      <th>firstCount</th>\n",
       "      <th>usefulCount</th>\n",
       "      <th>coolCount</th>\n",
       "      <th>funnyCount</th>\n",
       "      <th>complimentCount</th>\n",
       "      <th>tipCount</th>\n",
       "      <th>fanCount</th>\n",
       "      <th>avg_polarity</th>\n",
       "    </tr>\n",
       "  </thead>\n",
       "  <tbody>\n",
       "    <tr>\n",
       "      <td>0</td>\n",
       "      <td>--KQJPdrU0Md97DiOliDzw</td>\n",
       "      <td>130</td>\n",
       "      <td>79</td>\n",
       "      <td>0.607692</td>\n",
       "      <td>Steven C.</td>\n",
       "      <td>Bellerose, NY</td>\n",
       "      <td>2006-01-01</td>\n",
       "      <td>87</td>\n",
       "      <td>163</td>\n",
       "      <td>9</td>\n",
       "      <td>277</td>\n",
       "      <td>169</td>\n",
       "      <td>140</td>\n",
       "      <td>135</td>\n",
       "      <td>13</td>\n",
       "      <td>5</td>\n",
       "      <td>0.220923</td>\n",
       "    </tr>\n",
       "    <tr>\n",
       "      <td>1</td>\n",
       "      <td>--KXo_HCYq9hB8NOdEUMKw</td>\n",
       "      <td>2</td>\n",
       "      <td>2</td>\n",
       "      <td>1.000000</td>\n",
       "      <td>Megan MJ J.</td>\n",
       "      <td>Chicago, IL</td>\n",
       "      <td>2010-01-04</td>\n",
       "      <td>12</td>\n",
       "      <td>4</td>\n",
       "      <td>0</td>\n",
       "      <td>1</td>\n",
       "      <td>1</td>\n",
       "      <td>0</td>\n",
       "      <td>1</td>\n",
       "      <td>0</td>\n",
       "      <td>1</td>\n",
       "      <td>0.121288</td>\n",
       "    </tr>\n",
       "    <tr>\n",
       "      <td>2</td>\n",
       "      <td>--Qh8yKWAvIP4V4K8ZPfHA</td>\n",
       "      <td>55</td>\n",
       "      <td>2</td>\n",
       "      <td>0.036364</td>\n",
       "      <td>Dixie cream tea Q.</td>\n",
       "      <td>Toronto, ON</td>\n",
       "      <td>2011-01-01</td>\n",
       "      <td>15</td>\n",
       "      <td>161</td>\n",
       "      <td>21</td>\n",
       "      <td>80</td>\n",
       "      <td>56</td>\n",
       "      <td>32</td>\n",
       "      <td>50</td>\n",
       "      <td>20</td>\n",
       "      <td>2</td>\n",
       "      <td>0.213624</td>\n",
       "    </tr>\n",
       "    <tr>\n",
       "      <td>3</td>\n",
       "      <td>--cDU5woxccqoHW5jzxJBw</td>\n",
       "      <td>4</td>\n",
       "      <td>4</td>\n",
       "      <td>1.000000</td>\n",
       "      <td>Brian J.</td>\n",
       "      <td>Chicago, IL</td>\n",
       "      <td>2008-01-05</td>\n",
       "      <td>7</td>\n",
       "      <td>10</td>\n",
       "      <td>0</td>\n",
       "      <td>12</td>\n",
       "      <td>3</td>\n",
       "      <td>1</td>\n",
       "      <td>2</td>\n",
       "      <td>0</td>\n",
       "      <td>0</td>\n",
       "      <td>0.140835</td>\n",
       "    </tr>\n",
       "    <tr>\n",
       "      <td>4</td>\n",
       "      <td>--eQVss9nAx54FWsZHZgpA</td>\n",
       "      <td>11</td>\n",
       "      <td>9</td>\n",
       "      <td>0.818182</td>\n",
       "      <td>Kc Wildman W.</td>\n",
       "      <td>Boulder, CO</td>\n",
       "      <td>2010-01-05</td>\n",
       "      <td>46</td>\n",
       "      <td>12</td>\n",
       "      <td>0</td>\n",
       "      <td>7</td>\n",
       "      <td>2</td>\n",
       "      <td>2</td>\n",
       "      <td>1</td>\n",
       "      <td>2</td>\n",
       "      <td>1</td>\n",
       "      <td>0.392062</td>\n",
       "    </tr>\n",
       "  </tbody>\n",
       "</table>\n",
       "</div>"
      ],
      "text/plain": [
       "               reviewerID  total_review  fake_review  fake_review_ratio  \\\n",
       "0  --KQJPdrU0Md97DiOliDzw           130           79           0.607692   \n",
       "1  --KXo_HCYq9hB8NOdEUMKw             2            2           1.000000   \n",
       "2  --Qh8yKWAvIP4V4K8ZPfHA            55            2           0.036364   \n",
       "3  --cDU5woxccqoHW5jzxJBw             4            4           1.000000   \n",
       "4  --eQVss9nAx54FWsZHZgpA            11            9           0.818182   \n",
       "\n",
       "        reviewer_name       location yelpJoinDate  friendCount  reviewCount  \\\n",
       "0           Steven C.  Bellerose, NY   2006-01-01           87          163   \n",
       "1         Megan MJ J.    Chicago, IL   2010-01-04           12            4   \n",
       "2  Dixie cream tea Q.    Toronto, ON   2011-01-01           15          161   \n",
       "3            Brian J.    Chicago, IL   2008-01-05            7           10   \n",
       "4       Kc Wildman W.    Boulder, CO   2010-01-05           46           12   \n",
       "\n",
       "   firstCount  usefulCount  coolCount  funnyCount  complimentCount  tipCount  \\\n",
       "0           9          277        169         140              135        13   \n",
       "1           0            1          1           0                1         0   \n",
       "2          21           80         56          32               50        20   \n",
       "3           0           12          3           1                2         0   \n",
       "4           0            7          2           2                1         2   \n",
       "\n",
       "   fanCount  avg_polarity  \n",
       "0         5      0.220923  \n",
       "1         1      0.121288  \n",
       "2         2      0.213624  \n",
       "3         0      0.140835  \n",
       "4         1      0.392062  "
      ]
     },
     "execution_count": 75,
     "metadata": {},
     "output_type": "execute_result"
    }
   ],
   "source": [
    "# is avg_polarity calculated accurately??? Yes\n",
    "df_reviewer.head()"
   ]
  },
  {
   "cell_type": "code",
   "execution_count": 76,
   "metadata": {},
   "outputs": [
    {
     "data": {
      "text/plain": [
       "Text(0.5, 1.0, 'Reviewer Average Polarity Distribution')"
      ]
     },
     "execution_count": 76,
     "metadata": {},
     "output_type": "execute_result"
    },
    {
     "data": {
      "image/png": "[encoded data removed]",
      "text/plain": [
       "<Figure size 648x576 with 1 Axes>"
      ]
     },
     "metadata": {
      "needs_background": "light"
     },
     "output_type": "display_data"
    }
   ],
   "source": [
    "plt.figure(figsize=(9, 8))\n",
    "sns.distplot(df_reviewer['avg_polarity'], color='g', bins=100, hist_kws={'alpha': 0.4, \"edgecolor\": 'black'});\n",
    "plt.title('Reviewer Average Polarity Distribution')\n"
   ]
  },
  {
   "cell_type": "code",
   "execution_count": 65,
   "metadata": {},
   "outputs": [
    {
     "data": {
      "text/plain": [
       "<seaborn.axisgrid.FacetGrid at 0x1ed2ec27888>"
      ]
     },
     "execution_count": 65,
     "metadata": {},
     "output_type": "execute_result"
    },
    {
     "data": {
      "image/png": "[encoded data removed]",
      "text/plain": [
       "<Figure size 360x360 with 1 Axes>"
      ]
     },
     "metadata": {
      "needs_background": "light"
     },
     "output_type": "display_data"
    }
   ],
   "source": [
    "sns.relplot(x=\"fake_review_ratio\", y=\"avg_polarity\", data=df_reviewer)"
   ]
  },
  {
   "cell_type": "markdown",
   "metadata": {},
   "source": [
    "### Average Review Length\n"
   ]
  },
  {
   "cell_type": "code",
   "execution_count": 66,
   "metadata": {},
   "outputs": [
    {
     "data": {
      "text/html": [
       "<div>\n",
       "<style scoped>\n",
       "    .dataframe tbody tr th:only-of-type {\n",
       "        vertical-align: middle;\n",
       "    }\n",
       "\n",
       "    .dataframe tbody tr th {\n",
       "        vertical-align: top;\n",
       "    }\n",
       "\n",
       "    .dataframe thead th {\n",
       "        text-align: right;\n",
       "    }\n",
       "</style>\n",
       "<table border=\"1\" class=\"dataframe\">\n",
       "  <thead>\n",
       "    <tr style=\"text-align: right;\">\n",
       "      <th></th>\n",
       "      <th>reviewerID</th>\n",
       "      <th>total_review</th>\n",
       "      <th>fake_review</th>\n",
       "      <th>fake_review_ratio</th>\n",
       "      <th>reviewer_name</th>\n",
       "      <th>location</th>\n",
       "      <th>yelpJoinDate</th>\n",
       "      <th>friendCount</th>\n",
       "      <th>reviewCount</th>\n",
       "      <th>firstCount</th>\n",
       "      <th>usefulCount</th>\n",
       "      <th>coolCount</th>\n",
       "      <th>funnyCount</th>\n",
       "      <th>complimentCount</th>\n",
       "      <th>tipCount</th>\n",
       "      <th>fanCount</th>\n",
       "      <th>avg_polarity</th>\n",
       "      <th>avg_length</th>\n",
       "    </tr>\n",
       "  </thead>\n",
       "  <tbody>\n",
       "    <tr>\n",
       "      <td>0</td>\n",
       "      <td>--KQJPdrU0Md97DiOliDzw</td>\n",
       "      <td>130</td>\n",
       "      <td>79</td>\n",
       "      <td>0.607692</td>\n",
       "      <td>Steven C.</td>\n",
       "      <td>Bellerose, NY</td>\n",
       "      <td>2006-01-01</td>\n",
       "      <td>87</td>\n",
       "      <td>163</td>\n",
       "      <td>9</td>\n",
       "      <td>277</td>\n",
       "      <td>169</td>\n",
       "      <td>140</td>\n",
       "      <td>135</td>\n",
       "      <td>13</td>\n",
       "      <td>5</td>\n",
       "      <td>0.220923</td>\n",
       "      <td>656.876923</td>\n",
       "    </tr>\n",
       "    <tr>\n",
       "      <td>1</td>\n",
       "      <td>--KXo_HCYq9hB8NOdEUMKw</td>\n",
       "      <td>2</td>\n",
       "      <td>2</td>\n",
       "      <td>1.000000</td>\n",
       "      <td>Megan MJ J.</td>\n",
       "      <td>Chicago, IL</td>\n",
       "      <td>2010-01-04</td>\n",
       "      <td>12</td>\n",
       "      <td>4</td>\n",
       "      <td>0</td>\n",
       "      <td>1</td>\n",
       "      <td>1</td>\n",
       "      <td>0</td>\n",
       "      <td>1</td>\n",
       "      <td>0</td>\n",
       "      <td>1</td>\n",
       "      <td>0.121288</td>\n",
       "      <td>751.500000</td>\n",
       "    </tr>\n",
       "    <tr>\n",
       "      <td>2</td>\n",
       "      <td>--Qh8yKWAvIP4V4K8ZPfHA</td>\n",
       "      <td>55</td>\n",
       "      <td>2</td>\n",
       "      <td>0.036364</td>\n",
       "      <td>Dixie cream tea Q.</td>\n",
       "      <td>Toronto, ON</td>\n",
       "      <td>2011-01-01</td>\n",
       "      <td>15</td>\n",
       "      <td>161</td>\n",
       "      <td>21</td>\n",
       "      <td>80</td>\n",
       "      <td>56</td>\n",
       "      <td>32</td>\n",
       "      <td>50</td>\n",
       "      <td>20</td>\n",
       "      <td>2</td>\n",
       "      <td>0.213624</td>\n",
       "      <td>766.981818</td>\n",
       "    </tr>\n",
       "    <tr>\n",
       "      <td>3</td>\n",
       "      <td>--cDU5woxccqoHW5jzxJBw</td>\n",
       "      <td>4</td>\n",
       "      <td>4</td>\n",
       "      <td>1.000000</td>\n",
       "      <td>Brian J.</td>\n",
       "      <td>Chicago, IL</td>\n",
       "      <td>2008-01-05</td>\n",
       "      <td>7</td>\n",
       "      <td>10</td>\n",
       "      <td>0</td>\n",
       "      <td>12</td>\n",
       "      <td>3</td>\n",
       "      <td>1</td>\n",
       "      <td>2</td>\n",
       "      <td>0</td>\n",
       "      <td>0</td>\n",
       "      <td>0.140835</td>\n",
       "      <td>1356.750000</td>\n",
       "    </tr>\n",
       "    <tr>\n",
       "      <td>4</td>\n",
       "      <td>--eQVss9nAx54FWsZHZgpA</td>\n",
       "      <td>11</td>\n",
       "      <td>9</td>\n",
       "      <td>0.818182</td>\n",
       "      <td>Kc Wildman W.</td>\n",
       "      <td>Boulder, CO</td>\n",
       "      <td>2010-01-05</td>\n",
       "      <td>46</td>\n",
       "      <td>12</td>\n",
       "      <td>0</td>\n",
       "      <td>7</td>\n",
       "      <td>2</td>\n",
       "      <td>2</td>\n",
       "      <td>1</td>\n",
       "      <td>2</td>\n",
       "      <td>1</td>\n",
       "      <td>0.392062</td>\n",
       "      <td>183.636364</td>\n",
       "    </tr>\n",
       "  </tbody>\n",
       "</table>\n",
       "</div>"
      ],
      "text/plain": [
       "               reviewerID  total_review  fake_review  fake_review_ratio  \\\n",
       "0  --KQJPdrU0Md97DiOliDzw           130           79           0.607692   \n",
       "1  --KXo_HCYq9hB8NOdEUMKw             2            2           1.000000   \n",
       "2  --Qh8yKWAvIP4V4K8ZPfHA            55            2           0.036364   \n",
       "3  --cDU5woxccqoHW5jzxJBw             4            4           1.000000   \n",
       "4  --eQVss9nAx54FWsZHZgpA            11            9           0.818182   \n",
       "\n",
       "        reviewer_name       location yelpJoinDate  friendCount  reviewCount  \\\n",
       "0           Steven C.  Bellerose, NY   2006-01-01           87          163   \n",
       "1         Megan MJ J.    Chicago, IL   2010-01-04           12            4   \n",
       "2  Dixie cream tea Q.    Toronto, ON   2011-01-01           15          161   \n",
       "3            Brian J.    Chicago, IL   2008-01-05            7           10   \n",
       "4       Kc Wildman W.    Boulder, CO   2010-01-05           46           12   \n",
       "\n",
       "   firstCount  usefulCount  coolCount  funnyCount  complimentCount  tipCount  \\\n",
       "0           9          277        169         140              135        13   \n",
       "1           0            1          1           0                1         0   \n",
       "2          21           80         56          32               50        20   \n",
       "3           0           12          3           1                2         0   \n",
       "4           0            7          2           2                1         2   \n",
       "\n",
       "   fanCount  avg_polarity   avg_length  \n",
       "0         5      0.220923   656.876923  \n",
       "1         1      0.121288   751.500000  \n",
       "2         2      0.213624   766.981818  \n",
       "3         0      0.140835  1356.750000  \n",
       "4         1      0.392062   183.636364  "
      ]
     },
     "execution_count": 66,
     "metadata": {},
     "output_type": "execute_result"
    }
   ],
   "source": [
    "df_test = df.groupby(['reviewerID'], as_index = False)['review_len'].agg({'total_length':'sum', 'num_reviews':'count'})\n",
    "df_test['avg_length'] = df_test['total_length']/df_test['num_reviews']\n",
    "df_reviewer = df_reviewer.join(df_test.drop(['total_length','num_reviews'],axis=1).set_index('reviewerID'), on = 'reviewerID')\n",
    "df_reviewer.head(5)\n"
   ]
  },
  {
   "cell_type": "markdown",
   "metadata": {},
   "source": [
    "### Maximum Review Numbers per Day"
   ]
  },
  {
   "cell_type": "code",
   "execution_count": 67,
   "metadata": {},
   "outputs": [
    {
     "data": {
      "text/html": [
       "<div>\n",
       "<style scoped>\n",
       "    .dataframe tbody tr th:only-of-type {\n",
       "        vertical-align: middle;\n",
       "    }\n",
       "\n",
       "    .dataframe tbody tr th {\n",
       "        vertical-align: top;\n",
       "    }\n",
       "\n",
       "    .dataframe thead th {\n",
       "        text-align: right;\n",
       "    }\n",
       "</style>\n",
       "<table border=\"1\" class=\"dataframe\">\n",
       "  <thead>\n",
       "    <tr style=\"text-align: right;\">\n",
       "      <th></th>\n",
       "      <th>reviewerID</th>\n",
       "      <th>total_review</th>\n",
       "      <th>fake_review</th>\n",
       "      <th>fake_review_ratio</th>\n",
       "      <th>reviewer_name</th>\n",
       "      <th>location</th>\n",
       "      <th>yelpJoinDate</th>\n",
       "      <th>friendCount</th>\n",
       "      <th>reviewCount</th>\n",
       "      <th>firstCount</th>\n",
       "      <th>usefulCount</th>\n",
       "      <th>coolCount</th>\n",
       "      <th>funnyCount</th>\n",
       "      <th>complimentCount</th>\n",
       "      <th>tipCount</th>\n",
       "      <th>fanCount</th>\n",
       "      <th>avg_polarity</th>\n",
       "      <th>avg_length</th>\n",
       "      <th>max_review</th>\n",
       "    </tr>\n",
       "  </thead>\n",
       "  <tbody>\n",
       "    <tr>\n",
       "      <td>0</td>\n",
       "      <td>--KQJPdrU0Md97DiOliDzw</td>\n",
       "      <td>130</td>\n",
       "      <td>79</td>\n",
       "      <td>0.607692</td>\n",
       "      <td>Steven C.</td>\n",
       "      <td>Bellerose, NY</td>\n",
       "      <td>2006-01-01</td>\n",
       "      <td>87</td>\n",
       "      <td>163</td>\n",
       "      <td>9</td>\n",
       "      <td>277</td>\n",
       "      <td>169</td>\n",
       "      <td>140</td>\n",
       "      <td>135</td>\n",
       "      <td>13</td>\n",
       "      <td>5</td>\n",
       "      <td>0.220923</td>\n",
       "      <td>656.876923</td>\n",
       "      <td>8</td>\n",
       "    </tr>\n",
       "    <tr>\n",
       "      <td>1</td>\n",
       "      <td>--KXo_HCYq9hB8NOdEUMKw</td>\n",
       "      <td>2</td>\n",
       "      <td>2</td>\n",
       "      <td>1.000000</td>\n",
       "      <td>Megan MJ J.</td>\n",
       "      <td>Chicago, IL</td>\n",
       "      <td>2010-01-04</td>\n",
       "      <td>12</td>\n",
       "      <td>4</td>\n",
       "      <td>0</td>\n",
       "      <td>1</td>\n",
       "      <td>1</td>\n",
       "      <td>0</td>\n",
       "      <td>1</td>\n",
       "      <td>0</td>\n",
       "      <td>1</td>\n",
       "      <td>0.121288</td>\n",
       "      <td>751.500000</td>\n",
       "      <td>2</td>\n",
       "    </tr>\n",
       "    <tr>\n",
       "      <td>2</td>\n",
       "      <td>--Qh8yKWAvIP4V4K8ZPfHA</td>\n",
       "      <td>55</td>\n",
       "      <td>2</td>\n",
       "      <td>0.036364</td>\n",
       "      <td>Dixie cream tea Q.</td>\n",
       "      <td>Toronto, ON</td>\n",
       "      <td>2011-01-01</td>\n",
       "      <td>15</td>\n",
       "      <td>161</td>\n",
       "      <td>21</td>\n",
       "      <td>80</td>\n",
       "      <td>56</td>\n",
       "      <td>32</td>\n",
       "      <td>50</td>\n",
       "      <td>20</td>\n",
       "      <td>2</td>\n",
       "      <td>0.213624</td>\n",
       "      <td>766.981818</td>\n",
       "      <td>5</td>\n",
       "    </tr>\n",
       "    <tr>\n",
       "      <td>3</td>\n",
       "      <td>--cDU5woxccqoHW5jzxJBw</td>\n",
       "      <td>4</td>\n",
       "      <td>4</td>\n",
       "      <td>1.000000</td>\n",
       "      <td>Brian J.</td>\n",
       "      <td>Chicago, IL</td>\n",
       "      <td>2008-01-05</td>\n",
       "      <td>7</td>\n",
       "      <td>10</td>\n",
       "      <td>0</td>\n",
       "      <td>12</td>\n",
       "      <td>3</td>\n",
       "      <td>1</td>\n",
       "      <td>2</td>\n",
       "      <td>0</td>\n",
       "      <td>0</td>\n",
       "      <td>0.140835</td>\n",
       "      <td>1356.750000</td>\n",
       "      <td>2</td>\n",
       "    </tr>\n",
       "    <tr>\n",
       "      <td>4</td>\n",
       "      <td>--eQVss9nAx54FWsZHZgpA</td>\n",
       "      <td>11</td>\n",
       "      <td>9</td>\n",
       "      <td>0.818182</td>\n",
       "      <td>Kc Wildman W.</td>\n",
       "      <td>Boulder, CO</td>\n",
       "      <td>2010-01-05</td>\n",
       "      <td>46</td>\n",
       "      <td>12</td>\n",
       "      <td>0</td>\n",
       "      <td>7</td>\n",
       "      <td>2</td>\n",
       "      <td>2</td>\n",
       "      <td>1</td>\n",
       "      <td>2</td>\n",
       "      <td>1</td>\n",
       "      <td>0.392062</td>\n",
       "      <td>183.636364</td>\n",
       "      <td>10</td>\n",
       "    </tr>\n",
       "  </tbody>\n",
       "</table>\n",
       "</div>"
      ],
      "text/plain": [
       "               reviewerID  total_review  fake_review  fake_review_ratio  \\\n",
       "0  --KQJPdrU0Md97DiOliDzw           130           79           0.607692   \n",
       "1  --KXo_HCYq9hB8NOdEUMKw             2            2           1.000000   \n",
       "2  --Qh8yKWAvIP4V4K8ZPfHA            55            2           0.036364   \n",
       "3  --cDU5woxccqoHW5jzxJBw             4            4           1.000000   \n",
       "4  --eQVss9nAx54FWsZHZgpA            11            9           0.818182   \n",
       "\n",
       "        reviewer_name       location yelpJoinDate  friendCount  reviewCount  \\\n",
       "0           Steven C.  Bellerose, NY   2006-01-01           87          163   \n",
       "1         Megan MJ J.    Chicago, IL   2010-01-04           12            4   \n",
       "2  Dixie cream tea Q.    Toronto, ON   2011-01-01           15          161   \n",
       "3            Brian J.    Chicago, IL   2008-01-05            7           10   \n",
       "4       Kc Wildman W.    Boulder, CO   2010-01-05           46           12   \n",
       "\n",
       "   firstCount  usefulCount  coolCount  funnyCount  complimentCount  tipCount  \\\n",
       "0           9          277        169         140              135        13   \n",
       "1           0            1          1           0                1         0   \n",
       "2          21           80         56          32               50        20   \n",
       "3           0           12          3           1                2         0   \n",
       "4           0            7          2           2                1         2   \n",
       "\n",
       "   fanCount  avg_polarity   avg_length  max_review  \n",
       "0         5      0.220923   656.876923           8  \n",
       "1         1      0.121288   751.500000           2  \n",
       "2         2      0.213624   766.981818           5  \n",
       "3         0      0.140835  1356.750000           2  \n",
       "4         1      0.392062   183.636364          10  "
      ]
     },
     "execution_count": 67,
     "metadata": {},
     "output_type": "execute_result"
    }
   ],
   "source": [
    "from collections import Counter\n",
    "reviewer_lst = df_reviewer.reviewerID.values.tolist()\n",
    "maximum_review = dict.fromkeys(reviewer_lst)\n",
    "reviewers = df.groupby(['reviewerID'])\n",
    "\n",
    "for ID in reviewer_lst:\n",
    "    reviewer = reviewers.get_group(ID)\n",
    "    date_lst = reviewer.date.values.tolist()\n",
    "    most_common,num_most_common = Counter(date_lst).most_common(1)[0]\n",
    "    maximum_review[ID] = num_most_common\n",
    "    \n",
    "newdf = pd.DataFrame.from_dict(maximum_review, orient='index', columns=['max_review'])\n",
    "newdf.index.name = 'reviewerID'\n",
    "newdf.reset_index(inplace=True)\n",
    "df_reviewer = df_reviewer.join(newdf.set_index('reviewerID'), on = 'reviewerID')\n",
    "df_reviewer.head(5)"
   ]
  },
  {
   "cell_type": "markdown",
   "metadata": {},
   "source": [
    "### Extreme Rating Ratio"
   ]
  },
  {
   "cell_type": "code",
   "execution_count": 74,
   "metadata": {},
   "outputs": [
    {
     "data": {
      "text/html": [
       "<div>\n",
       "<style scoped>\n",
       "    .dataframe tbody tr th:only-of-type {\n",
       "        vertical-align: middle;\n",
       "    }\n",
       "\n",
       "    .dataframe tbody tr th {\n",
       "        vertical-align: top;\n",
       "    }\n",
       "\n",
       "    .dataframe thead th {\n",
       "        text-align: right;\n",
       "    }\n",
       "</style>\n",
       "<table border=\"1\" class=\"dataframe\">\n",
       "  <thead>\n",
       "    <tr style=\"text-align: right;\">\n",
       "      <th></th>\n",
       "      <th>reviewerID</th>\n",
       "      <th>total_review</th>\n",
       "      <th>fake_review</th>\n",
       "      <th>fake_review_ratio</th>\n",
       "      <th>reviewer_name</th>\n",
       "      <th>location</th>\n",
       "      <th>yelpJoinDate</th>\n",
       "      <th>friendCount</th>\n",
       "      <th>reviewCount</th>\n",
       "      <th>firstCount</th>\n",
       "      <th>usefulCount</th>\n",
       "      <th>coolCount</th>\n",
       "      <th>funnyCount</th>\n",
       "      <th>complimentCount</th>\n",
       "      <th>tipCount</th>\n",
       "      <th>fanCount</th>\n",
       "      <th>avg_polarity</th>\n",
       "      <th>avg_length</th>\n",
       "      <th>max_review</th>\n",
       "      <th>extreme_ratio</th>\n",
       "    </tr>\n",
       "  </thead>\n",
       "  <tbody>\n",
       "    <tr>\n",
       "      <td>0</td>\n",
       "      <td>--KQJPdrU0Md97DiOliDzw</td>\n",
       "      <td>130</td>\n",
       "      <td>79</td>\n",
       "      <td>0.607692</td>\n",
       "      <td>Steven C.</td>\n",
       "      <td>Bellerose, NY</td>\n",
       "      <td>2006-01-01</td>\n",
       "      <td>87</td>\n",
       "      <td>163</td>\n",
       "      <td>9</td>\n",
       "      <td>277</td>\n",
       "      <td>169</td>\n",
       "      <td>140</td>\n",
       "      <td>135</td>\n",
       "      <td>13</td>\n",
       "      <td>5</td>\n",
       "      <td>0.220923</td>\n",
       "      <td>656.876923</td>\n",
       "      <td>8</td>\n",
       "      <td>0.192308</td>\n",
       "    </tr>\n",
       "    <tr>\n",
       "      <td>1</td>\n",
       "      <td>--KXo_HCYq9hB8NOdEUMKw</td>\n",
       "      <td>2</td>\n",
       "      <td>2</td>\n",
       "      <td>1.000000</td>\n",
       "      <td>Megan MJ J.</td>\n",
       "      <td>Chicago, IL</td>\n",
       "      <td>2010-01-04</td>\n",
       "      <td>12</td>\n",
       "      <td>4</td>\n",
       "      <td>0</td>\n",
       "      <td>1</td>\n",
       "      <td>1</td>\n",
       "      <td>0</td>\n",
       "      <td>1</td>\n",
       "      <td>0</td>\n",
       "      <td>1</td>\n",
       "      <td>0.121288</td>\n",
       "      <td>751.500000</td>\n",
       "      <td>2</td>\n",
       "      <td>0.500000</td>\n",
       "    </tr>\n",
       "    <tr>\n",
       "      <td>2</td>\n",
       "      <td>--Qh8yKWAvIP4V4K8ZPfHA</td>\n",
       "      <td>55</td>\n",
       "      <td>2</td>\n",
       "      <td>0.036364</td>\n",
       "      <td>Dixie cream tea Q.</td>\n",
       "      <td>Toronto, ON</td>\n",
       "      <td>2011-01-01</td>\n",
       "      <td>15</td>\n",
       "      <td>161</td>\n",
       "      <td>21</td>\n",
       "      <td>80</td>\n",
       "      <td>56</td>\n",
       "      <td>32</td>\n",
       "      <td>50</td>\n",
       "      <td>20</td>\n",
       "      <td>2</td>\n",
       "      <td>0.213624</td>\n",
       "      <td>766.981818</td>\n",
       "      <td>5</td>\n",
       "      <td>0.127273</td>\n",
       "    </tr>\n",
       "    <tr>\n",
       "      <td>3</td>\n",
       "      <td>--cDU5woxccqoHW5jzxJBw</td>\n",
       "      <td>4</td>\n",
       "      <td>4</td>\n",
       "      <td>1.000000</td>\n",
       "      <td>Brian J.</td>\n",
       "      <td>Chicago, IL</td>\n",
       "      <td>2008-01-05</td>\n",
       "      <td>7</td>\n",
       "      <td>10</td>\n",
       "      <td>0</td>\n",
       "      <td>12</td>\n",
       "      <td>3</td>\n",
       "      <td>1</td>\n",
       "      <td>2</td>\n",
       "      <td>0</td>\n",
       "      <td>0</td>\n",
       "      <td>0.140835</td>\n",
       "      <td>1356.750000</td>\n",
       "      <td>2</td>\n",
       "      <td>0.500000</td>\n",
       "    </tr>\n",
       "    <tr>\n",
       "      <td>4</td>\n",
       "      <td>--eQVss9nAx54FWsZHZgpA</td>\n",
       "      <td>11</td>\n",
       "      <td>9</td>\n",
       "      <td>0.818182</td>\n",
       "      <td>Kc Wildman W.</td>\n",
       "      <td>Boulder, CO</td>\n",
       "      <td>2010-01-05</td>\n",
       "      <td>46</td>\n",
       "      <td>12</td>\n",
       "      <td>0</td>\n",
       "      <td>7</td>\n",
       "      <td>2</td>\n",
       "      <td>2</td>\n",
       "      <td>1</td>\n",
       "      <td>2</td>\n",
       "      <td>1</td>\n",
       "      <td>0.392062</td>\n",
       "      <td>183.636364</td>\n",
       "      <td>10</td>\n",
       "      <td>0.818182</td>\n",
       "    </tr>\n",
       "  </tbody>\n",
       "</table>\n",
       "</div>"
      ],
      "text/plain": [
       "               reviewerID  total_review  fake_review  fake_review_ratio  \\\n",
       "0  --KQJPdrU0Md97DiOliDzw           130           79           0.607692   \n",
       "1  --KXo_HCYq9hB8NOdEUMKw             2            2           1.000000   \n",
       "2  --Qh8yKWAvIP4V4K8ZPfHA            55            2           0.036364   \n",
       "3  --cDU5woxccqoHW5jzxJBw             4            4           1.000000   \n",
       "4  --eQVss9nAx54FWsZHZgpA            11            9           0.818182   \n",
       "\n",
       "        reviewer_name       location yelpJoinDate  friendCount  reviewCount  \\\n",
       "0           Steven C.  Bellerose, NY   2006-01-01           87          163   \n",
       "1         Megan MJ J.    Chicago, IL   2010-01-04           12            4   \n",
       "2  Dixie cream tea Q.    Toronto, ON   2011-01-01           15          161   \n",
       "3            Brian J.    Chicago, IL   2008-01-05            7           10   \n",
       "4       Kc Wildman W.    Boulder, CO   2010-01-05           46           12   \n",
       "\n",
       "   firstCount  usefulCount  coolCount  funnyCount  complimentCount  tipCount  \\\n",
       "0           9          277        169         140              135        13   \n",
       "1           0            1          1           0                1         0   \n",
       "2          21           80         56          32               50        20   \n",
       "3           0           12          3           1                2         0   \n",
       "4           0            7          2           2                1         2   \n",
       "\n",
       "   fanCount  avg_polarity   avg_length  max_review  extreme_ratio  \n",
       "0         5      0.220923   656.876923           8       0.192308  \n",
       "1         1      0.121288   751.500000           2       0.500000  \n",
       "2         2      0.213624   766.981818           5       0.127273  \n",
       "3         0      0.140835  1356.750000           2       0.500000  \n",
       "4         1      0.392062   183.636364          10       0.818182  "
      ]
     },
     "execution_count": 74,
     "metadata": {},
     "output_type": "execute_result"
    }
   ],
   "source": [
    "reviewer_lst = df_reviewer.reviewerID.values.tolist()\n",
    "extreme_ratio = dict.fromkeys(reviewer_lst)\n",
    "reviewers = df.groupby(['reviewerID'])\n",
    "\n",
    "for ID in reviewer_lst:\n",
    "    reviewer = reviewers.get_group(ID)\n",
    "    rating_ID = reviewer.review_rating.values.tolist()\n",
    "    extreme_ratio[ID] = (rating_ID.count(1)+rating_ID.count(5))/len(rating_ID)\n",
    "\n",
    "newdf = pd.DataFrame.from_dict(extreme_ratio, orient='index', columns=['extreme_ratio'])\n",
    "newdf.index.name = 'reviewerID'\n",
    "newdf.reset_index(inplace=True)\n",
    "df_reviewer = df_reviewer.join(newdf.set_index('reviewerID'), on = 'reviewerID')\n",
    "df_reviewer.head()"
   ]
  },
  {
   "cell_type": "markdown",
   "metadata": {},
   "source": [
    "### Rating Deviation from the Mean Rating"
   ]
  },
  {
   "cell_type": "code",
   "execution_count": 77,
   "metadata": {},
   "outputs": [
    {
     "data": {
      "text/html": [
       "<div>\n",
       "<style scoped>\n",
       "    .dataframe tbody tr th:only-of-type {\n",
       "        vertical-align: middle;\n",
       "    }\n",
       "\n",
       "    .dataframe tbody tr th {\n",
       "        vertical-align: top;\n",
       "    }\n",
       "\n",
       "    .dataframe thead th {\n",
       "        text-align: right;\n",
       "    }\n",
       "</style>\n",
       "<table border=\"1\" class=\"dataframe\">\n",
       "  <thead>\n",
       "    <tr style=\"text-align: right;\">\n",
       "      <th></th>\n",
       "      <th>date</th>\n",
       "      <th>reviewID</th>\n",
       "      <th>reviewerID</th>\n",
       "      <th>reviewContent</th>\n",
       "      <th>review_rating</th>\n",
       "      <th>review_usefulCount</th>\n",
       "      <th>review_coolCount</th>\n",
       "      <th>review_funnyCount</th>\n",
       "      <th>flagged</th>\n",
       "      <th>restaurantID</th>\n",
       "      <th>...</th>\n",
       "      <th>restaurant_name</th>\n",
       "      <th>rating</th>\n",
       "      <th>processed_text</th>\n",
       "      <th>polarity</th>\n",
       "      <th>review_len</th>\n",
       "      <th>word_count</th>\n",
       "      <th>abs_polarity</th>\n",
       "      <th>avg_polarity</th>\n",
       "      <th>restaurant_avg_rating</th>\n",
       "      <th>rating_dev</th>\n",
       "    </tr>\n",
       "  </thead>\n",
       "  <tbody>\n",
       "    <tr>\n",
       "      <td>0</td>\n",
       "      <td>2012-09-25</td>\n",
       "      <td>xvdJntJlo01tHu83-vXiRw</td>\n",
       "      <td>bNYesZ944s6IJVowOnB0iA</td>\n",
       "      <td>Good choice by our Chicago friends for our fin...</td>\n",
       "      <td>4</td>\n",
       "      <td>0</td>\n",
       "      <td>0</td>\n",
       "      <td>0</td>\n",
       "      <td>0</td>\n",
       "      <td>KU_Ze0TpR2HgKG2OpTh2NA</td>\n",
       "      <td>...</td>\n",
       "      <td>Slurping Turtle</td>\n",
       "      <td>3.5</td>\n",
       "      <td>good choice chicago friend final meal head air...</td>\n",
       "      <td>0.403125</td>\n",
       "      <td>404</td>\n",
       "      <td>66</td>\n",
       "      <td>0.403125</td>\n",
       "      <td>0.220077</td>\n",
       "      <td>3.5</td>\n",
       "      <td>0.5</td>\n",
       "    </tr>\n",
       "    <tr>\n",
       "      <td>1</td>\n",
       "      <td>2012-06-23</td>\n",
       "      <td>Z4oAUd6mIOhxxDsle3trPA</td>\n",
       "      <td>BSh3h1J4mdSmEsb8FFdf0Q</td>\n",
       "      <td>I'm not a Takashi fan, so I was a bit hesitant...</td>\n",
       "      <td>4</td>\n",
       "      <td>0</td>\n",
       "      <td>0</td>\n",
       "      <td>0</td>\n",
       "      <td>1</td>\n",
       "      <td>KU_Ze0TpR2HgKG2OpTh2NA</td>\n",
       "      <td>...</td>\n",
       "      <td>Slurping Turtle</td>\n",
       "      <td>3.5</td>\n",
       "      <td>takashi fan bit hesitant going well glad gave ...</td>\n",
       "      <td>0.191304</td>\n",
       "      <td>838</td>\n",
       "      <td>151</td>\n",
       "      <td>0.191304</td>\n",
       "      <td>0.229850</td>\n",
       "      <td>3.5</td>\n",
       "      <td>0.5</td>\n",
       "    </tr>\n",
       "    <tr>\n",
       "      <td>2</td>\n",
       "      <td>2012-10-10</td>\n",
       "      <td>71c7BDude0l5tNjtxRZzMg</td>\n",
       "      <td>XVvbDeYn5Dk-MteNHwjC7Q</td>\n",
       "      <td>I should have read the the 3 stars and below r...</td>\n",
       "      <td>2</td>\n",
       "      <td>0</td>\n",
       "      <td>0</td>\n",
       "      <td>0</td>\n",
       "      <td>0</td>\n",
       "      <td>KU_Ze0TpR2HgKG2OpTh2NA</td>\n",
       "      <td>...</td>\n",
       "      <td>Slurping Turtle</td>\n",
       "      <td>3.5</td>\n",
       "      <td>read star review spent includes tip adult kid ...</td>\n",
       "      <td>0.187179</td>\n",
       "      <td>1418</td>\n",
       "      <td>263</td>\n",
       "      <td>0.187179</td>\n",
       "      <td>0.205952</td>\n",
       "      <td>3.5</td>\n",
       "      <td>1.5</td>\n",
       "    </tr>\n",
       "    <tr>\n",
       "      <td>3</td>\n",
       "      <td>2011-12-15</td>\n",
       "      <td>Vrzm2xmm2aBqBRqs3yK9Zw</td>\n",
       "      <td>om5ZiponkpRqUNa3pVPiRg</td>\n",
       "      <td>It must be called slurping turtle because thei...</td>\n",
       "      <td>3</td>\n",
       "      <td>8</td>\n",
       "      <td>3</td>\n",
       "      <td>4</td>\n",
       "      <td>1</td>\n",
       "      <td>KU_Ze0TpR2HgKG2OpTh2NA</td>\n",
       "      <td>...</td>\n",
       "      <td>Slurping Turtle</td>\n",
       "      <td>3.5</td>\n",
       "      <td>must called slurping turtle service slow turtl...</td>\n",
       "      <td>0.183707</td>\n",
       "      <td>1753</td>\n",
       "      <td>341</td>\n",
       "      <td>0.183707</td>\n",
       "      <td>0.232520</td>\n",
       "      <td>3.5</td>\n",
       "      <td>0.5</td>\n",
       "    </tr>\n",
       "    <tr>\n",
       "      <td>4</td>\n",
       "      <td>2012-09-07</td>\n",
       "      <td>coKi6jCbVd4qSUpoE5_0iA</td>\n",
       "      <td>LZt80LbsfQ9kOz96H7c1bA</td>\n",
       "      <td>I'm surprised this place is getting so many ne...</td>\n",
       "      <td>4</td>\n",
       "      <td>2</td>\n",
       "      <td>2</td>\n",
       "      <td>1</td>\n",
       "      <td>0</td>\n",
       "      <td>KU_Ze0TpR2HgKG2OpTh2NA</td>\n",
       "      <td>...</td>\n",
       "      <td>Slurping Turtle</td>\n",
       "      <td>3.5</td>\n",
       "      <td>surprised place getting many negativemediocre ...</td>\n",
       "      <td>0.297917</td>\n",
       "      <td>854</td>\n",
       "      <td>155</td>\n",
       "      <td>0.297917</td>\n",
       "      <td>0.285876</td>\n",
       "      <td>3.5</td>\n",
       "      <td>0.5</td>\n",
       "    </tr>\n",
       "  </tbody>\n",
       "</table>\n",
       "<p>5 rows × 32 columns</p>\n",
       "</div>"
      ],
      "text/plain": [
       "        date                reviewID              reviewerID  \\\n",
       "0 2012-09-25  xvdJntJlo01tHu83-vXiRw  bNYesZ944s6IJVowOnB0iA   \n",
       "1 2012-06-23  Z4oAUd6mIOhxxDsle3trPA  BSh3h1J4mdSmEsb8FFdf0Q   \n",
       "2 2012-10-10  71c7BDude0l5tNjtxRZzMg  XVvbDeYn5Dk-MteNHwjC7Q   \n",
       "3 2011-12-15  Vrzm2xmm2aBqBRqs3yK9Zw  om5ZiponkpRqUNa3pVPiRg   \n",
       "4 2012-09-07  coKi6jCbVd4qSUpoE5_0iA  LZt80LbsfQ9kOz96H7c1bA   \n",
       "\n",
       "                                       reviewContent  review_rating  \\\n",
       "0  Good choice by our Chicago friends for our fin...              4   \n",
       "1  I'm not a Takashi fan, so I was a bit hesitant...              4   \n",
       "2  I should have read the the 3 stars and below r...              2   \n",
       "3  It must be called slurping turtle because thei...              3   \n",
       "4  I'm surprised this place is getting so many ne...              4   \n",
       "\n",
       "   review_usefulCount  review_coolCount  review_funnyCount  flagged  \\\n",
       "0                   0                 0                  0        0   \n",
       "1                   0                 0                  0        1   \n",
       "2                   0                 0                  0        0   \n",
       "3                   8                 3                  4        1   \n",
       "4                   2                 2                  1        0   \n",
       "\n",
       "             restaurantID  ...  restaurant_name rating  \\\n",
       "0  KU_Ze0TpR2HgKG2OpTh2NA  ...  Slurping Turtle    3.5   \n",
       "1  KU_Ze0TpR2HgKG2OpTh2NA  ...  Slurping Turtle    3.5   \n",
       "2  KU_Ze0TpR2HgKG2OpTh2NA  ...  Slurping Turtle    3.5   \n",
       "3  KU_Ze0TpR2HgKG2OpTh2NA  ...  Slurping Turtle    3.5   \n",
       "4  KU_Ze0TpR2HgKG2OpTh2NA  ...  Slurping Turtle    3.5   \n",
       "\n",
       "                                      processed_text  polarity  review_len  \\\n",
       "0  good choice chicago friend final meal head air...  0.403125         404   \n",
       "1  takashi fan bit hesitant going well glad gave ...  0.191304         838   \n",
       "2  read star review spent includes tip adult kid ...  0.187179        1418   \n",
       "3  must called slurping turtle service slow turtl...  0.183707        1753   \n",
       "4  surprised place getting many negativemediocre ...  0.297917         854   \n",
       "\n",
       "   word_count  abs_polarity  avg_polarity  restaurant_avg_rating  rating_dev  \n",
       "0          66      0.403125      0.220077                    3.5         0.5  \n",
       "1         151      0.191304      0.229850                    3.5         0.5  \n",
       "2         263      0.187179      0.205952                    3.5         1.5  \n",
       "3         341      0.183707      0.232520                    3.5         0.5  \n",
       "4         155      0.297917      0.285876                    3.5         0.5  \n",
       "\n",
       "[5 rows x 32 columns]"
      ]
     },
     "execution_count": 77,
     "metadata": {},
     "output_type": "execute_result"
    }
   ],
   "source": [
    "import statistics\n",
    "res_lst = df.restaurantID.unique().tolist()\n",
    "restaurant_avg_rating = dict.fromkeys(res_lst)\n",
    "restaurants = df.groupby(['restaurantID'])\n",
    "\n",
    "for ID in res_lst:\n",
    "    res = restaurants.get_group(ID)\n",
    "    rating_lst = res.rating.values.tolist()\n",
    "    restaurant_avg_rating[ID] = statistics.mean(rating_lst)\n",
    "\n",
    "newdf = pd.DataFrame.from_dict(restaurant_avg_rating, orient='index', columns=['restaurant_avg_rating'])\n",
    "newdf.index.name = 'restaurantID'\n",
    "newdf.reset_index(inplace=True)\n",
    "df = df.join(newdf.set_index('restaurantID'), on = 'restaurantID')\n",
    "df['rating_dev'] = abs(df['review_rating'] - df['restaurant_avg_rating'])\n",
    "df.head()"
   ]
  },
  {
   "cell_type": "markdown",
   "metadata": {},
   "source": [
    "### Time Ratio of Review in All Reviews"
   ]
  },
  {
   "cell_type": "code",
   "execution_count": 78,
   "metadata": {},
   "outputs": [
    {
     "name": "stdout",
     "output_type": "stream",
     "text": [
      "[1348531200000000000, 1340409600000000000, 1349827200000000000, 1323907200000000000, 1346976000000000000]\n"
     ]
    }
   ],
   "source": [
    "restaurants = df.groupby(['restaurantID'])\n",
    "time_ratio = []\n",
    "dates = df.date.values.tolist()\n",
    "print(dates[:5])\n",
    "\n",
    "for index, row in  df.iterrows():\n",
    "    df_ResID = restaurants.get_group(row['restaurantID'])\n",
    "    sortedArray = sorted(df_ResID.date.values.tolist(),\n",
    "                         reverse=True)\n",
    "    x = sortedArray.index(int(dates[index]))\n",
    "    if len(sortedArray)==1:\n",
    "        time_ratio.append(1)\n",
    "    else: \n",
    "        time_ratio.append(x/(len(sortedArray)-1))\n",
    "df['time_ratio'] = time_ratio"
   ]
  },
  {
   "cell_type": "code",
   "execution_count": 79,
   "metadata": {},
   "outputs": [
    {
     "data": {
      "text/html": [
       "<div>\n",
       "<style scoped>\n",
       "    .dataframe tbody tr th:only-of-type {\n",
       "        vertical-align: middle;\n",
       "    }\n",
       "\n",
       "    .dataframe tbody tr th {\n",
       "        vertical-align: top;\n",
       "    }\n",
       "\n",
       "    .dataframe thead th {\n",
       "        text-align: right;\n",
       "    }\n",
       "</style>\n",
       "<table border=\"1\" class=\"dataframe\">\n",
       "  <thead>\n",
       "    <tr style=\"text-align: right;\">\n",
       "      <th></th>\n",
       "      <th>date</th>\n",
       "      <th>reviewID</th>\n",
       "      <th>reviewerID</th>\n",
       "      <th>reviewContent</th>\n",
       "      <th>review_rating</th>\n",
       "      <th>review_usefulCount</th>\n",
       "      <th>review_coolCount</th>\n",
       "      <th>review_funnyCount</th>\n",
       "      <th>flagged</th>\n",
       "      <th>restaurantID</th>\n",
       "      <th>...</th>\n",
       "      <th>rating</th>\n",
       "      <th>processed_text</th>\n",
       "      <th>polarity</th>\n",
       "      <th>review_len</th>\n",
       "      <th>word_count</th>\n",
       "      <th>abs_polarity</th>\n",
       "      <th>avg_polarity</th>\n",
       "      <th>restaurant_avg_rating</th>\n",
       "      <th>rating_dev</th>\n",
       "      <th>time_ratio</th>\n",
       "    </tr>\n",
       "  </thead>\n",
       "  <tbody>\n",
       "    <tr>\n",
       "      <td>0</td>\n",
       "      <td>2012-09-25</td>\n",
       "      <td>xvdJntJlo01tHu83-vXiRw</td>\n",
       "      <td>bNYesZ944s6IJVowOnB0iA</td>\n",
       "      <td>Good choice by our Chicago friends for our fin...</td>\n",
       "      <td>4</td>\n",
       "      <td>0</td>\n",
       "      <td>0</td>\n",
       "      <td>0</td>\n",
       "      <td>0</td>\n",
       "      <td>KU_Ze0TpR2HgKG2OpTh2NA</td>\n",
       "      <td>...</td>\n",
       "      <td>3.5</td>\n",
       "      <td>good choice chicago friend final meal head air...</td>\n",
       "      <td>0.403125</td>\n",
       "      <td>404</td>\n",
       "      <td>66</td>\n",
       "      <td>0.403125</td>\n",
       "      <td>0.220077</td>\n",
       "      <td>3.5</td>\n",
       "      <td>0.5</td>\n",
       "      <td>0.033333</td>\n",
       "    </tr>\n",
       "    <tr>\n",
       "      <td>1</td>\n",
       "      <td>2012-06-23</td>\n",
       "      <td>Z4oAUd6mIOhxxDsle3trPA</td>\n",
       "      <td>BSh3h1J4mdSmEsb8FFdf0Q</td>\n",
       "      <td>I'm not a Takashi fan, so I was a bit hesitant...</td>\n",
       "      <td>4</td>\n",
       "      <td>0</td>\n",
       "      <td>0</td>\n",
       "      <td>0</td>\n",
       "      <td>1</td>\n",
       "      <td>KU_Ze0TpR2HgKG2OpTh2NA</td>\n",
       "      <td>...</td>\n",
       "      <td>3.5</td>\n",
       "      <td>takashi fan bit hesitant going well glad gave ...</td>\n",
       "      <td>0.191304</td>\n",
       "      <td>838</td>\n",
       "      <td>151</td>\n",
       "      <td>0.191304</td>\n",
       "      <td>0.229850</td>\n",
       "      <td>3.5</td>\n",
       "      <td>0.5</td>\n",
       "      <td>0.322222</td>\n",
       "    </tr>\n",
       "    <tr>\n",
       "      <td>2</td>\n",
       "      <td>2012-10-10</td>\n",
       "      <td>71c7BDude0l5tNjtxRZzMg</td>\n",
       "      <td>XVvbDeYn5Dk-MteNHwjC7Q</td>\n",
       "      <td>I should have read the the 3 stars and below r...</td>\n",
       "      <td>2</td>\n",
       "      <td>0</td>\n",
       "      <td>0</td>\n",
       "      <td>0</td>\n",
       "      <td>0</td>\n",
       "      <td>KU_Ze0TpR2HgKG2OpTh2NA</td>\n",
       "      <td>...</td>\n",
       "      <td>3.5</td>\n",
       "      <td>read star review spent includes tip adult kid ...</td>\n",
       "      <td>0.187179</td>\n",
       "      <td>1418</td>\n",
       "      <td>263</td>\n",
       "      <td>0.187179</td>\n",
       "      <td>0.205952</td>\n",
       "      <td>3.5</td>\n",
       "      <td>1.5</td>\n",
       "      <td>0.011111</td>\n",
       "    </tr>\n",
       "    <tr>\n",
       "      <td>3</td>\n",
       "      <td>2011-12-15</td>\n",
       "      <td>Vrzm2xmm2aBqBRqs3yK9Zw</td>\n",
       "      <td>om5ZiponkpRqUNa3pVPiRg</td>\n",
       "      <td>It must be called slurping turtle because thei...</td>\n",
       "      <td>3</td>\n",
       "      <td>8</td>\n",
       "      <td>3</td>\n",
       "      <td>4</td>\n",
       "      <td>1</td>\n",
       "      <td>KU_Ze0TpR2HgKG2OpTh2NA</td>\n",
       "      <td>...</td>\n",
       "      <td>3.5</td>\n",
       "      <td>must called slurping turtle service slow turtl...</td>\n",
       "      <td>0.183707</td>\n",
       "      <td>1753</td>\n",
       "      <td>341</td>\n",
       "      <td>0.183707</td>\n",
       "      <td>0.232520</td>\n",
       "      <td>3.5</td>\n",
       "      <td>0.5</td>\n",
       "      <td>0.855556</td>\n",
       "    </tr>\n",
       "    <tr>\n",
       "      <td>4</td>\n",
       "      <td>2012-09-07</td>\n",
       "      <td>coKi6jCbVd4qSUpoE5_0iA</td>\n",
       "      <td>LZt80LbsfQ9kOz96H7c1bA</td>\n",
       "      <td>I'm surprised this place is getting so many ne...</td>\n",
       "      <td>4</td>\n",
       "      <td>2</td>\n",
       "      <td>2</td>\n",
       "      <td>1</td>\n",
       "      <td>0</td>\n",
       "      <td>KU_Ze0TpR2HgKG2OpTh2NA</td>\n",
       "      <td>...</td>\n",
       "      <td>3.5</td>\n",
       "      <td>surprised place getting many negativemediocre ...</td>\n",
       "      <td>0.297917</td>\n",
       "      <td>854</td>\n",
       "      <td>155</td>\n",
       "      <td>0.297917</td>\n",
       "      <td>0.285876</td>\n",
       "      <td>3.5</td>\n",
       "      <td>0.5</td>\n",
       "      <td>0.077778</td>\n",
       "    </tr>\n",
       "  </tbody>\n",
       "</table>\n",
       "<p>5 rows × 33 columns</p>\n",
       "</div>"
      ],
      "text/plain": [
       "        date                reviewID              reviewerID  \\\n",
       "0 2012-09-25  xvdJntJlo01tHu83-vXiRw  bNYesZ944s6IJVowOnB0iA   \n",
       "1 2012-06-23  Z4oAUd6mIOhxxDsle3trPA  BSh3h1J4mdSmEsb8FFdf0Q   \n",
       "2 2012-10-10  71c7BDude0l5tNjtxRZzMg  XVvbDeYn5Dk-MteNHwjC7Q   \n",
       "3 2011-12-15  Vrzm2xmm2aBqBRqs3yK9Zw  om5ZiponkpRqUNa3pVPiRg   \n",
       "4 2012-09-07  coKi6jCbVd4qSUpoE5_0iA  LZt80LbsfQ9kOz96H7c1bA   \n",
       "\n",
       "                                       reviewContent  review_rating  \\\n",
       "0  Good choice by our Chicago friends for our fin...              4   \n",
       "1  I'm not a Takashi fan, so I was a bit hesitant...              4   \n",
       "2  I should have read the the 3 stars and below r...              2   \n",
       "3  It must be called slurping turtle because thei...              3   \n",
       "4  I'm surprised this place is getting so many ne...              4   \n",
       "\n",
       "   review_usefulCount  review_coolCount  review_funnyCount  flagged  \\\n",
       "0                   0                 0                  0        0   \n",
       "1                   0                 0                  0        1   \n",
       "2                   0                 0                  0        0   \n",
       "3                   8                 3                  4        1   \n",
       "4                   2                 2                  1        0   \n",
       "\n",
       "             restaurantID  ... rating  \\\n",
       "0  KU_Ze0TpR2HgKG2OpTh2NA  ...    3.5   \n",
       "1  KU_Ze0TpR2HgKG2OpTh2NA  ...    3.5   \n",
       "2  KU_Ze0TpR2HgKG2OpTh2NA  ...    3.5   \n",
       "3  KU_Ze0TpR2HgKG2OpTh2NA  ...    3.5   \n",
       "4  KU_Ze0TpR2HgKG2OpTh2NA  ...    3.5   \n",
       "\n",
       "                                      processed_text  polarity  review_len  \\\n",
       "0  good choice chicago friend final meal head air...  0.403125         404   \n",
       "1  takashi fan bit hesitant going well glad gave ...  0.191304         838   \n",
       "2  read star review spent includes tip adult kid ...  0.187179        1418   \n",
       "3  must called slurping turtle service slow turtl...  0.183707        1753   \n",
       "4  surprised place getting many negativemediocre ...  0.297917         854   \n",
       "\n",
       "   word_count  abs_polarity  avg_polarity  restaurant_avg_rating  rating_dev  \\\n",
       "0          66      0.403125      0.220077                    3.5         0.5   \n",
       "1         151      0.191304      0.229850                    3.5         0.5   \n",
       "2         263      0.187179      0.205952                    3.5         1.5   \n",
       "3         341      0.183707      0.232520                    3.5         0.5   \n",
       "4         155      0.297917      0.285876                    3.5         0.5   \n",
       "\n",
       "   time_ratio  \n",
       "0    0.033333  \n",
       "1    0.322222  \n",
       "2    0.011111  \n",
       "3    0.855556  \n",
       "4    0.077778  \n",
       "\n",
       "[5 rows x 33 columns]"
      ]
     },
     "execution_count": 79,
     "metadata": {},
     "output_type": "execute_result"
    }
   ],
   "source": [
    "df.head()"
   ]
  },
  {
   "cell_type": "markdown",
   "metadata": {},
   "source": [
    "### Review Simililarity of Reviewer"
   ]
  },
  {
   "cell_type": "code",
   "execution_count": 80,
   "metadata": {},
   "outputs": [
    {
     "name": "stderr",
     "output_type": "stream",
     "text": [
      "100%|███████████████████████████████████████████████████████████████████████████| 14321/14321 [02:00<00:00, 118.42it/s]\n"
     ]
    }
   ],
   "source": [
    "# calculate cosine similarity\n",
    "from sklearn.feature_extraction.text import TfidfVectorizer\n",
    "from sklearn.metrics.pairwise import linear_kernel\n",
    "from statistics import mean\n",
    "\n",
    "TfidfVec = TfidfVectorizer()\n",
    "def cos_similarity(textlist):\n",
    "    tfidf = TfidfVec.fit_transform(textlist)\n",
    "    return (tfidf * tfidf.T).toarray()\n",
    "\n",
    "group_reviewer = df.groupby('reviewerID')\n",
    "\n",
    "reviewerIDs = df.reviewerID.unique()\n",
    "df_reviewer_similarity = pd.DataFrame(columns=['reviewerID','ave_similarity','max_similarity'])\n",
    "\n",
    "for reviewer in tqdm(reviewerIDs):\n",
    "    review_content = group_reviewer.get_group(reviewer).processed_text.values.tolist()\n",
    "    similarity = cos_similarity(review_content)\n",
    "    ave_similarity = []\n",
    "    max_similarity = []\n",
    "    if len(similarity) > 1:\n",
    "        for i in range(len(similarity)):\n",
    "            average = np.delete(similarity[i], [i]).mean()\n",
    "            maximum = np.delete(similarity[i], [i]).max()\n",
    "            ave_similarity.append(average)\n",
    "            max_similarity.append(maximum)\n",
    "    else:\n",
    "        ave_similarity.append(0)\n",
    "        max_similarity.append(0)\n",
    "        \n",
    "    dict_reviewer = {}\n",
    "    dict_reviewer['reviewerID'] = reviewer\n",
    "    dict_reviewer['ave_similarity'] = mean(ave_similarity)\n",
    "    dict_reviewer['max_similarity'] = max(max_similarity)\n",
    "    df_temp = pd.DataFrame(dict_reviewer,index=[0])\n",
    "    df_reviewer_similarity = df_reviewer_similarity.append(df_temp)\n",
    "    \n",
    "df = df.merge(df_reviewer_similarity, on = 'reviewerID', how = 'left')"
   ]
  },
  {
   "cell_type": "code",
   "execution_count": 144,
   "metadata": {},
   "outputs": [
    {
     "data": {
      "text/html": [
       "<div>\n",
       "<style scoped>\n",
       "    .dataframe tbody tr th:only-of-type {\n",
       "        vertical-align: middle;\n",
       "    }\n",
       "\n",
       "    .dataframe tbody tr th {\n",
       "        vertical-align: top;\n",
       "    }\n",
       "\n",
       "    .dataframe thead th {\n",
       "        text-align: right;\n",
       "    }\n",
       "</style>\n",
       "<table border=\"1\" class=\"dataframe\">\n",
       "  <thead>\n",
       "    <tr style=\"text-align: right;\">\n",
       "      <th></th>\n",
       "      <th>date</th>\n",
       "      <th>reviewID</th>\n",
       "      <th>reviewerID</th>\n",
       "      <th>reviewContent</th>\n",
       "      <th>review_rating</th>\n",
       "      <th>review_usefulCount</th>\n",
       "      <th>review_coolCount</th>\n",
       "      <th>review_funnyCount</th>\n",
       "      <th>flagged</th>\n",
       "      <th>restaurantID</th>\n",
       "      <th>reviewer_name</th>\n",
       "      <th>location</th>\n",
       "      <th>yelpJoinDate</th>\n",
       "      <th>friendCount</th>\n",
       "      <th>reviewCount</th>\n",
       "      <th>firstCount</th>\n",
       "      <th>usefulCount</th>\n",
       "      <th>coolCount</th>\n",
       "      <th>funnyCount</th>\n",
       "      <th>complimentCount</th>\n",
       "      <th>tipCount</th>\n",
       "      <th>fanCount</th>\n",
       "      <th>restaurant_name</th>\n",
       "      <th>rating</th>\n",
       "      <th>processed_text</th>\n",
       "      <th>polarity</th>\n",
       "      <th>review_len</th>\n",
       "      <th>word_count</th>\n",
       "      <th>abs_polarity</th>\n",
       "      <th>avg_polarity</th>\n",
       "      <th>restaurant_avg_rating</th>\n",
       "      <th>rating_dev</th>\n",
       "      <th>time_ratio</th>\n",
       "      <th>ave_similarity</th>\n",
       "      <th>max_similarity</th>\n",
       "    </tr>\n",
       "  </thead>\n",
       "  <tbody>\n",
       "    <tr>\n",
       "      <th>0</th>\n",
       "      <td>2012-09-25</td>\n",
       "      <td>xvdJntJlo01tHu83-vXiRw</td>\n",
       "      <td>bNYesZ944s6IJVowOnB0iA</td>\n",
       "      <td>Good choice by our Chicago friends for our fin...</td>\n",
       "      <td>4</td>\n",
       "      <td>0</td>\n",
       "      <td>0</td>\n",
       "      <td>0</td>\n",
       "      <td>0</td>\n",
       "      <td>KU_Ze0TpR2HgKG2OpTh2NA</td>\n",
       "      <td>Scott E.</td>\n",
       "      <td>Glengary, WV</td>\n",
       "      <td>2009-01-10</td>\n",
       "      <td>11</td>\n",
       "      <td>48</td>\n",
       "      <td>5</td>\n",
       "      <td>41</td>\n",
       "      <td>5</td>\n",
       "      <td>5</td>\n",
       "      <td>2</td>\n",
       "      <td>0</td>\n",
       "      <td>1</td>\n",
       "      <td>Slurping Turtle</td>\n",
       "      <td>3.5</td>\n",
       "      <td>good choice chicago friend final meal head air...</td>\n",
       "      <td>0.403125</td>\n",
       "      <td>404</td>\n",
       "      <td>66</td>\n",
       "      <td>0.403125</td>\n",
       "      <td>0.220077</td>\n",
       "      <td>3.5</td>\n",
       "      <td>0.5</td>\n",
       "      <td>0.033333</td>\n",
       "      <td>0.064132</td>\n",
       "      <td>0.473407</td>\n",
       "    </tr>\n",
       "    <tr>\n",
       "      <th>1</th>\n",
       "      <td>2012-06-23</td>\n",
       "      <td>Z4oAUd6mIOhxxDsle3trPA</td>\n",
       "      <td>BSh3h1J4mdSmEsb8FFdf0Q</td>\n",
       "      <td>I'm not a Takashi fan, so I was a bit hesitant...</td>\n",
       "      <td>4</td>\n",
       "      <td>0</td>\n",
       "      <td>0</td>\n",
       "      <td>0</td>\n",
       "      <td>1</td>\n",
       "      <td>KU_Ze0TpR2HgKG2OpTh2NA</td>\n",
       "      <td>Steven N.</td>\n",
       "      <td>Chicago, IL</td>\n",
       "      <td>2010-01-07</td>\n",
       "      <td>34</td>\n",
       "      <td>116</td>\n",
       "      <td>2</td>\n",
       "      <td>93</td>\n",
       "      <td>16</td>\n",
       "      <td>19</td>\n",
       "      <td>10</td>\n",
       "      <td>0</td>\n",
       "      <td>2</td>\n",
       "      <td>Slurping Turtle</td>\n",
       "      <td>3.5</td>\n",
       "      <td>takashi fan bit hesitant going well glad gave ...</td>\n",
       "      <td>0.191304</td>\n",
       "      <td>838</td>\n",
       "      <td>151</td>\n",
       "      <td>0.191304</td>\n",
       "      <td>0.229850</td>\n",
       "      <td>3.5</td>\n",
       "      <td>0.5</td>\n",
       "      <td>0.322222</td>\n",
       "      <td>0.061079</td>\n",
       "      <td>0.268346</td>\n",
       "    </tr>\n",
       "    <tr>\n",
       "      <th>2</th>\n",
       "      <td>2012-10-10</td>\n",
       "      <td>71c7BDude0l5tNjtxRZzMg</td>\n",
       "      <td>XVvbDeYn5Dk-MteNHwjC7Q</td>\n",
       "      <td>I should have read the the 3 stars and below r...</td>\n",
       "      <td>2</td>\n",
       "      <td>0</td>\n",
       "      <td>0</td>\n",
       "      <td>0</td>\n",
       "      <td>0</td>\n",
       "      <td>KU_Ze0TpR2HgKG2OpTh2NA</td>\n",
       "      <td>Penny L.</td>\n",
       "      <td>Cook County, IL</td>\n",
       "      <td>2007-01-12</td>\n",
       "      <td>2</td>\n",
       "      <td>14</td>\n",
       "      <td>1</td>\n",
       "      <td>5</td>\n",
       "      <td>1</td>\n",
       "      <td>3</td>\n",
       "      <td>0</td>\n",
       "      <td>4</td>\n",
       "      <td>1</td>\n",
       "      <td>Slurping Turtle</td>\n",
       "      <td>3.5</td>\n",
       "      <td>read star review spent includes tip adult kid ...</td>\n",
       "      <td>0.187179</td>\n",
       "      <td>1418</td>\n",
       "      <td>263</td>\n",
       "      <td>0.187179</td>\n",
       "      <td>0.205952</td>\n",
       "      <td>3.5</td>\n",
       "      <td>1.5</td>\n",
       "      <td>0.011111</td>\n",
       "      <td>0.027939</td>\n",
       "      <td>0.210318</td>\n",
       "    </tr>\n",
       "    <tr>\n",
       "      <th>3</th>\n",
       "      <td>2011-12-15</td>\n",
       "      <td>Vrzm2xmm2aBqBRqs3yK9Zw</td>\n",
       "      <td>om5ZiponkpRqUNa3pVPiRg</td>\n",
       "      <td>It must be called slurping turtle because thei...</td>\n",
       "      <td>3</td>\n",
       "      <td>8</td>\n",
       "      <td>3</td>\n",
       "      <td>4</td>\n",
       "      <td>1</td>\n",
       "      <td>KU_Ze0TpR2HgKG2OpTh2NA</td>\n",
       "      <td>Andrea W R.</td>\n",
       "      <td>Chicago, IL</td>\n",
       "      <td>2006-01-01</td>\n",
       "      <td>3945</td>\n",
       "      <td>2063</td>\n",
       "      <td>347</td>\n",
       "      <td>12660</td>\n",
       "      <td>9617</td>\n",
       "      <td>6682</td>\n",
       "      <td>6948</td>\n",
       "      <td>605</td>\n",
       "      <td>503</td>\n",
       "      <td>Slurping Turtle</td>\n",
       "      <td>3.5</td>\n",
       "      <td>must called slurping turtle service slow turtl...</td>\n",
       "      <td>0.183707</td>\n",
       "      <td>1753</td>\n",
       "      <td>341</td>\n",
       "      <td>0.183707</td>\n",
       "      <td>0.232520</td>\n",
       "      <td>3.5</td>\n",
       "      <td>0.5</td>\n",
       "      <td>0.855556</td>\n",
       "      <td>0.044843</td>\n",
       "      <td>0.575308</td>\n",
       "    </tr>\n",
       "    <tr>\n",
       "      <th>4</th>\n",
       "      <td>2012-09-07</td>\n",
       "      <td>coKi6jCbVd4qSUpoE5_0iA</td>\n",
       "      <td>LZt80LbsfQ9kOz96H7c1bA</td>\n",
       "      <td>I'm surprised this place is getting so many ne...</td>\n",
       "      <td>4</td>\n",
       "      <td>2</td>\n",
       "      <td>2</td>\n",
       "      <td>1</td>\n",
       "      <td>0</td>\n",
       "      <td>KU_Ze0TpR2HgKG2OpTh2NA</td>\n",
       "      <td>Jessica N.</td>\n",
       "      <td>Chicago, IL</td>\n",
       "      <td>2010-01-12</td>\n",
       "      <td>68</td>\n",
       "      <td>132</td>\n",
       "      <td>0</td>\n",
       "      <td>154</td>\n",
       "      <td>84</td>\n",
       "      <td>22</td>\n",
       "      <td>24</td>\n",
       "      <td>3</td>\n",
       "      <td>7</td>\n",
       "      <td>Slurping Turtle</td>\n",
       "      <td>3.5</td>\n",
       "      <td>surprised place getting many negativemediocre ...</td>\n",
       "      <td>0.297917</td>\n",
       "      <td>854</td>\n",
       "      <td>155</td>\n",
       "      <td>0.297917</td>\n",
       "      <td>0.285876</td>\n",
       "      <td>3.5</td>\n",
       "      <td>0.5</td>\n",
       "      <td>0.077778</td>\n",
       "      <td>0.052898</td>\n",
       "      <td>0.328510</td>\n",
       "    </tr>\n",
       "  </tbody>\n",
       "</table>\n",
       "</div>"
      ],
      "text/plain": [
       "        date                reviewID              reviewerID  \\\n",
       "0 2012-09-25  xvdJntJlo01tHu83-vXiRw  bNYesZ944s6IJVowOnB0iA   \n",
       "1 2012-06-23  Z4oAUd6mIOhxxDsle3trPA  BSh3h1J4mdSmEsb8FFdf0Q   \n",
       "2 2012-10-10  71c7BDude0l5tNjtxRZzMg  XVvbDeYn5Dk-MteNHwjC7Q   \n",
       "3 2011-12-15  Vrzm2xmm2aBqBRqs3yK9Zw  om5ZiponkpRqUNa3pVPiRg   \n",
       "4 2012-09-07  coKi6jCbVd4qSUpoE5_0iA  LZt80LbsfQ9kOz96H7c1bA   \n",
       "\n",
       "                                       reviewContent  review_rating  \\\n",
       "0  Good choice by our Chicago friends for our fin...              4   \n",
       "1  I'm not a Takashi fan, so I was a bit hesitant...              4   \n",
       "2  I should have read the the 3 stars and below r...              2   \n",
       "3  It must be called slurping turtle because thei...              3   \n",
       "4  I'm surprised this place is getting so many ne...              4   \n",
       "\n",
       "   review_usefulCount  review_coolCount  review_funnyCount  flagged  \\\n",
       "0                   0                 0                  0        0   \n",
       "1                   0                 0                  0        1   \n",
       "2                   0                 0                  0        0   \n",
       "3                   8                 3                  4        1   \n",
       "4                   2                 2                  1        0   \n",
       "\n",
       "             restaurantID reviewer_name         location yelpJoinDate  \\\n",
       "0  KU_Ze0TpR2HgKG2OpTh2NA      Scott E.     Glengary, WV   2009-01-10   \n",
       "1  KU_Ze0TpR2HgKG2OpTh2NA     Steven N.      Chicago, IL   2010-01-07   \n",
       "2  KU_Ze0TpR2HgKG2OpTh2NA      Penny L.  Cook County, IL   2007-01-12   \n",
       "3  KU_Ze0TpR2HgKG2OpTh2NA   Andrea W R.      Chicago, IL   2006-01-01   \n",
       "4  KU_Ze0TpR2HgKG2OpTh2NA    Jessica N.      Chicago, IL   2010-01-12   \n",
       "\n",
       "   friendCount  reviewCount  firstCount  usefulCount  coolCount  funnyCount  \\\n",
       "0           11           48           5           41          5           5   \n",
       "1           34          116           2           93         16          19   \n",
       "2            2           14           1            5          1           3   \n",
       "3         3945         2063         347        12660       9617        6682   \n",
       "4           68          132           0          154         84          22   \n",
       "\n",
       "   complimentCount  tipCount  fanCount  restaurant_name  rating  \\\n",
       "0                2         0         1  Slurping Turtle     3.5   \n",
       "1               10         0         2  Slurping Turtle     3.5   \n",
       "2                0         4         1  Slurping Turtle     3.5   \n",
       "3             6948       605       503  Slurping Turtle     3.5   \n",
       "4               24         3         7  Slurping Turtle     3.5   \n",
       "\n",
       "                                      processed_text  polarity  review_len  \\\n",
       "0  good choice chicago friend final meal head air...  0.403125         404   \n",
       "1  takashi fan bit hesitant going well glad gave ...  0.191304         838   \n",
       "2  read star review spent includes tip adult kid ...  0.187179        1418   \n",
       "3  must called slurping turtle service slow turtl...  0.183707        1753   \n",
       "4  surprised place getting many negativemediocre ...  0.297917         854   \n",
       "\n",
       "   word_count  abs_polarity  avg_polarity  restaurant_avg_rating  rating_dev  \\\n",
       "0          66      0.403125      0.220077                    3.5         0.5   \n",
       "1         151      0.191304      0.229850                    3.5         0.5   \n",
       "2         263      0.187179      0.205952                    3.5         1.5   \n",
       "3         341      0.183707      0.232520                    3.5         0.5   \n",
       "4         155      0.297917      0.285876                    3.5         0.5   \n",
       "\n",
       "   time_ratio  ave_similarity  max_similarity  \n",
       "0    0.033333        0.064132        0.473407  \n",
       "1    0.322222        0.061079        0.268346  \n",
       "2    0.011111        0.027939        0.210318  \n",
       "3    0.855556        0.044843        0.575308  \n",
       "4    0.077778        0.052898        0.328510  "
      ]
     },
     "execution_count": 144,
     "metadata": {},
     "output_type": "execute_result"
    }
   ],
   "source": [
    "df.head()"
   ]
  },
  {
   "cell_type": "code",
   "execution_count": 83,
   "metadata": {},
   "outputs": [
    {
     "data": {
      "text/plain": [
       "Index(['reviewerID', 'total_review', 'fake_review', 'fake_review_ratio',\n",
       "       'reviewer_name', 'location', 'yelpJoinDate', 'friendCount',\n",
       "       'reviewCount', 'firstCount', 'usefulCount', 'coolCount', 'funnyCount',\n",
       "       'complimentCount', 'tipCount', 'fanCount', 'avg_polarity', 'avg_length',\n",
       "       'max_review', 'extreme_ratio'],\n",
       "      dtype='object')"
      ]
     },
     "execution_count": 83,
     "metadata": {},
     "output_type": "execute_result"
    }
   ],
   "source": [
    "df_reviewer.columns"
   ]
  },
  {
   "cell_type": "code",
   "execution_count": 84,
   "metadata": {},
   "outputs": [
    {
     "data": {
      "text/plain": [
       "Index(['date', 'reviewID', 'reviewerID', 'reviewContent', 'review_rating',\n",
       "       'review_usefulCount', 'review_coolCount', 'review_funnyCount',\n",
       "       'flagged', 'restaurantID', 'reviewer_name', 'location', 'yelpJoinDate',\n",
       "       'friendCount', 'reviewCount', 'firstCount', 'usefulCount', 'coolCount',\n",
       "       'funnyCount', 'complimentCount', 'tipCount', 'fanCount',\n",
       "       'restaurant_name', 'rating', 'processed_text', 'polarity', 'review_len',\n",
       "       'word_count', 'abs_polarity', 'avg_polarity', 'restaurant_avg_rating',\n",
       "       'rating_dev', 'time_ratio', 'ave_similarity', 'max_similarity'],\n",
       "      dtype='object')"
      ]
     },
     "execution_count": 84,
     "metadata": {},
     "output_type": "execute_result"
    }
   ],
   "source": [
    "df.columns"
   ]
  },
  {
   "cell_type": "code",
   "execution_count": 88,
   "metadata": {
    "scrolled": true
   },
   "outputs": [],
   "source": [
    "new_cols = ['reviewerID','total_review', 'fake_review', 'fake_review_ratio', 'avg_length', 'max_review', 'extreme_ratio']\n",
    "final_df = df.merge(df_reviewer[new_cols], on = 'reviewerID', how = 'left')"
   ]
  },
  {
   "cell_type": "code",
   "execution_count": 89,
   "metadata": {},
   "outputs": [
    {
     "data": {
      "text/plain": [
       "Index(['date', 'reviewID', 'reviewerID', 'reviewContent', 'review_rating',\n",
       "       'review_usefulCount', 'review_coolCount', 'review_funnyCount',\n",
       "       'flagged', 'restaurantID', 'reviewer_name', 'location', 'yelpJoinDate',\n",
       "       'friendCount', 'reviewCount', 'firstCount', 'usefulCount', 'coolCount',\n",
       "       'funnyCount', 'complimentCount', 'tipCount', 'fanCount',\n",
       "       'restaurant_name', 'rating', 'processed_text', 'polarity', 'review_len',\n",
       "       'word_count', 'abs_polarity', 'avg_polarity', 'restaurant_avg_rating',\n",
       "       'rating_dev', 'time_ratio', 'ave_similarity', 'max_similarity',\n",
       "       'total_review', 'fake_review', 'fake_review_ratio', 'avg_length',\n",
       "       'max_review', 'extreme_ratio'],\n",
       "      dtype='object')"
      ]
     },
     "execution_count": 89,
     "metadata": {},
     "output_type": "execute_result"
    }
   ],
   "source": [
    "final_df.columns"
   ]
  },
  {
   "cell_type": "code",
   "execution_count": 93,
   "metadata": {},
   "outputs": [
    {
     "data": {
      "text/plain": [
       "(411380, 44)"
      ]
     },
     "execution_count": 93,
     "metadata": {},
     "output_type": "execute_result"
    }
   ],
   "source": [
    "final_df = final_df.merge(df_restaurant.drop('restaurant_name', 1), on = 'restaurantID', how = 'left')\n",
    "final_df.shape"
   ]
  },
  {
   "cell_type": "code",
   "execution_count": 94,
   "metadata": {},
   "outputs": [],
   "source": [
    "final_df.to_pickle('../data/final_df.pkl')"
   ]
  }
 ],
 "metadata": {
  "kernelspec": {
   "display_name": "Python 3",
   "language": "python",
   "name": "python3"
  },
  "language_info": {
   "codemirror_mode": {
    "name": "ipython",
    "version": 3
   },
   "file_extension": ".py",
   "mimetype": "text/x-python",
   "name": "python",
   "nbconvert_exporter": "python",
   "pygments_lexer": "ipython3",
   "version": "3.7.4"
  }
 },
 "nbformat": 4,
 "nbformat_minor": 2
}
