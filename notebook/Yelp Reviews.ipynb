{
 "cells": [
  {
   "cell_type": "markdown",
   "metadata": {},
   "source": [
    "# Fake Review Detection"
   ]
  },
  {
   "cell_type": "code",
   "execution_count": 24,
   "metadata": {},
   "outputs": [],
   "source": [
    "import pandas as pd\n",
    "pd.options.mode.chained_assignment = None\n",
    "import numpy as np\n",
    "import sqlite3\n",
    "import re\n",
    "from datetime import datetime\n",
    "from tqdm import tqdm\n",
    "\n",
    "import matplotlib.pyplot as plt\n",
    "import seaborn as sns\n",
    "from mpl_toolkits.mplot3d import Axes3D\n",
    "\n",
    "%matplotlib inline"
   ]
  },
  {
   "cell_type": "markdown",
   "metadata": {},
   "source": [
    "## Load Data"
   ]
  },
  {
   "cell_type": "code",
   "execution_count": 48,
   "metadata": {},
   "outputs": [],
   "source": [
    "conn = sqlite3.connect('../data/yelpResData.db')\n",
    "conn.text_factory = lambda b: b.decode(errors = 'ignore')"
   ]
  },
  {
   "cell_type": "code",
   "execution_count": 5,
   "metadata": {
    "scrolled": false
   },
   "outputs": [
    {
     "name": "stdout",
     "output_type": "stream",
     "text": [
      "review\n",
      "restaurant\n",
      "reviewer\n"
     ]
    }
   ],
   "source": [
    "# check table names in the database\n",
    "res = conn.execute(\"SELECT name FROM sqlite_master WHERE type='table';\")\n",
    "for name in res:\n",
    "    print (name[0])"
   ]
  },
  {
   "cell_type": "markdown",
   "metadata": {},
   "source": [
    "#### Load restaurant dataset"
   ]
  },
  {
   "cell_type": "code",
   "execution_count": 49,
   "metadata": {},
   "outputs": [],
   "source": [
    "# load restaurant table to df\n",
    "res = pd.read_sql(\"select * from restaurant;\", conn)"
   ]
  },
  {
   "cell_type": "code",
   "execution_count": 57,
   "metadata": {
    "scrolled": false
   },
   "outputs": [
    {
     "data": {
      "text/plain": [
       "Restaurants, Mexican, METADATA                                  7384\n",
       "Add, METADATA                                                   6442\n",
       "Event Planning & Services, Hotels, Hotels & Travel, METADATA    5453\n",
       "Name: categories, dtype: int64"
      ]
     },
     "execution_count": 57,
     "metadata": {},
     "output_type": "execute_result"
    }
   ],
   "source": [
    "res.categories.value_counts()[:3]"
   ]
  },
  {
   "cell_type": "code",
   "execution_count": 58,
   "metadata": {
    "scrolled": true
   },
   "outputs": [],
   "source": [
    "res = res[res.categories.str.contains('Restaurants')]"
   ]
  },
  {
   "cell_type": "code",
   "execution_count": 59,
   "metadata": {},
   "outputs": [],
   "source": [
    "# take selection columns\n",
    "columns = ['restaurantID', 'name', 'rating']\n",
    "res = res[columns]\n",
    "res = res.rename(columns={'name':'restaurant_name'})"
   ]
  },
  {
   "cell_type": "markdown",
   "metadata": {},
   "source": [
    "#### Load review dataset"
   ]
  },
  {
   "cell_type": "code",
   "execution_count": 60,
   "metadata": {},
   "outputs": [
    {
     "data": {
      "text/plain": [
       "Index(['date', 'reviewID', 'reviewerID', 'reviewContent', 'rating',\n",
       "       'usefulCount', 'coolCount', 'funnyCount', 'flagged', 'restaurantID'],\n",
       "      dtype='object')"
      ]
     },
     "execution_count": 60,
     "metadata": {},
     "output_type": "execute_result"
    }
   ],
   "source": [
    "# load review table to df\n",
    "review = pd.read_sql(\"select * from review;\", conn)\n",
    "review.columns"
   ]
  },
  {
   "cell_type": "code",
   "execution_count": 61,
   "metadata": {
    "scrolled": false
   },
   "outputs": [
    {
     "data": {
      "text/plain": [
       "NR    402774\n",
       "YR    318678\n",
       "N      58716\n",
       "Y       8303\n",
       "Name: flagged, dtype: int64"
      ]
     },
     "execution_count": 61,
     "metadata": {},
     "output_type": "execute_result"
    }
   ],
   "source": [
    "# check the classes in flagged column\n",
    "review.flagged.value_counts()"
   ]
  },
  {
   "cell_type": "markdown",
   "metadata": {},
   "source": [
    "There are 4 classes in the review dataframe. Y and N classes are not filtered by the Yelp fake review detection engine, less reliable labelling. Since we have about 700k reviews left (large enough) and the N and Y classes combined makes only 8.5% of the data, we decided to remove them, only keeping NR and YR classes.\n",
    "- NR: True review\n",
    "- YR: Fake review"
   ]
  },
  {
   "cell_type": "code",
   "execution_count": 62,
   "metadata": {
    "scrolled": false
   },
   "outputs": [],
   "source": [
    "review = review[(review.flagged != 'Y') & (review.flagged != 'N')]\n",
    "review.reset_index(drop=True,inplace=True)"
   ]
  },
  {
   "cell_type": "code",
   "execution_count": 64,
   "metadata": {},
   "outputs": [
    {
     "name": "stdout",
     "output_type": "stream",
     "text": [
      "there are no duplicated reviews\n"
     ]
    }
   ],
   "source": [
    "# checking if there are duplicated reviews\n",
    "if (review.shape[0] == review.reviewID.nunique()):\n",
    "    print('there are no duplicated reviews')\n",
    "else:\n",
    "    print('Duplicated reviews are')\n",
    "    mask = review.duplicated(subset='reviewID', keep = False)\n",
    "    review[mask]"
   ]
  },
  {
   "cell_type": "code",
   "execution_count": 65,
   "metadata": {
    "scrolled": true
   },
   "outputs": [],
   "source": [
    "# clean the date column in review\n",
    "mask = review.date.str.contains('Update')\n",
    "ok_date = review[~mask]\n",
    "notok_date = review[mask]\n",
    "notok_date['date'] = notok_date['date'].apply(lambda x: str(x).split()[2])\n",
    "review = pd.concat([ok_date, notok_date])"
   ]
  },
  {
   "cell_type": "code",
   "execution_count": 66,
   "metadata": {
    "scrolled": true
   },
   "outputs": [],
   "source": [
    "# convert date to datetime\n",
    "review.date = pd.to_datetime(review.date)"
   ]
  },
  {
   "cell_type": "markdown",
   "metadata": {},
   "source": [
    "#### Load reviewer dataset"
   ]
  },
  {
   "cell_type": "code",
   "execution_count": 67,
   "metadata": {
    "scrolled": true
   },
   "outputs": [
    {
     "data": {
      "text/plain": [
       "Index(['reviewerID', 'name', 'location', 'yelpJoinDate', 'friendCount',\n",
       "       'reviewCount', 'firstCount', 'usefulCount', 'coolCount', 'funnyCount',\n",
       "       'complimentCount', 'tipCount', 'fanCount'],\n",
       "      dtype='object')"
      ]
     },
     "execution_count": 67,
     "metadata": {},
     "output_type": "execute_result"
    }
   ],
   "source": [
    "# load reviewer table to df\n",
    "reviewer = pd.read_sql(\"select * from reviewer;\", conn)\n",
    "reviewer.columns"
   ]
  },
  {
   "cell_type": "code",
   "execution_count": 68,
   "metadata": {},
   "outputs": [
    {
     "name": "stdout",
     "output_type": "stream",
     "text": [
      "review_reviewer_intersect: {'funnyCount', 'reviewerID', 'coolCount', 'usefulCount'}\n",
      "review_res_intersect: {'restaurantID', 'rating'}\n"
     ]
    }
   ],
   "source": [
    "# repeated columns in review and reviewer\n",
    "review_reviewer_intersect = set(review.columns).intersection(set(reviewer.columns))\n",
    "review_res_intersect = set(review.columns).intersection(set(res.columns))\n",
    "\n",
    "print('review_reviewer_intersect: {}'.format(review_reviewer_intersect))\n",
    "print('review_res_intersect: {}'.format(review_res_intersect))"
   ]
  },
  {
   "cell_type": "markdown",
   "metadata": {},
   "source": [
    "Both review and reviewer df have columns coolCount, funnyCount, usefulCount. We need to differentiate them. Similarly, review and restaurant both have rating columns"
   ]
  },
  {
   "cell_type": "code",
   "execution_count": 131,
   "metadata": {},
   "outputs": [],
   "source": [
    "review = review.rename(columns={'coolCount':'review_coolCount', 'funnyCount':'review_funnyCount', \n",
    "                                'usefulCount':'review_usefulCount', 'rating': 'review_rating'})\n",
    "reviewer = reviewer.rename(columns={'name':'reviewer_name'})"
   ]
  },
  {
   "cell_type": "code",
   "execution_count": 70,
   "metadata": {},
   "outputs": [
    {
     "data": {
      "text/plain": [
       "numpy.datetime64('2009-01-10T00:00:00.000000000')"
      ]
     },
     "execution_count": 70,
     "metadata": {},
     "output_type": "execute_result"
    }
   ],
   "source": [
    "# the yelpJoinDate is in format 'June 2019', change it to datetime object\n",
    "reviewer['yelpJoinDate'] = reviewer['yelpJoinDate'].apply(lambda x: datetime.strftime(datetime.strptime(x, '%B %Y'), '01/%m/%Y'))\n",
    "reviewer['yelpJoinDate'] = pd.to_datetime(reviewer['yelpJoinDate'])\n",
    "reviewer['yelpJoinDate'].values[0]"
   ]
  },
  {
   "cell_type": "code",
   "execution_count": 71,
   "metadata": {},
   "outputs": [
    {
     "name": "stdout",
     "output_type": "stream",
     "text": [
      "Final df columns:\n",
      "['date', 'reviewID', 'reviewerID', 'reviewContent', 'review_rating', 'review_usefulCount', 'review_coolCount', 'review_funnyCount', 'flagged', 'restaurantID', 'reviewer_name', 'location', 'yelpJoinDate', 'friendCount', 'reviewCount', 'firstCount', 'usefulCount', 'coolCount', 'funnyCount', 'complimentCount', 'tipCount', 'fanCount', 'restaurant_name', 'rating']\n"
     ]
    },
    {
     "data": {
      "text/html": [
       "<div>\n",
       "<style scoped>\n",
       "    .dataframe tbody tr th:only-of-type {\n",
       "        vertical-align: middle;\n",
       "    }\n",
       "\n",
       "    .dataframe tbody tr th {\n",
       "        vertical-align: top;\n",
       "    }\n",
       "\n",
       "    .dataframe thead th {\n",
       "        text-align: right;\n",
       "    }\n",
       "</style>\n",
       "<table border=\"1\" class=\"dataframe\">\n",
       "  <thead>\n",
       "    <tr style=\"text-align: right;\">\n",
       "      <th></th>\n",
       "      <th>date</th>\n",
       "      <th>reviewID</th>\n",
       "      <th>reviewerID</th>\n",
       "      <th>reviewContent</th>\n",
       "      <th>review_rating</th>\n",
       "      <th>review_usefulCount</th>\n",
       "      <th>review_coolCount</th>\n",
       "      <th>review_funnyCount</th>\n",
       "      <th>flagged</th>\n",
       "      <th>restaurantID</th>\n",
       "      <th>...</th>\n",
       "      <th>reviewCount</th>\n",
       "      <th>firstCount</th>\n",
       "      <th>usefulCount</th>\n",
       "      <th>coolCount</th>\n",
       "      <th>funnyCount</th>\n",
       "      <th>complimentCount</th>\n",
       "      <th>tipCount</th>\n",
       "      <th>fanCount</th>\n",
       "      <th>restaurant_name</th>\n",
       "      <th>rating</th>\n",
       "    </tr>\n",
       "  </thead>\n",
       "  <tbody>\n",
       "    <tr>\n",
       "      <td>0</td>\n",
       "      <td>2012-09-25</td>\n",
       "      <td>xvdJntJlo01tHu83-vXiRw</td>\n",
       "      <td>bNYesZ944s6IJVowOnB0iA</td>\n",
       "      <td>Good choice by our Chicago friends for our fin...</td>\n",
       "      <td>4</td>\n",
       "      <td>0</td>\n",
       "      <td>0</td>\n",
       "      <td>0</td>\n",
       "      <td>NR</td>\n",
       "      <td>KU_Ze0TpR2HgKG2OpTh2NA</td>\n",
       "      <td>...</td>\n",
       "      <td>48</td>\n",
       "      <td>5</td>\n",
       "      <td>41</td>\n",
       "      <td>5</td>\n",
       "      <td>5</td>\n",
       "      <td>2</td>\n",
       "      <td>0</td>\n",
       "      <td>1</td>\n",
       "      <td>Slurping Turtle</td>\n",
       "      <td>3.5</td>\n",
       "    </tr>\n",
       "    <tr>\n",
       "      <td>1</td>\n",
       "      <td>2012-06-23</td>\n",
       "      <td>Z4oAUd6mIOhxxDsle3trPA</td>\n",
       "      <td>BSh3h1J4mdSmEsb8FFdf0Q</td>\n",
       "      <td>I'm not a Takashi fan, so I was a bit hesitant...</td>\n",
       "      <td>4</td>\n",
       "      <td>0</td>\n",
       "      <td>0</td>\n",
       "      <td>0</td>\n",
       "      <td>YR</td>\n",
       "      <td>KU_Ze0TpR2HgKG2OpTh2NA</td>\n",
       "      <td>...</td>\n",
       "      <td>116</td>\n",
       "      <td>2</td>\n",
       "      <td>93</td>\n",
       "      <td>16</td>\n",
       "      <td>19</td>\n",
       "      <td>10</td>\n",
       "      <td>0</td>\n",
       "      <td>2</td>\n",
       "      <td>Slurping Turtle</td>\n",
       "      <td>3.5</td>\n",
       "    </tr>\n",
       "    <tr>\n",
       "      <td>2</td>\n",
       "      <td>2012-10-10</td>\n",
       "      <td>71c7BDude0l5tNjtxRZzMg</td>\n",
       "      <td>XVvbDeYn5Dk-MteNHwjC7Q</td>\n",
       "      <td>I should have read the the 3 stars and below r...</td>\n",
       "      <td>2</td>\n",
       "      <td>0</td>\n",
       "      <td>0</td>\n",
       "      <td>0</td>\n",
       "      <td>NR</td>\n",
       "      <td>KU_Ze0TpR2HgKG2OpTh2NA</td>\n",
       "      <td>...</td>\n",
       "      <td>14</td>\n",
       "      <td>1</td>\n",
       "      <td>5</td>\n",
       "      <td>1</td>\n",
       "      <td>3</td>\n",
       "      <td>0</td>\n",
       "      <td>4</td>\n",
       "      <td>1</td>\n",
       "      <td>Slurping Turtle</td>\n",
       "      <td>3.5</td>\n",
       "    </tr>\n",
       "    <tr>\n",
       "      <td>3</td>\n",
       "      <td>2011-12-15</td>\n",
       "      <td>Vrzm2xmm2aBqBRqs3yK9Zw</td>\n",
       "      <td>om5ZiponkpRqUNa3pVPiRg</td>\n",
       "      <td>It must be called slurping turtle because thei...</td>\n",
       "      <td>3</td>\n",
       "      <td>8</td>\n",
       "      <td>3</td>\n",
       "      <td>4</td>\n",
       "      <td>YR</td>\n",
       "      <td>KU_Ze0TpR2HgKG2OpTh2NA</td>\n",
       "      <td>...</td>\n",
       "      <td>2063</td>\n",
       "      <td>347</td>\n",
       "      <td>12660</td>\n",
       "      <td>9617</td>\n",
       "      <td>6682</td>\n",
       "      <td>6948</td>\n",
       "      <td>605</td>\n",
       "      <td>503</td>\n",
       "      <td>Slurping Turtle</td>\n",
       "      <td>3.5</td>\n",
       "    </tr>\n",
       "    <tr>\n",
       "      <td>4</td>\n",
       "      <td>2012-09-07</td>\n",
       "      <td>coKi6jCbVd4qSUpoE5_0iA</td>\n",
       "      <td>LZt80LbsfQ9kOz96H7c1bA</td>\n",
       "      <td>I'm surprised this place is getting so many ne...</td>\n",
       "      <td>4</td>\n",
       "      <td>2</td>\n",
       "      <td>2</td>\n",
       "      <td>1</td>\n",
       "      <td>NR</td>\n",
       "      <td>KU_Ze0TpR2HgKG2OpTh2NA</td>\n",
       "      <td>...</td>\n",
       "      <td>132</td>\n",
       "      <td>0</td>\n",
       "      <td>154</td>\n",
       "      <td>84</td>\n",
       "      <td>22</td>\n",
       "      <td>24</td>\n",
       "      <td>3</td>\n",
       "      <td>7</td>\n",
       "      <td>Slurping Turtle</td>\n",
       "      <td>3.5</td>\n",
       "    </tr>\n",
       "  </tbody>\n",
       "</table>\n",
       "<p>5 rows × 24 columns</p>\n",
       "</div>"
      ],
      "text/plain": [
       "        date                reviewID              reviewerID  \\\n",
       "0 2012-09-25  xvdJntJlo01tHu83-vXiRw  bNYesZ944s6IJVowOnB0iA   \n",
       "1 2012-06-23  Z4oAUd6mIOhxxDsle3trPA  BSh3h1J4mdSmEsb8FFdf0Q   \n",
       "2 2012-10-10  71c7BDude0l5tNjtxRZzMg  XVvbDeYn5Dk-MteNHwjC7Q   \n",
       "3 2011-12-15  Vrzm2xmm2aBqBRqs3yK9Zw  om5ZiponkpRqUNa3pVPiRg   \n",
       "4 2012-09-07  coKi6jCbVd4qSUpoE5_0iA  LZt80LbsfQ9kOz96H7c1bA   \n",
       "\n",
       "                                       reviewContent  review_rating  \\\n",
       "0  Good choice by our Chicago friends for our fin...              4   \n",
       "1  I'm not a Takashi fan, so I was a bit hesitant...              4   \n",
       "2  I should have read the the 3 stars and below r...              2   \n",
       "3  It must be called slurping turtle because thei...              3   \n",
       "4  I'm surprised this place is getting so many ne...              4   \n",
       "\n",
       "   review_usefulCount  review_coolCount  review_funnyCount flagged  \\\n",
       "0                   0                 0                  0      NR   \n",
       "1                   0                 0                  0      YR   \n",
       "2                   0                 0                  0      NR   \n",
       "3                   8                 3                  4      YR   \n",
       "4                   2                 2                  1      NR   \n",
       "\n",
       "             restaurantID  ... reviewCount firstCount usefulCount  coolCount  \\\n",
       "0  KU_Ze0TpR2HgKG2OpTh2NA  ...          48          5          41          5   \n",
       "1  KU_Ze0TpR2HgKG2OpTh2NA  ...         116          2          93         16   \n",
       "2  KU_Ze0TpR2HgKG2OpTh2NA  ...          14          1           5          1   \n",
       "3  KU_Ze0TpR2HgKG2OpTh2NA  ...        2063        347       12660       9617   \n",
       "4  KU_Ze0TpR2HgKG2OpTh2NA  ...         132          0         154         84   \n",
       "\n",
       "   funnyCount  complimentCount  tipCount  fanCount  restaurant_name  rating  \n",
       "0           5                2         0         1  Slurping Turtle     3.5  \n",
       "1          19               10         0         2  Slurping Turtle     3.5  \n",
       "2           3                0         4         1  Slurping Turtle     3.5  \n",
       "3        6682             6948       605       503  Slurping Turtle     3.5  \n",
       "4          22               24         3         7  Slurping Turtle     3.5  \n",
       "\n",
       "[5 rows x 24 columns]"
      ]
     },
     "execution_count": 71,
     "metadata": {},
     "output_type": "execute_result"
    }
   ],
   "source": [
    "# merge the 3 tables\n",
    "df_merged = review.merge(reviewer, on='reviewerID', how='inner')\n",
    "df = df_merged.merge(res, on='restaurantID', how='inner')\n",
    "print('Final df columns:')\n",
    "print(df.columns.to_list())\n",
    "df.head()"
   ]
  },
  {
   "cell_type": "code",
   "execution_count": 190,
   "metadata": {},
   "outputs": [],
   "source": [
    "# easy loading next time\n",
    "# df.to_pickle('../data/merged_df.pkl')\n",
    "df = pd.read_pickle('../data/merged_df.pkl')"
   ]
  },
  {
   "cell_type": "code",
   "execution_count": 191,
   "metadata": {},
   "outputs": [
    {
     "data": {
      "text/plain": [
       "Index(['date', 'reviewID', 'reviewerID', 'reviewContent', 'review_rating',\n",
       "       'review_usefulCount', 'review_coolCount', 'review_funnyCount',\n",
       "       'flagged', 'restaurantID', 'reviewer_name', 'location', 'yelpJoinDate',\n",
       "       'friendCount', 'reviewCount', 'firstCount', 'usefulCount', 'coolCount',\n",
       "       'funnyCount', 'complimentCount', 'tipCount', 'fanCount',\n",
       "       'restaurant_name', 'rating'],\n",
       "      dtype='object')"
      ]
     },
     "execution_count": 191,
     "metadata": {},
     "output_type": "execute_result"
    }
   ],
   "source": [
    "df.columns"
   ]
  },
  {
   "cell_type": "markdown",
   "metadata": {},
   "source": [
    "# EDA\n",
    "## Overview"
   ]
  },
  {
   "cell_type": "code",
   "execution_count": 192,
   "metadata": {
    "scrolled": true
   },
   "outputs": [
    {
     "data": {
      "text/plain": [
       "YR    223414\n",
       "NR    187966\n",
       "Name: flagged, dtype: int64"
      ]
     },
     "execution_count": 192,
     "metadata": {},
     "output_type": "execute_result"
    }
   ],
   "source": [
    "df.flagged.value_counts()"
   ]
  },
  {
   "cell_type": "code",
   "execution_count": 193,
   "metadata": {},
   "outputs": [],
   "source": [
    "df.loc[df['flagged'] == 'YR', 'flagged'] = 0\n",
    "df.loc[df['flagged'] == 'NR', 'flagged'] = 1"
   ]
  },
  {
   "cell_type": "code",
   "execution_count": 194,
   "metadata": {},
   "outputs": [],
   "source": [
    "real = df[df.flagged == 1]\n",
    "fake = df[df.flagged == 0]"
   ]
  },
  {
   "cell_type": "code",
   "execution_count": 139,
   "metadata": {},
   "outputs": [
    {
     "data": {
      "text/plain": [
       "True"
      ]
     },
     "execution_count": 139,
     "metadata": {},
     "output_type": "execute_result"
    }
   ],
   "source": [
    "# check if every review is unique\n",
    "df.reviewID.nunique() == df.shape[0]"
   ]
  },
  {
   "cell_type": "code",
   "execution_count": 140,
   "metadata": {},
   "outputs": [
    {
     "data": {
      "text/plain": [
       "411380"
      ]
     },
     "execution_count": 140,
     "metadata": {},
     "output_type": "execute_result"
    }
   ],
   "source": [
    "# total number of unique reviews\n",
    "df.shape[0]"
   ]
  },
  {
   "cell_type": "code",
   "execution_count": 141,
   "metadata": {},
   "outputs": [
    {
     "data": {
      "text/plain": [
       "14321"
      ]
     },
     "execution_count": 141,
     "metadata": {},
     "output_type": "execute_result"
    }
   ],
   "source": [
    "# check the number of unique reviewers\n",
    "df.reviewerID.nunique()"
   ]
  },
  {
   "cell_type": "code",
   "execution_count": 142,
   "metadata": {
    "scrolled": false
   },
   "outputs": [
    {
     "data": {
      "text/plain": [
       "Chicago, IL             135047\n",
       "San Francisco, CA        30996\n",
       "Los Angeles, CA          14517\n",
       "New York, NY             13549\n",
       "Boston, MA                5389\n",
       "                         ...  \n",
       "Fort Myers Beach, FL         1\n",
       "Ina, IL                      1\n",
       "Hammondsport, NY             1\n",
       "Rosharon, TX                 1\n",
       "Marquette, MI                1\n",
       "Name: location, Length: 1361, dtype: int64"
      ]
     },
     "execution_count": 142,
     "metadata": {},
     "output_type": "execute_result"
    }
   ],
   "source": [
    "# check the locations\n",
    "df.location.value_counts()"
   ]
  },
  {
   "cell_type": "code",
   "execution_count": 143,
   "metadata": {},
   "outputs": [
    {
     "data": {
      "text/plain": [
       "114625"
      ]
     },
     "execution_count": 143,
     "metadata": {},
     "output_type": "execute_result"
    }
   ],
   "source": [
    "# check number of restaurants\n",
    "df.restaurantID.nunique()"
   ]
  },
  {
   "cell_type": "markdown",
   "metadata": {},
   "source": [
    "## Review Columns EDA\n",
    "### Review Date Exploration"
   ]
  },
  {
   "cell_type": "code",
   "execution_count": 144,
   "metadata": {
    "scrolled": true
   },
   "outputs": [
    {
     "data": {
      "text/plain": [
       "count                  411380\n",
       "unique                   2802\n",
       "top       2009-02-08 00:00:00\n",
       "freq                      542\n",
       "first     2004-10-12 00:00:00\n",
       "last      2012-10-22 00:00:00\n",
       "Name: date, dtype: object"
      ]
     },
     "execution_count": 144,
     "metadata": {},
     "output_type": "execute_result"
    }
   ],
   "source": [
    "df.date.describe()"
   ]
  },
  {
   "cell_type": "code",
   "execution_count": 145,
   "metadata": {},
   "outputs": [
    {
     "data": {
      "image/png": "[encoded data removed]",
      "text/plain": [
       "<Figure size 864x864 with 3 Axes>"
      ]
     },
     "metadata": {
      "needs_background": "light"
     },
     "output_type": "display_data"
    }
   ],
   "source": [
    "# Prepare the figure\n",
    "fig = plt.figure( figsize=(12,12) )\n",
    "title = fig.suptitle(\"Review Date Distribution\", fontsize=14, fontweight='bold')\n",
    "fig.subplots_adjust(top=0.9, wspace=0.3)\n",
    "\n",
    "# Prepare a subplot\n",
    "ax = fig.add_subplot(3,1,1) # https://youtu.be/afITiFR6vfw?t=1m53s\n",
    "ax.set_xlabel(\"Date\")\n",
    "ax.set_ylabel(\"Number of reviews\")\n",
    "\n",
    "# Add text into the subplot\n",
    "freq, bins, patches = ax.hist(df['date'], \n",
    "                              bins=50,\n",
    "                              color='darksalmon', \n",
    "                              edgecolor='darkred', linewidth=1.0)\n",
    "\n",
    "# Prepare a subplot\n",
    "ax2 = fig.add_subplot(3,1,2) \n",
    "ax2.set_ylabel(\"Number of fake reviews\")\n",
    "ax2.set_xlabel(\"Date\")\n",
    "\n",
    "# Add text into the subplot\n",
    "freq, bins, patches = ax2.hist(fake['date'], \n",
    "                              bins=50,\n",
    "                              color='red', \n",
    "                              edgecolor='darkred', linewidth=1.0)\n",
    "# Prepare a subplot\n",
    "ax3 = fig.add_subplot(3,1,3) \n",
    "ax3.set_ylabel(\"Number of real reviews\")\n",
    "ax3.set_xlabel(\"Date\")\n",
    "\n",
    "# Add text into the subplot\n",
    "freq, bins, patches = ax3.hist(real['date'], \n",
    "                              bins=50,\n",
    "                              color='green', \n",
    "                              edgecolor='darkred', linewidth=1.0)"
   ]
  },
  {
   "cell_type": "code",
   "execution_count": 146,
   "metadata": {},
   "outputs": [
    {
     "data": {
      "text/plain": [
       "Index(['date', 'reviewID', 'reviewerID', 'reviewContent', 'review_rating',\n",
       "       'review_usefulCount', 'review_coolCount', 'review_funnyCount',\n",
       "       'flagged', 'restaurantID', 'reviewer_name', 'location', 'yelpJoinDate',\n",
       "       'friendCount', 'reviewCount', 'firstCount', 'usefulCount', 'coolCount',\n",
       "       'funnyCount', 'complimentCount', 'tipCount', 'fanCount',\n",
       "       'restaurant_name', 'rating'],\n",
       "      dtype='object')"
      ]
     },
     "execution_count": 146,
     "metadata": {},
     "output_type": "execute_result"
    }
   ],
   "source": [
    "df.columns"
   ]
  },
  {
   "cell_type": "markdown",
   "metadata": {},
   "source": [
    "### Review Rating Exploration"
   ]
  },
  {
   "cell_type": "code",
   "execution_count": 147,
   "metadata": {
    "scrolled": false
   },
   "outputs": [
    {
     "data": {
      "text/plain": [
       "4    161943\n",
       "3     94693\n",
       "5     92069\n",
       "2     42179\n",
       "1     20496\n",
       "Name: review_rating, dtype: int64"
      ]
     },
     "execution_count": 147,
     "metadata": {},
     "output_type": "execute_result"
    }
   ],
   "source": [
    "# check review ratings\n",
    "df.review_rating.value_counts()"
   ]
  },
  {
   "cell_type": "code",
   "execution_count": 148,
   "metadata": {},
   "outputs": [
    {
     "name": "stdout",
     "output_type": "stream",
     "text": [
      "Total review count:  411380\n",
      "Total fake reviews:  223414\n",
      "Total real reviews:  187966\n"
     ]
    },
    {
     "data": {
      "image/png": "[encoded data removed]",
      "text/plain": [
       "<Figure size 864x360 with 2 Axes>"
      ]
     },
     "metadata": {
      "needs_background": "light"
     },
     "output_type": "display_data"
    }
   ],
   "source": [
    "fig = plt.figure(figsize = (12,5))\n",
    "title = fig.suptitle(\"Review Rating\", fontsize=14)\n",
    "fig.subplots_adjust(top=0.85, wspace=0.3)\n",
    "\n",
    "ax1 = fig.add_subplot(1,2, 1)\n",
    "ax1.set_title(\"Fake Review Rating Distribution\")\n",
    "ax1.set_xlabel(\"Rating\")\n",
    "ax1.set_ylabel(\"Frequency\") \n",
    "ax1.set_ylim([0, 100000])\n",
    "print('Total review count: ', df.shape[0])\n",
    "print('Total fake reviews: ' ,fake.shape[0])\n",
    "r_freq, r_bins, r_patches = ax1.hist(fake['review_rating'], color='red', bins=15,\n",
    "                                     edgecolor='black', linewidth=1)\n",
    "\n",
    "ax2 = fig.add_subplot(1,2, 2)\n",
    "ax2.set_title(\"Real Review Rating Distribution\")\n",
    "ax2.set_xlabel(\"Rating\")\n",
    "ax2.set_ylabel(\"Frequency\")\n",
    "ax2.set_ylim([0, 100000])\n",
    "print('Total real reviews: ' ,real.shape[0])\n",
    "w_freq, w_bins, w_patches = ax2.hist(real['review_rating'], color='green', bins=15,\n",
    "                                     edgecolor='black', linewidth=1)"
   ]
  },
  {
   "cell_type": "code",
   "execution_count": 149,
   "metadata": {},
   "outputs": [
    {
     "name": "stdout",
     "output_type": "stream",
     "text": [
      "Average rating for all reviews:  3.64\n",
      "Average rating for fake reviews:  3.71\n",
      "Average rating for real reviews:  3.55\n"
     ]
    }
   ],
   "source": [
    "ave_all_rating = df.review_rating.mean()\n",
    "ave_fake_rating = fake.review_rating.mean()\n",
    "ave_real_rating = real.review_rating.mean()\n",
    "print('Average rating for all reviews: ', round(ave_all_rating,2))\n",
    "print('Average rating for fake reviews: ', round(ave_fake_rating,2))\n",
    "print('Average rating for real reviews: ', round(ave_real_rating,2))"
   ]
  },
  {
   "cell_type": "markdown",
   "metadata": {},
   "source": [
    "### Review usefulCount Exploration (includes other counts)"
   ]
  },
  {
   "cell_type": "code",
   "execution_count": 150,
   "metadata": {},
   "outputs": [
    {
     "data": {
      "text/plain": [
       "Index(['date', 'reviewID', 'reviewerID', 'reviewContent', 'review_rating',\n",
       "       'review_usefulCount', 'review_coolCount', 'review_funnyCount',\n",
       "       'flagged', 'restaurantID', 'reviewer_name', 'location', 'yelpJoinDate',\n",
       "       'friendCount', 'reviewCount', 'firstCount', 'usefulCount', 'coolCount',\n",
       "       'funnyCount', 'complimentCount', 'tipCount', 'fanCount',\n",
       "       'restaurant_name', 'rating'],\n",
       "      dtype='object')"
      ]
     },
     "execution_count": 150,
     "metadata": {},
     "output_type": "execute_result"
    }
   ],
   "source": [
    "df.columns"
   ]
  },
  {
   "cell_type": "code",
   "execution_count": 151,
   "metadata": {},
   "outputs": [
    {
     "name": "stdout",
     "output_type": "stream",
     "text": [
      "Average total reviews useful counts:  1.43\n",
      "Average fake reviews useful counts:  1.22\n",
      "Average real reviews useful counts:  1.69\n"
     ]
    },
    {
     "data": {
      "image/png": "[encoded data removed]",
      "text/plain": [
       "<Figure size 864x360 with 2 Axes>"
      ]
     },
     "metadata": {
      "needs_background": "light"
     },
     "output_type": "display_data"
    }
   ],
   "source": [
    "fig = plt.figure(figsize = (12,5))\n",
    "title = fig.suptitle(\"Review Useful Count\", fontsize=14)\n",
    "fig.subplots_adjust(top=0.85, wspace=0.3)\n",
    "\n",
    "ax1 = fig.add_subplot(1,2, 1)\n",
    "ax1.set_title(\"Fake Review Useful Count Distribution\")\n",
    "ax1.set_xlabel(\"Count\")\n",
    "ax1.set_ylabel(\"Frequency\") \n",
    "ax1.set_ylim([0, 220000])\n",
    "print('Average total reviews useful counts: ', round(df['review_usefulCount'].mean(),2))\n",
    "print('Average fake reviews useful counts: ' ,round(fake['review_usefulCount'].mean(),2))\n",
    "r_freq, r_bins, r_patches = ax1.hist(fake['review_usefulCount'], color='red', bins=30,\n",
    "                                     edgecolor='black', linewidth=1)\n",
    "\n",
    "ax2 = fig.add_subplot(1,2, 2)\n",
    "ax2.set_title(\"Real Review Useful Count Distribution\")\n",
    "ax2.set_xlabel(\"Count\")\n",
    "ax2.set_ylabel(\"Frequency\")\n",
    "ax2.set_ylim([0, 220000])\n",
    "print('Average real reviews useful counts: ' ,round(real['review_usefulCount'].mean(),2))\n",
    "w_freq, w_bins, w_patches = ax2.hist(real['review_usefulCount'], color='green', bins=30,\n",
    "                                     edgecolor='black', linewidth=1)"
   ]
  },
  {
   "cell_type": "code",
   "execution_count": 152,
   "metadata": {},
   "outputs": [
    {
     "name": "stdout",
     "output_type": "stream",
     "text": [
      "Average total reviews Cool counts:  0.95\n",
      "Average fake reviews Cool counts:  0.85\n",
      "Average real reviews Cool counts:  1.06\n"
     ]
    },
    {
     "data": {
      "image/png": "[encoded data removed]",
      "text/plain": [
       "<Figure size 864x360 with 2 Axes>"
      ]
     },
     "metadata": {
      "needs_background": "light"
     },
     "output_type": "display_data"
    }
   ],
   "source": [
    "fig = plt.figure(figsize = (12,5))\n",
    "title = fig.suptitle(\"Review Cool Count\", fontsize=14)\n",
    "fig.subplots_adjust(top=0.85, wspace=0.3)\n",
    "\n",
    "ax1 = fig.add_subplot(1,2, 1)\n",
    "ax1.set_title(\"Fake Review Cool Count Distribution\")\n",
    "ax1.set_xlabel(\"Count\")\n",
    "ax1.set_ylabel(\"Frequency\") \n",
    "ax1.set_ylim([0, 220000])\n",
    "print('Average total reviews Cool counts: ', round(df['review_coolCount'].mean(),2))\n",
    "print('Average fake reviews Cool counts: ' ,round(fake['review_coolCount'].mean(),2))\n",
    "r_freq, r_bins, r_patches = ax1.hist(fake['review_coolCount'], color='red', bins=30,\n",
    "                                     edgecolor='black', linewidth=1)\n",
    "\n",
    "ax2 = fig.add_subplot(1,2, 2)\n",
    "ax2.set_title(\"Real Review Cool Count Distribution\")\n",
    "ax2.set_xlabel(\"Count\")\n",
    "ax2.set_ylabel(\"Frequency\")\n",
    "ax2.set_ylim([0, 220000])\n",
    "print('Average real reviews Cool counts: ' ,round(real['review_coolCount'].mean(),2))\n",
    "w_freq, w_bins, w_patches = ax2.hist(real['review_coolCount'], color='green', bins=30,\n",
    "                                     edgecolor='black', linewidth=1)"
   ]
  },
  {
   "cell_type": "code",
   "execution_count": 153,
   "metadata": {},
   "outputs": [
    {
     "name": "stdout",
     "output_type": "stream",
     "text": [
      "Average total reviews funny counts:  0.77\n",
      "Average fake reviews funny counts:  0.67\n",
      "Average real reviews funny counts:  0.89\n"
     ]
    },
    {
     "data": {
      "image/png": "[encoded data removed]",
      "text/plain": [
       "<Figure size 864x360 with 2 Axes>"
      ]
     },
     "metadata": {
      "needs_background": "light"
     },
     "output_type": "display_data"
    }
   ],
   "source": [
    "fig = plt.figure(figsize = (12,5))\n",
    "title = fig.suptitle(\"Review Funny Count\", fontsize=14)\n",
    "fig.subplots_adjust(top=0.85, wspace=0.3)\n",
    "\n",
    "ax1 = fig.add_subplot(1,2, 1)\n",
    "ax1.set_title(\"Fake Review Funny Count Distribution\")\n",
    "ax1.set_xlabel(\"Count\")\n",
    "ax1.set_ylabel(\"Frequency\") \n",
    "ax1.set_ylim([0, 220000])\n",
    "print('Average total reviews funny counts: ', round(df['review_funnyCount'].mean(),2))\n",
    "print('Average fake reviews funny counts: ' ,round(fake['review_funnyCount'].mean(),2))\n",
    "r_freq, r_bins, r_patches = ax1.hist(fake['review_funnyCount'], color='red', bins=30,\n",
    "                                     edgecolor='black', linewidth=1)\n",
    "\n",
    "ax2 = fig.add_subplot(1,2, 2)\n",
    "ax2.set_title(\"Real Review Funny Count Distribution\")\n",
    "ax2.set_xlabel(\"Count\")\n",
    "ax2.set_ylabel(\"Frequency\")\n",
    "ax2.set_ylim([0, 220000])\n",
    "print('Average real reviews funny counts: ' ,round(real['review_funnyCount'].mean(),2))\n",
    "w_freq, w_bins, w_patches = ax2.hist(real['review_funnyCount'], color='green', bins=30,\n",
    "                                     edgecolor='black', linewidth=1)"
   ]
  },
  {
   "cell_type": "markdown",
   "metadata": {},
   "source": [
    "## Reviewer Columns EDA\n",
    "### FriendCount"
   ]
  },
  {
   "cell_type": "code",
   "execution_count": 155,
   "metadata": {},
   "outputs": [
    {
     "data": {
      "text/plain": [
       "13815"
      ]
     },
     "execution_count": 155,
     "metadata": {},
     "output_type": "execute_result"
    }
   ],
   "source": [
    "fake.reviewerID.nunique()"
   ]
  },
  {
   "cell_type": "code",
   "execution_count": 156,
   "metadata": {},
   "outputs": [
    {
     "data": {
      "text/plain": [
       "9248"
      ]
     },
     "execution_count": 156,
     "metadata": {},
     "output_type": "execute_result"
    }
   ],
   "source": [
    "real.reviewerID.nunique()"
   ]
  },
  {
   "cell_type": "code",
   "execution_count": 157,
   "metadata": {},
   "outputs": [
    {
     "data": {
      "text/plain": [
       "14321"
      ]
     },
     "execution_count": 157,
     "metadata": {},
     "output_type": "execute_result"
    }
   ],
   "source": [
    "df.reviewerID.nunique()"
   ]
  },
  {
   "cell_type": "markdown",
   "metadata": {},
   "source": [
    "Fake review ratio:\n",
    "The number of reviews filtered as fake review / total number of reviews by the reviewer"
   ]
  },
  {
   "cell_type": "code",
   "execution_count": 195,
   "metadata": {},
   "outputs": [
    {
     "data": {
      "text/plain": [
       "Index(['date', 'reviewID', 'reviewerID', 'reviewContent', 'review_rating',\n",
       "       'review_usefulCount', 'review_coolCount', 'review_funnyCount',\n",
       "       'flagged', 'restaurantID', 'reviewer_name', 'location', 'yelpJoinDate',\n",
       "       'friendCount', 'reviewCount', 'firstCount', 'usefulCount', 'coolCount',\n",
       "       'funnyCount', 'complimentCount', 'tipCount', 'fanCount',\n",
       "       'restaurant_name', 'rating'],\n",
       "      dtype='object')"
      ]
     },
     "execution_count": 195,
     "metadata": {},
     "output_type": "execute_result"
    }
   ],
   "source": [
    "df.columns"
   ]
  },
  {
   "cell_type": "code",
   "execution_count": 201,
   "metadata": {},
   "outputs": [],
   "source": [
    "cols = ['reviewerID','reviewer_name', 'location', 'yelpJoinDate',\n",
    "        'friendCount', 'reviewCount', 'firstCount', 'usefulCount', 'coolCount',\n",
    "        'funnyCount', 'complimentCount', 'tipCount', 'fanCount']\n",
    "\n",
    "df_reviewer = df.groupby(['reviewerID'], as_index = False)['flagged'].agg({'total_review':'count', 'fake_review': 'sum'})\n",
    "df_reviewer['fake_review_ratio'] = df_reviewer['fake_review']/df_reviewer['total_review']\n",
    "df_reviewer = df_reviewer.merge(df[cols].drop_duplicates(subset = 'reviewerID'), on = 'reviewerID', how='inner')"
   ]
  },
  {
   "cell_type": "code",
   "execution_count": 203,
   "metadata": {},
   "outputs": [
    {
     "data": {
      "text/html": [
       "<div>\n",
       "<style scoped>\n",
       "    .dataframe tbody tr th:only-of-type {\n",
       "        vertical-align: middle;\n",
       "    }\n",
       "\n",
       "    .dataframe tbody tr th {\n",
       "        vertical-align: top;\n",
       "    }\n",
       "\n",
       "    .dataframe thead th {\n",
       "        text-align: right;\n",
       "    }\n",
       "</style>\n",
       "<table border=\"1\" class=\"dataframe\">\n",
       "  <thead>\n",
       "    <tr style=\"text-align: right;\">\n",
       "      <th></th>\n",
       "      <th>reviewerID</th>\n",
       "      <th>total_review</th>\n",
       "      <th>fake_review</th>\n",
       "      <th>fake_review_ratio</th>\n",
       "      <th>reviewer_name</th>\n",
       "      <th>location</th>\n",
       "      <th>yelpJoinDate</th>\n",
       "      <th>friendCount</th>\n",
       "      <th>reviewCount</th>\n",
       "      <th>firstCount</th>\n",
       "      <th>usefulCount</th>\n",
       "      <th>coolCount</th>\n",
       "      <th>funnyCount</th>\n",
       "      <th>complimentCount</th>\n",
       "      <th>tipCount</th>\n",
       "      <th>fanCount</th>\n",
       "    </tr>\n",
       "  </thead>\n",
       "  <tbody>\n",
       "    <tr>\n",
       "      <td>0</td>\n",
       "      <td>--KQJPdrU0Md97DiOliDzw</td>\n",
       "      <td>130</td>\n",
       "      <td>51</td>\n",
       "      <td>0.392308</td>\n",
       "      <td>Steven C.</td>\n",
       "      <td>Bellerose, NY</td>\n",
       "      <td>2006-01-01</td>\n",
       "      <td>87</td>\n",
       "      <td>163</td>\n",
       "      <td>9</td>\n",
       "      <td>277</td>\n",
       "      <td>169</td>\n",
       "      <td>140</td>\n",
       "      <td>135</td>\n",
       "      <td>13</td>\n",
       "      <td>5</td>\n",
       "    </tr>\n",
       "    <tr>\n",
       "      <td>1</td>\n",
       "      <td>--KXo_HCYq9hB8NOdEUMKw</td>\n",
       "      <td>2</td>\n",
       "      <td>0</td>\n",
       "      <td>0.000000</td>\n",
       "      <td>Megan MJ J.</td>\n",
       "      <td>Chicago, IL</td>\n",
       "      <td>2010-01-04</td>\n",
       "      <td>12</td>\n",
       "      <td>4</td>\n",
       "      <td>0</td>\n",
       "      <td>1</td>\n",
       "      <td>1</td>\n",
       "      <td>0</td>\n",
       "      <td>1</td>\n",
       "      <td>0</td>\n",
       "      <td>1</td>\n",
       "    </tr>\n",
       "    <tr>\n",
       "      <td>2</td>\n",
       "      <td>--Qh8yKWAvIP4V4K8ZPfHA</td>\n",
       "      <td>55</td>\n",
       "      <td>53</td>\n",
       "      <td>0.963636</td>\n",
       "      <td>Dixie cream tea Q.</td>\n",
       "      <td>Toronto, ON</td>\n",
       "      <td>2011-01-01</td>\n",
       "      <td>15</td>\n",
       "      <td>161</td>\n",
       "      <td>21</td>\n",
       "      <td>80</td>\n",
       "      <td>56</td>\n",
       "      <td>32</td>\n",
       "      <td>50</td>\n",
       "      <td>20</td>\n",
       "      <td>2</td>\n",
       "    </tr>\n",
       "    <tr>\n",
       "      <td>3</td>\n",
       "      <td>--cDU5woxccqoHW5jzxJBw</td>\n",
       "      <td>4</td>\n",
       "      <td>0</td>\n",
       "      <td>0.000000</td>\n",
       "      <td>Brian J.</td>\n",
       "      <td>Chicago, IL</td>\n",
       "      <td>2008-01-05</td>\n",
       "      <td>7</td>\n",
       "      <td>10</td>\n",
       "      <td>0</td>\n",
       "      <td>12</td>\n",
       "      <td>3</td>\n",
       "      <td>1</td>\n",
       "      <td>2</td>\n",
       "      <td>0</td>\n",
       "      <td>0</td>\n",
       "    </tr>\n",
       "    <tr>\n",
       "      <td>4</td>\n",
       "      <td>--eQVss9nAx54FWsZHZgpA</td>\n",
       "      <td>11</td>\n",
       "      <td>2</td>\n",
       "      <td>0.181818</td>\n",
       "      <td>Kc Wildman W.</td>\n",
       "      <td>Boulder, CO</td>\n",
       "      <td>2010-01-05</td>\n",
       "      <td>46</td>\n",
       "      <td>12</td>\n",
       "      <td>0</td>\n",
       "      <td>7</td>\n",
       "      <td>2</td>\n",
       "      <td>2</td>\n",
       "      <td>1</td>\n",
       "      <td>2</td>\n",
       "      <td>1</td>\n",
       "    </tr>\n",
       "  </tbody>\n",
       "</table>\n",
       "</div>"
      ],
      "text/plain": [
       "               reviewerID  total_review  fake_review  fake_review_ratio  \\\n",
       "0  --KQJPdrU0Md97DiOliDzw           130           51           0.392308   \n",
       "1  --KXo_HCYq9hB8NOdEUMKw             2            0           0.000000   \n",
       "2  --Qh8yKWAvIP4V4K8ZPfHA            55           53           0.963636   \n",
       "3  --cDU5woxccqoHW5jzxJBw             4            0           0.000000   \n",
       "4  --eQVss9nAx54FWsZHZgpA            11            2           0.181818   \n",
       "\n",
       "        reviewer_name       location yelpJoinDate  friendCount  reviewCount  \\\n",
       "0           Steven C.  Bellerose, NY   2006-01-01           87          163   \n",
       "1         Megan MJ J.    Chicago, IL   2010-01-04           12            4   \n",
       "2  Dixie cream tea Q.    Toronto, ON   2011-01-01           15          161   \n",
       "3            Brian J.    Chicago, IL   2008-01-05            7           10   \n",
       "4       Kc Wildman W.    Boulder, CO   2010-01-05           46           12   \n",
       "\n",
       "   firstCount  usefulCount  coolCount  funnyCount  complimentCount  tipCount  \\\n",
       "0           9          277        169         140              135        13   \n",
       "1           0            1          1           0                1         0   \n",
       "2          21           80         56          32               50        20   \n",
       "3           0           12          3           1                2         0   \n",
       "4           0            7          2           2                1         2   \n",
       "\n",
       "   fanCount  \n",
       "0         5  \n",
       "1         1  \n",
       "2         2  \n",
       "3         0  \n",
       "4         1  "
      ]
     },
     "execution_count": 203,
     "metadata": {},
     "output_type": "execute_result"
    }
   ],
   "source": [
    "# get a df with all the reviewers information\n",
    "df_reviewer.head()"
   ]
  },
  {
   "cell_type": "code",
   "execution_count": 209,
   "metadata": {},
   "outputs": [
    {
     "data": {
      "text/plain": [
       "Index(['reviewerID', 'total_review', 'fake_review', 'fake_review_ratio',\n",
       "       'reviewer_name', 'location', 'yelpJoinDate', 'friendCount',\n",
       "       'reviewCount', 'firstCount', 'usefulCount', 'coolCount', 'funnyCount',\n",
       "       'complimentCount', 'tipCount', 'fanCount'],\n",
       "      dtype='object')"
      ]
     },
     "execution_count": 209,
     "metadata": {},
     "output_type": "execute_result"
    }
   ],
   "source": [
    "df_reviewer.columns"
   ]
  },
  {
   "cell_type": "code",
   "execution_count": 222,
   "metadata": {},
   "outputs": [
    {
     "data": {
      "text/plain": [
       "<matplotlib.axes._subplots.AxesSubplot at 0x25fd70dfa88>"
      ]
     },
     "execution_count": 222,
     "metadata": {},
     "output_type": "execute_result"
    },
    {
     "data": {
      "image/png": "[encoded data removed]",
      "text/plain": [
       "<Figure size 720x360 with 1 Axes>"
      ]
     },
     "metadata": {
      "needs_background": "light"
     },
     "output_type": "display_data"
    }
   ],
   "source": [
    "fig = plt.figure(figsize = (10,5))\n",
    "title = fig.suptitle(\"Boxplot\", fontsize=14)\n",
    "fig.subplots_adjust(top=0.85, wspace=0.3)\n",
    "# a4_dims = (11.7, 8.27)\n",
    "# df = mylib.load_data()\n",
    "# fig, ax = pyplot.subplots(figsize=a4_dims)\n",
    "ax1 = fig.add_subplot(1,1, 1)\n",
    "sns.boxplot(x=\"variable\", y=\"value\", data=pd.melt(df_reviewer[['friendCount','reviewCount', 'firstCount', 'usefulCount',\n",
    "                                                              'coolCount', 'funnyCount','complimentCount', 'tipCount', 'fanCount']]))"
   ]
  },
  {
   "cell_type": "markdown",
   "metadata": {},
   "source": [
    "Either convert the features to categorical variables by binning them or use standard scaler."
   ]
  },
  {
   "cell_type": "code",
   "execution_count": 255,
   "metadata": {},
   "outputs": [],
   "source": [
    "def normalize(x):\n",
    "    min_ = min(x)\n",
    "    max_ = max(x)\n",
    "    return [round((i - min_) / (max_ - min_), 2) for i in x]"
   ]
  },
  {
   "cell_type": "code",
   "execution_count": 260,
   "metadata": {},
   "outputs": [],
   "source": [
    "df_reviewer['scaled_friendCount'] = normalize(df_reviewer['friendCount'])"
   ]
  },
  {
   "cell_type": "code",
   "execution_count": 263,
   "metadata": {
    "scrolled": true
   },
   "outputs": [
    {
     "data": {
      "text/plain": [
       "count    14321.000000\n",
       "mean         0.004460\n",
       "std          0.025837\n",
       "min          0.000000\n",
       "25%          0.000000\n",
       "50%          0.000000\n",
       "75%          0.000000\n",
       "max          1.000000\n",
       "Name: scaled_friendCount, dtype: float64"
      ]
     },
     "execution_count": 263,
     "metadata": {},
     "output_type": "execute_result"
    }
   ],
   "source": [
    "df_reviewer.scaled_friendCount.describe()"
   ]
  },
  {
   "cell_type": "code",
   "execution_count": null,
   "metadata": {},
   "outputs": [],
   "source": []
  }
 ],
 "metadata": {
  "kernelspec": {
   "display_name": "Python 3",
   "language": "python",
   "name": "python3"
  },
  "language_info": {
   "codemirror_mode": {
    "name": "ipython",
    "version": 3
   },
   "file_extension": ".py",
   "mimetype": "text/x-python",
   "name": "python",
   "nbconvert_exporter": "python",
   "pygments_lexer": "ipython3",
   "version": "3.7.4"
  }
 },
 "nbformat": 4,
 "nbformat_minor": 2
}
