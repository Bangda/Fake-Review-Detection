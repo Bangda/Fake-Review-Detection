{
 "cells": [
  {
   "cell_type": "markdown",
   "metadata": {},
   "source": [
    "# Fake Review Detection"
   ]
  },
  {
   "cell_type": "code",
   "execution_count": 7,
   "metadata": {},
   "outputs": [],
   "source": [
    "import pandas as pd\n",
    "pd.options.mode.chained_assignment = None\n",
    "import numpy as np\n",
    "import sqlite3\n",
    "import re\n",
    "from datetime import datetime\n",
    "import matplotlib.pyplot as plt\n",
    "import seaborn as sns\n",
    "from tqdm import tqdm"
   ]
  },
  {
   "cell_type": "markdown",
   "metadata": {},
   "source": [
    "## Load Data"
   ]
  },
  {
   "cell_type": "code",
   "execution_count": 9,
   "metadata": {},
   "outputs": [],
   "source": [
    "conn = sqlite3.connect('../data/yelpResData.db')\n",
    "conn.text_factory = lambda b: b.decode(errors = 'ignore')"
   ]
  },
  {
   "cell_type": "code",
   "execution_count": 10,
   "metadata": {
    "scrolled": false
   },
   "outputs": [
    {
     "name": "stdout",
     "output_type": "stream",
     "text": [
      "review\n",
      "restaurant\n",
      "reviewer\n"
     ]
    }
   ],
   "source": [
    "# check table names in the database\n",
    "res = conn.execute(\"SELECT name FROM sqlite_master WHERE type='table';\")\n",
    "for name in res:\n",
    "    print (name[0])"
   ]
  },
  {
   "cell_type": "markdown",
   "metadata": {},
   "source": [
    "#### Load restaurant dataset"
   ]
  },
  {
   "cell_type": "code",
   "execution_count": 11,
   "metadata": {},
   "outputs": [
    {
     "data": {
      "text/plain": [
       "Index(['restaurantID', 'name', 'location', 'reviewCount', 'rating',\n",
       "       'categories', 'address', 'Hours', 'GoodforKids', 'AcceptsCreditCards',\n",
       "       'Parking', 'Attire', 'GoodforGroups', 'PriceRange', 'TakesReservations',\n",
       "       'Delivery', 'Takeout', 'WaiterService', 'OutdoorSeating', 'WiFi',\n",
       "       'GoodFor', 'Alcohol', 'NoiseLevel', 'Ambience', 'HasTV', 'Caters',\n",
       "       'WheelchairAccessible', 'webSite', 'phoneNumber', 'filReviewCount'],\n",
       "      dtype='object')"
      ]
     },
     "execution_count": 11,
     "metadata": {},
     "output_type": "execute_result"
    }
   ],
   "source": [
    "# load restaurant table to df\n",
    "res = pd.read_sql(\"select * from restaurant;\", conn)\n",
    "res.columns"
   ]
  },
  {
   "cell_type": "code",
   "execution_count": 12,
   "metadata": {},
   "outputs": [],
   "source": [
    "# take selection columns\n",
    "columns = ['restaurantID', 'name', 'rating']\n",
    "res = res[columns]"
   ]
  },
  {
   "cell_type": "markdown",
   "metadata": {},
   "source": [
    "#### Load review dataset"
   ]
  },
  {
   "cell_type": "code",
   "execution_count": 13,
   "metadata": {},
   "outputs": [
    {
     "data": {
      "text/plain": [
       "Index(['date', 'reviewID', 'reviewerID', 'reviewContent', 'rating',\n",
       "       'usefulCount', 'coolCount', 'funnyCount', 'flagged', 'restaurantID'],\n",
       "      dtype='object')"
      ]
     },
     "execution_count": 13,
     "metadata": {},
     "output_type": "execute_result"
    }
   ],
   "source": [
    "# load review table to df\n",
    "review = pd.read_sql(\"select * from review;\", conn)\n",
    "review.columns"
   ]
  },
  {
   "cell_type": "code",
   "execution_count": 14,
   "metadata": {
    "scrolled": true
   },
   "outputs": [
    {
     "data": {
      "text/plain": [
       "NR    402774\n",
       "YR    318678\n",
       "N      58716\n",
       "Y       8303\n",
       "Name: flagged, dtype: int64"
      ]
     },
     "execution_count": 14,
     "metadata": {},
     "output_type": "execute_result"
    }
   ],
   "source": [
    "# check the classes in flagged column\n",
    "review.flagged.value_counts()"
   ]
  },
  {
   "cell_type": "markdown",
   "metadata": {},
   "source": [
    "There are 4 classes in the review dataframe. Y and N classes are not filtered by the Yelp fake review detection engine, less reliable labelling. Since we have about 700k reviews left (large enough) and the N and Y classes combined makes only 8.5% of the data, we decided to remove them, only keeping NR and YR classes.\n",
    "- NR: True review\n",
    "- YR: Fake review"
   ]
  },
  {
   "cell_type": "code",
   "execution_count": 15,
   "metadata": {
    "scrolled": false
   },
   "outputs": [],
   "source": [
    "review = review[(review.flagged != 'Y') & (review.flagged != 'N')]\n",
    "review.reset_index(drop=True,inplace=True)"
   ]
  },
  {
   "cell_type": "code",
   "execution_count": 16,
   "metadata": {},
   "outputs": [
    {
     "name": "stdout",
     "output_type": "stream",
     "text": [
      "there are no duplicated reviews\n"
     ]
    }
   ],
   "source": [
    "# checking if there are duplicated reviews\n",
    "if (review.shape[0] == review.reviewID.nunique()):\n",
    "    print('there are no duplicated reviews')\n",
    "else:\n",
    "    print('Duplicated reviews are')\n",
    "    mask = review.duplicated(subset='reviewID', keep = False)\n",
    "    review[mask]"
   ]
  },
  {
   "cell_type": "code",
   "execution_count": 17,
   "metadata": {
    "scrolled": true
   },
   "outputs": [],
   "source": [
    "# clean the date column in review\n",
    "mask = review.date.str.contains('Update')\n",
    "ok_date = review[~mask]\n",
    "notok_date = review[mask]\n",
    "notok_date['date'] = notok_date['date'].apply(lambda x: str(x).split()[2])\n",
    "review = pd.concat([ok_date, notok_date])"
   ]
  },
  {
   "cell_type": "code",
   "execution_count": 18,
   "metadata": {
    "scrolled": true
   },
   "outputs": [],
   "source": [
    "# convert date to datetime\n",
    "review.date = pd.to_datetime(review.date)"
   ]
  },
  {
   "cell_type": "markdown",
   "metadata": {},
   "source": [
    "#### Load reviewer dataset"
   ]
  },
  {
   "cell_type": "code",
   "execution_count": 19,
   "metadata": {
    "scrolled": true
   },
   "outputs": [
    {
     "data": {
      "text/plain": [
       "Index(['reviewerID', 'name', 'location', 'yelpJoinDate', 'friendCount',\n",
       "       'reviewCount', 'firstCount', 'usefulCount', 'coolCount', 'funnyCount',\n",
       "       'complimentCount', 'tipCount', 'fanCount'],\n",
       "      dtype='object')"
      ]
     },
     "execution_count": 19,
     "metadata": {},
     "output_type": "execute_result"
    }
   ],
   "source": [
    "# load reviewer table to df\n",
    "reviewer = pd.read_sql(\"select * from reviewer;\", conn)\n",
    "reviewer.columns"
   ]
  },
  {
   "cell_type": "code",
   "execution_count": 20,
   "metadata": {},
   "outputs": [
    {
     "name": "stdout",
     "output_type": "stream",
     "text": [
      "review_reviewer_intersect: {'coolCount', 'reviewerID', 'usefulCount', 'funnyCount'}\n",
      "review_res_intersect: {'rating', 'restaurantID'}\n"
     ]
    }
   ],
   "source": [
    "# repeated columns in review and reviewer\n",
    "review_reviewer_intersect = set(review.columns).intersection(set(reviewer.columns))\n",
    "review_res_intersect = set(review.columns).intersection(set(res.columns))\n",
    "\n",
    "print('review_reviewer_intersect: {}'.format(review_reviewer_intersect))\n",
    "print('review_res_intersect: {}'.format(review_res_intersect))"
   ]
  },
  {
   "cell_type": "markdown",
   "metadata": {},
   "source": [
    "Both review and reviewer df have columns coolCount, funnyCount, usefulCount. We need to differentiate them. Similarly, review and restaurant both have rating columns"
   ]
  },
  {
   "cell_type": "code",
   "execution_count": 21,
   "metadata": {},
   "outputs": [],
   "source": [
    "review = review.rename(columns={'coolCount':'review_coolCount', 'funnyCount':'review_funnyCount', \n",
    "                                'usefulCount':'review_usefulCount', 'rating': 'review_rating'})"
   ]
  },
  {
   "cell_type": "code",
   "execution_count": 22,
   "metadata": {},
   "outputs": [
    {
     "data": {
      "text/plain": [
       "numpy.datetime64('2009-01-10T00:00:00.000000000')"
      ]
     },
     "execution_count": 22,
     "metadata": {},
     "output_type": "execute_result"
    }
   ],
   "source": [
    "# the yelpJoinDate is in format 'June 2019', change it to datetime object\n",
    "reviewer['yelpJoinDate'] = reviewer['yelpJoinDate'].apply(lambda x: datetime.strftime(datetime.strptime(x, '%B %Y'), '01/%m/%Y'))\n",
    "reviewer['yelpJoinDate'] = pd.to_datetime(reviewer['yelpJoinDate'])\n",
    "reviewer['yelpJoinDate'].values[0]"
   ]
  },
  {
   "cell_type": "code",
   "execution_count": 23,
   "metadata": {},
   "outputs": [
    {
     "name": "stdout",
     "output_type": "stream",
     "text": [
      "Final df columns:\n",
      "['date', 'reviewID', 'reviewerID', 'reviewContent', 'review_rating', 'review_usefulCount', 'review_coolCount', 'review_funnyCount', 'flagged', 'restaurantID', 'name_x', 'location', 'yelpJoinDate', 'friendCount', 'reviewCount', 'firstCount', 'usefulCount', 'coolCount', 'funnyCount', 'complimentCount', 'tipCount', 'fanCount', 'name_y', 'rating']\n"
     ]
    },
    {
     "data": {
      "text/html": [
       "<div>\n",
       "<style scoped>\n",
       "    .dataframe tbody tr th:only-of-type {\n",
       "        vertical-align: middle;\n",
       "    }\n",
       "\n",
       "    .dataframe tbody tr th {\n",
       "        vertical-align: top;\n",
       "    }\n",
       "\n",
       "    .dataframe thead th {\n",
       "        text-align: right;\n",
       "    }\n",
       "</style>\n",
       "<table border=\"1\" class=\"dataframe\">\n",
       "  <thead>\n",
       "    <tr style=\"text-align: right;\">\n",
       "      <th></th>\n",
       "      <th>date</th>\n",
       "      <th>reviewID</th>\n",
       "      <th>reviewerID</th>\n",
       "      <th>reviewContent</th>\n",
       "      <th>review_rating</th>\n",
       "      <th>review_usefulCount</th>\n",
       "      <th>review_coolCount</th>\n",
       "      <th>review_funnyCount</th>\n",
       "      <th>flagged</th>\n",
       "      <th>restaurantID</th>\n",
       "      <th>...</th>\n",
       "      <th>reviewCount</th>\n",
       "      <th>firstCount</th>\n",
       "      <th>usefulCount</th>\n",
       "      <th>coolCount</th>\n",
       "      <th>funnyCount</th>\n",
       "      <th>complimentCount</th>\n",
       "      <th>tipCount</th>\n",
       "      <th>fanCount</th>\n",
       "      <th>name_y</th>\n",
       "      <th>rating</th>\n",
       "    </tr>\n",
       "  </thead>\n",
       "  <tbody>\n",
       "    <tr>\n",
       "      <td>0</td>\n",
       "      <td>2012-09-25</td>\n",
       "      <td>xvdJntJlo01tHu83-vXiRw</td>\n",
       "      <td>bNYesZ944s6IJVowOnB0iA</td>\n",
       "      <td>Good choice by our Chicago friends for our fin...</td>\n",
       "      <td>4</td>\n",
       "      <td>0</td>\n",
       "      <td>0</td>\n",
       "      <td>0</td>\n",
       "      <td>NR</td>\n",
       "      <td>KU_Ze0TpR2HgKG2OpTh2NA</td>\n",
       "      <td>...</td>\n",
       "      <td>48</td>\n",
       "      <td>5</td>\n",
       "      <td>41</td>\n",
       "      <td>5</td>\n",
       "      <td>5</td>\n",
       "      <td>2</td>\n",
       "      <td>0</td>\n",
       "      <td>1</td>\n",
       "      <td>Slurping Turtle</td>\n",
       "      <td>3.5</td>\n",
       "    </tr>\n",
       "    <tr>\n",
       "      <td>1</td>\n",
       "      <td>2012-06-23</td>\n",
       "      <td>Z4oAUd6mIOhxxDsle3trPA</td>\n",
       "      <td>BSh3h1J4mdSmEsb8FFdf0Q</td>\n",
       "      <td>I'm not a Takashi fan, so I was a bit hesitant...</td>\n",
       "      <td>4</td>\n",
       "      <td>0</td>\n",
       "      <td>0</td>\n",
       "      <td>0</td>\n",
       "      <td>YR</td>\n",
       "      <td>KU_Ze0TpR2HgKG2OpTh2NA</td>\n",
       "      <td>...</td>\n",
       "      <td>116</td>\n",
       "      <td>2</td>\n",
       "      <td>93</td>\n",
       "      <td>16</td>\n",
       "      <td>19</td>\n",
       "      <td>10</td>\n",
       "      <td>0</td>\n",
       "      <td>2</td>\n",
       "      <td>Slurping Turtle</td>\n",
       "      <td>3.5</td>\n",
       "    </tr>\n",
       "    <tr>\n",
       "      <td>2</td>\n",
       "      <td>2012-10-10</td>\n",
       "      <td>71c7BDude0l5tNjtxRZzMg</td>\n",
       "      <td>XVvbDeYn5Dk-MteNHwjC7Q</td>\n",
       "      <td>I should have read the the 3 stars and below r...</td>\n",
       "      <td>2</td>\n",
       "      <td>0</td>\n",
       "      <td>0</td>\n",
       "      <td>0</td>\n",
       "      <td>NR</td>\n",
       "      <td>KU_Ze0TpR2HgKG2OpTh2NA</td>\n",
       "      <td>...</td>\n",
       "      <td>14</td>\n",
       "      <td>1</td>\n",
       "      <td>5</td>\n",
       "      <td>1</td>\n",
       "      <td>3</td>\n",
       "      <td>0</td>\n",
       "      <td>4</td>\n",
       "      <td>1</td>\n",
       "      <td>Slurping Turtle</td>\n",
       "      <td>3.5</td>\n",
       "    </tr>\n",
       "    <tr>\n",
       "      <td>3</td>\n",
       "      <td>2011-12-15</td>\n",
       "      <td>Vrzm2xmm2aBqBRqs3yK9Zw</td>\n",
       "      <td>om5ZiponkpRqUNa3pVPiRg</td>\n",
       "      <td>It must be called slurping turtle because thei...</td>\n",
       "      <td>3</td>\n",
       "      <td>8</td>\n",
       "      <td>3</td>\n",
       "      <td>4</td>\n",
       "      <td>YR</td>\n",
       "      <td>KU_Ze0TpR2HgKG2OpTh2NA</td>\n",
       "      <td>...</td>\n",
       "      <td>2063</td>\n",
       "      <td>347</td>\n",
       "      <td>12660</td>\n",
       "      <td>9617</td>\n",
       "      <td>6682</td>\n",
       "      <td>6948</td>\n",
       "      <td>605</td>\n",
       "      <td>503</td>\n",
       "      <td>Slurping Turtle</td>\n",
       "      <td>3.5</td>\n",
       "    </tr>\n",
       "    <tr>\n",
       "      <td>4</td>\n",
       "      <td>2012-09-07</td>\n",
       "      <td>coKi6jCbVd4qSUpoE5_0iA</td>\n",
       "      <td>LZt80LbsfQ9kOz96H7c1bA</td>\n",
       "      <td>I'm surprised this place is getting so many ne...</td>\n",
       "      <td>4</td>\n",
       "      <td>2</td>\n",
       "      <td>2</td>\n",
       "      <td>1</td>\n",
       "      <td>NR</td>\n",
       "      <td>KU_Ze0TpR2HgKG2OpTh2NA</td>\n",
       "      <td>...</td>\n",
       "      <td>132</td>\n",
       "      <td>0</td>\n",
       "      <td>154</td>\n",
       "      <td>84</td>\n",
       "      <td>22</td>\n",
       "      <td>24</td>\n",
       "      <td>3</td>\n",
       "      <td>7</td>\n",
       "      <td>Slurping Turtle</td>\n",
       "      <td>3.5</td>\n",
       "    </tr>\n",
       "  </tbody>\n",
       "</table>\n",
       "<p>5 rows × 24 columns</p>\n",
       "</div>"
      ],
      "text/plain": [
       "        date                reviewID              reviewerID  \\\n",
       "0 2012-09-25  xvdJntJlo01tHu83-vXiRw  bNYesZ944s6IJVowOnB0iA   \n",
       "1 2012-06-23  Z4oAUd6mIOhxxDsle3trPA  BSh3h1J4mdSmEsb8FFdf0Q   \n",
       "2 2012-10-10  71c7BDude0l5tNjtxRZzMg  XVvbDeYn5Dk-MteNHwjC7Q   \n",
       "3 2011-12-15  Vrzm2xmm2aBqBRqs3yK9Zw  om5ZiponkpRqUNa3pVPiRg   \n",
       "4 2012-09-07  coKi6jCbVd4qSUpoE5_0iA  LZt80LbsfQ9kOz96H7c1bA   \n",
       "\n",
       "                                       reviewContent  review_rating  \\\n",
       "0  Good choice by our Chicago friends for our fin...              4   \n",
       "1  I'm not a Takashi fan, so I was a bit hesitant...              4   \n",
       "2  I should have read the the 3 stars and below r...              2   \n",
       "3  It must be called slurping turtle because thei...              3   \n",
       "4  I'm surprised this place is getting so many ne...              4   \n",
       "\n",
       "   review_usefulCount  review_coolCount  review_funnyCount flagged  \\\n",
       "0                   0                 0                  0      NR   \n",
       "1                   0                 0                  0      YR   \n",
       "2                   0                 0                  0      NR   \n",
       "3                   8                 3                  4      YR   \n",
       "4                   2                 2                  1      NR   \n",
       "\n",
       "             restaurantID  ... reviewCount firstCount usefulCount  coolCount  \\\n",
       "0  KU_Ze0TpR2HgKG2OpTh2NA  ...          48          5          41          5   \n",
       "1  KU_Ze0TpR2HgKG2OpTh2NA  ...         116          2          93         16   \n",
       "2  KU_Ze0TpR2HgKG2OpTh2NA  ...          14          1           5          1   \n",
       "3  KU_Ze0TpR2HgKG2OpTh2NA  ...        2063        347       12660       9617   \n",
       "4  KU_Ze0TpR2HgKG2OpTh2NA  ...         132          0         154         84   \n",
       "\n",
       "   funnyCount  complimentCount  tipCount  fanCount           name_y  rating  \n",
       "0           5                2         0         1  Slurping Turtle     3.5  \n",
       "1          19               10         0         2  Slurping Turtle     3.5  \n",
       "2           3                0         4         1  Slurping Turtle     3.5  \n",
       "3        6682             6948       605       503  Slurping Turtle     3.5  \n",
       "4          22               24         3         7  Slurping Turtle     3.5  \n",
       "\n",
       "[5 rows x 24 columns]"
      ]
     },
     "execution_count": 23,
     "metadata": {},
     "output_type": "execute_result"
    }
   ],
   "source": [
    "# merge the 3 tables\n",
    "df_merged = review.merge(reviewer, on='reviewerID', how='inner')\n",
    "df = df_merged.merge(res, on='restaurantID', how='inner')\n",
    "print('Final df columns:')\n",
    "print(df.columns.to_list())\n",
    "df.head()"
   ]
  },
  {
   "cell_type": "code",
   "execution_count": 24,
   "metadata": {},
   "outputs": [],
   "source": [
    "# easy loading next time\n",
    "# df.to_pickle('../data/merged_df.pkl')\n",
    "df = pd.read_pickle('../data/merged_df.pkl')"
   ]
  },
  {
   "cell_type": "code",
   "execution_count": 25,
   "metadata": {},
   "outputs": [
    {
     "data": {
      "image/png": "[encoded data removed]",
      "text/plain": [
       "<Figure size 432x288 with 1 Axes>"
      ]
     },
     "metadata": {
      "needs_background": "light"
     },
     "output_type": "display_data"
    }
   ],
   "source": [
    "fig, ax = plt.subplots(figsize=(6, 4))\n",
    "sns.countplot(x='flagged', data=df)\n",
    "plt.title(\"Count of Reviews\")\n",
    "plt.show()"
   ]
  },
  {
   "cell_type": "code",
   "execution_count": 1,
   "metadata": {},
   "outputs": [
    {
     "name": "stdout",
     "output_type": "stream",
     "text": [
      "hello\n"
     ]
    }
   ],
   "source": [
    "print(\"hello\")"
   ]
  },
  {
   "cell_type": "code",
   "execution_count": null,
   "metadata": {},
   "outputs": [],
   "source": []
  },
  {
   "cell_type": "code",
   "execution_count": null,
   "metadata": {},
   "outputs": [],
   "source": []
  }
 ],
 "metadata": {
  "kernelspec": {
   "display_name": "Python 3",
   "language": "python",
   "name": "python3"
  },
  "language_info": {
   "codemirror_mode": {
    "name": "ipython",
    "version": 3
   },
   "file_extension": ".py",
   "mimetype": "text/x-python",
   "name": "python",
   "nbconvert_exporter": "python",
   "pygments_lexer": "ipython3",
   "version": "3.7.3"
  }
 },
 "nbformat": 4,
 "nbformat_minor": 2
}
